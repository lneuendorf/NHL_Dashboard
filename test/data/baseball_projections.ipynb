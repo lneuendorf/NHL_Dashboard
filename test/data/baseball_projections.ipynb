{
 "cells": [
  {
   "cell_type": "markdown",
   "id": "biological-acrylic",
   "metadata": {},
   "source": [
    "# Baseball Batting Projections and Linear Regression Evaluation"
   ]
  },
  {
   "cell_type": "markdown",
   "id": "mechanical-peter",
   "metadata": {},
   "source": [
    "### Written by Matthew Parra\n",
    "Date: 7-13-2021\n",
    "\n",
    "Twitter: @cursesincode"
   ]
  },
  {
   "cell_type": "markdown",
   "id": "potential-farming",
   "metadata": {},
   "source": [
    "This notebook is used as a proof of concept for projecting a players batting statistics then using a Linear Regression to determine a players performance. This notebook will demonstrate my current understanding of not only baseball statistics and a players contribution to their team but also my growing knowledge of application development and the implementation of Machine Learning algorithms to help make insightful decisions. The resulting methods will be used to extend the MLB History Explorer. As this is the first of hopefully many research notebooks I will write on this topic, I decided to keep it simple and take a high level approach and attempt to predict some fundamental statistics that are key to evaluating a players batting performance and contribution to their team. The data that is used in this notebook is the same that has been used in my previous notebook, retrieved from Sean Lahman's website and formatted for use in my application.\n",
    "\n",
    "In my research, it is clear there are many avenues one can take in predicting baseball statistics. The more advanced sZymborski Projection System (ZiPS) uses data from the previous four years for players from ages 24-38, and weighs more recent seasons heavier. Steamer uses past performance and aging trends to develop a future projection for players. It also uses pitch-tracking data to help forecast pitchers. The simpler Marcel System uses only three seasons of data for a \"minimum level of competence that you should expect from any forecaster\". Considered the most accurate projection system is the ATC (Average Total Cost) projection system, which “averages” many projection systems together. The ATC System applies a different weight for each statistic for which it projects (weights are based on historical past performance).\n",
    "\n",
    "If my projections fall somewhere within a reasonable range of any of the formentioned projection systems, I would deem my projections successful. With that said, I will omit the use of age adjustments and weighted statistics (wOBA, wRC/wRC+, WAR) as the point of this notebook is to study the evaluation of baseball statistics and apply a Linear Regression, not to recreate a system that already exists.\n",
    "\n",
    "*Note: Although ZiPs and other systems may be mentioned in this notebook, the methods and any projections made here in are not meant to exactly match ZiPs or any other prediction system. ZiPs and any other system mentioned is only used as a means of comparison. I am NOT affiliated with any player, professional team, or sports analytic organizations (sports betting, evaluations, scouting, ect). Any projection created in this notebook should be treated as opinion.*\n",
    "\n",
    "To begin our journey we must import Pandas and the Lahman Baseball data needed to evaluate players."
   ]
  },
  {
   "cell_type": "code",
   "execution_count": 1,
   "id": "lesser-tattoo",
   "metadata": {},
   "outputs": [],
   "source": [
    "import pandas as pd\n",
    "import numpy as np"
   ]
  },
  {
   "cell_type": "code",
   "execution_count": 2,
   "id": "electoral-symbol",
   "metadata": {},
   "outputs": [],
   "source": [
    "batting_df = pd.read_csv('update_batting.csv')\n",
    "pitching_df = pd.read_csv('update_pitching.csv')"
   ]
  },
  {
   "cell_type": "markdown",
   "id": "raised-hormone",
   "metadata": {},
   "source": [
    "### Data Prep"
   ]
  },
  {
   "cell_type": "markdown",
   "id": "tested-treaty",
   "metadata": {},
   "source": [
    "Since the data we are using is quite extensive and covers players as far back as the dead ball era and beyond, we will need to filter the data. For our purposes, we will be evaluating only the last 4 years of a players career. Certain statistics such as the Sacrifice Fly where not tracked until 1955 and the 162 game season did not begin until 1962. We also need to consider there have been many rule changes to the game since the 1962 season. Apart from All-Time greats such as Hank Aaron and Mickey Mantel supplying unprecedented statistics, there has also been an era of known performance enhancement that is sure to affect how we evaluate past statistics. Given all the considerations of MLB's history, I will be using player data from 2006 to 2020 to evaluate batting performance and contributions. Typically position players are evaluated for their batting skills as they are typically the primary producers of runs, therefore pitchers will be removed. Although there has been a number of times a player has reached beyond 162 games, I dropped those players seasons as we need to project players within a standard length season. Filtering our data using these factors will allow us to conduct some exploratory data analysis and help us find a clear path to understanding a players contribution but also their individual performance."
   ]
  },
  {
   "cell_type": "code",
   "execution_count": 3,
   "id": "billion-junior",
   "metadata": {},
   "outputs": [],
   "source": [
    "# Filter data to ensure we are only players from 2006 - 2020\n",
    "batting_df = batting_df[(batting_df['year'] >= 2006) & (batting_df['year'] <= 2020)]"
   ]
  },
  {
   "cell_type": "code",
   "execution_count": 4,
   "id": "insured-alberta",
   "metadata": {},
   "outputs": [],
   "source": [
    "# Filter pitcher data the same as batting\n",
    "pitching_df = pitching_df[(pitching_df['year'] >= 2006) & (pitching_df['year'] <= 2020)]"
   ]
  },
  {
   "cell_type": "code",
   "execution_count": 5,
   "id": "recovered-interface",
   "metadata": {},
   "outputs": [
    {
     "data": {
      "text/plain": [
       "player_id    0\n",
       "year         0\n",
       "stint        0\n",
       "team_id      0\n",
       "league_id    0\n",
       "g            0\n",
       "ab           0\n",
       "r            0\n",
       "h            0\n",
       "double       0\n",
       "triple       0\n",
       "hr           0\n",
       "rbi          0\n",
       "sb           0\n",
       "cs           0\n",
       "bb           0\n",
       "so           0\n",
       "ibb          0\n",
       "hbp          0\n",
       "sh           0\n",
       "sf           0\n",
       "g_idp        0\n",
       "dtype: int64"
      ]
     },
     "execution_count": 5,
     "metadata": {},
     "output_type": "execute_result"
    }
   ],
   "source": [
    "# Check for NA\n",
    "batting_df.isna().sum()"
   ]
  },
  {
   "cell_type": "code",
   "execution_count": 6,
   "id": "faced-entrepreneur",
   "metadata": {},
   "outputs": [],
   "source": [
    "# Remove players that have more than 162 games played\n",
    "batting_df.drop(batting_df[batting_df.g >= 163].index, inplace = True)"
   ]
  },
  {
   "cell_type": "code",
   "execution_count": 7,
   "id": "suspected-teaching",
   "metadata": {},
   "outputs": [],
   "source": [
    "# Remove pitchers and return a dataframe of position players only\n",
    "def remove_pitch(players, df):\n",
    "    p_id = players\n",
    "    for x in p_id:\n",
    "        if x:\n",
    "            df.drop(df[df.player_id == x].index, inplace = True)\n",
    "        else:\n",
    "            pass\n",
    "    return df"
   ]
  },
  {
   "cell_type": "code",
   "execution_count": 8,
   "id": "reliable-consequence",
   "metadata": {},
   "outputs": [],
   "source": [
    "# Create a list of Pithers ID's\n",
    "pitcher_ids = pitching_df.player_id.unique()"
   ]
  },
  {
   "cell_type": "code",
   "execution_count": 9,
   "id": "opponent-lafayette",
   "metadata": {},
   "outputs": [],
   "source": [
    "# Apply the removal of pithers\n",
    "batting_df = remove_pitch(pitcher_ids, batting_df)"
   ]
  },
  {
   "cell_type": "code",
   "execution_count": 10,
   "id": "insured-evaluation",
   "metadata": {},
   "outputs": [],
   "source": [
    "# reset index so we may interate or slice through the dataframe without error\n",
    "batting_df.reset_index(drop=True,inplace=True)"
   ]
  },
  {
   "cell_type": "markdown",
   "id": "strategic-contents",
   "metadata": {},
   "source": [
    "The 2020 season was shortened due to a pandemic, therefore we need to account for the fact that the maximum games a player could participate in was only 60. To compensate for the shortened season we can multiply the 2020 data by 2.7 (since 2.7*60 = 162). Here we have a function that can ingest our current dataframe and multiply each column that matches the 2020 season by a factor of 2.7 resulting in an estimation of a full 162 game season. This estimation will be used in averaging a players performance over the past four years (2017 - 2020). This method treats all players and statistics in the dataset as equal. While this may negatively effect the accuracy of our projections in some areas, this step will aid in creating a more complete picture of a players performance throughout the last four years and their career."
   ]
  },
  {
   "cell_type": "code",
   "execution_count": 11,
   "id": "super-heater",
   "metadata": {},
   "outputs": [],
   "source": [
    "def year_factor(df):\n",
    "    column_names = df.columns\n",
    "    df_copy = df.copy()\n",
    "    mask = df_copy['year'] == 2020\n",
    "    for n, c in enumerate(column_names):\n",
    "        if n <= 4:\n",
    "            pass\n",
    "        else:\n",
    "            df_copy.loc[mask, c] = df_copy.loc[mask, c].apply(lambda x: round(x*2.7))\n",
    "    return df_copy"
   ]
  },
  {
   "cell_type": "code",
   "execution_count": 12,
   "id": "joined-telephone",
   "metadata": {},
   "outputs": [],
   "source": [
    "batting_factor = year_factor(batting_df)"
   ]
  },
  {
   "cell_type": "code",
   "execution_count": 13,
   "id": "rubber-effectiveness",
   "metadata": {},
   "outputs": [
    {
     "data": {
      "text/plain": [
       "162"
      ]
     },
     "execution_count": 13,
     "metadata": {},
     "output_type": "execute_result"
    }
   ],
   "source": [
    "batting_factor[batting_factor.year == 2020]['g'].max()"
   ]
  },
  {
   "cell_type": "markdown",
   "id": "plain-interface",
   "metadata": {},
   "source": [
    "We can see the max games for players in 2020 is 162. Now that our data is filtered and an adjustment is made for the short season, we can make some calculations that will aid our exploratory data analysis. Below are a set a functions that will calculate the statistics we will use to evaluate a players overall performance, as well as contribution to their team. To evaluate a batter we will look at their Plate Appearances, On-Base Percentage, Slugging average, On-Base Plus Slugging, and the players Runs Created. Most projection systems rely on the weighted Runs Creation of a player, which considers a weighted on-base percentage. Since we will not be considering weighted averages, we will instead perform the technical calculation along with the basic calculation and \"stolen bases\" version provided per FanGraphs (https://blogs.fangraphs.com/get-to-know-runs-created/)."
   ]
  },
  {
   "cell_type": "code",
   "execution_count": 14,
   "id": "meaning-insulin",
   "metadata": {},
   "outputs": [],
   "source": [
    "# Calculate Estimate Plate Appearence\n",
    "def calculate_pa(df):\n",
    "    ab = df.ab\n",
    "    bb = df.bb\n",
    "    hbp = df.hbp\n",
    "    sf = df.sf\n",
    "    sh = df.sh\n",
    "    return ab + bb + hbp + sf + sh\n",
    "\n",
    "\n",
    "# Calculate On-Base Percentage\n",
    "def calculate_obp(df):\n",
    "    AB = df.ab\n",
    "    Ht = df.h\n",
    "    BB = df.bb\n",
    "    HBP = df.hbp\n",
    "    SF = df.sf\n",
    "    try:\n",
    "        return (Ht + BB + HBP) / (AB + BB + HBP + SF)\n",
    "    except ZeroDivisionError :\n",
    "        return 0\n",
    "\n",
    "\n",
    "# Calculate Slugging Average\n",
    "def calculate_slg(df):\n",
    "    AB = df.ab\n",
    "    Ht = df.h\n",
    "    DBL = df.double\n",
    "    TRP = df.triple\n",
    "    HR = df.hr\n",
    "    SNG = Ht - DBL - TRP - HR\n",
    "    try:\n",
    "        return (SNG + 2*DBL + 3*TRP + 4*HR)/AB\n",
    "    except ZeroDivisionError :\n",
    "        return 0\n",
    "\n",
    "# Calculate OPS\n",
    "def calculate_ops(df):\n",
    "    slg = df.slg\n",
    "    obp = df.obp\n",
    "    return obp + slg\n",
    "\n",
    "\n",
    "# Technical\n",
    "# (H+BB-CS+HBP-GIDP)*(TB+(.26*(BB-IBB+HBP))+(.52*(SH+SF+SB)))/(AB+BB+HBP+SH+SF)\n",
    "def calculate_trc(df):\n",
    "    SNG = df.h - df.double - df.triple - df.hr\n",
    "    DBL = 2 * df.double\n",
    "    TPL = 3 * df.triple\n",
    "    HR = 4 * df.hr\n",
    "    TB = (SNG + DBL + TPL + HR)\n",
    "    calc_1 = (df.h + df.bb - df.cs + df.hbp - df.g_idp) \n",
    "    calc_2 = .26 * (df.bb - df.ibb + df.hbp)\n",
    "    calc_3 = .52 * (df.sh + df.sf + df.sb)\n",
    "    calc_4 = (df.ab + df.bb + df.hbp + df.sh + df.sf)\n",
    "    try:\n",
    "        return (((calc_1)*((TB)+(calc_2)+(calc_3)))/(calc_4))\n",
    "    except ZeroDivisionError :\n",
    "        return 0\n",
    "\n",
    "\n",
    "# Stolen Base\n",
    "# (H+BB-CS)*(TB+(.55*SB))/(AB+BB)\n",
    "def calculate_sbrc(df):\n",
    "    SNG = df.h - df.double - df.triple - df.hr\n",
    "    DBL = 2*df.double\n",
    "    TPL = 3*df.triple\n",
    "    HR = 4*df.hr\n",
    "    TB = (SNG + DBL + TPL + HR)\n",
    "    calc_1 = (df.h + df.bb - df.cs)\n",
    "    calc_2 = .55 * df.sb\n",
    "    calc_3 = df.ab + df.bb\n",
    "    try:\n",
    "        return (((calc_1) * ((TB) + (calc_2))) / calc_3)\n",
    "    except ZeroDivisionError :\n",
    "        return 0\n",
    "\n",
    "\n",
    "# Basic\n",
    "# (H+BB)*(TB)/(AB+BB)\n",
    "def calculate_brc(df):\n",
    "    SNG = df.h - df.double - df.triple - df.hr\n",
    "    DBL = 2*df.double\n",
    "    TPL = 3*df.triple\n",
    "    HR = 4*df.hr\n",
    "    TB = (SNG + DBL + TPL + HR)\n",
    "    calc_1 = (df.h + df.bb)\n",
    "    calc_2 = (df.ab + df.bb)\n",
    "    try:\n",
    "        return ((calc_1) * (TB) / (calc_2))\n",
    "    except ZeroDivisionError :\n",
    "        return 0"
   ]
  },
  {
   "cell_type": "code",
   "execution_count": 15,
   "id": "informal-plasma",
   "metadata": {},
   "outputs": [],
   "source": [
    "# Apply calculations and create new columns\n",
    "batting_factor['pa'] = batting_factor.apply(calculate_pa,axis=1)\n",
    "batting_factor['obp'] = round(batting_factor.apply(calculate_obp,axis=1),3)\n",
    "batting_factor['slg'] = round(batting_factor.apply(calculate_slg,axis=1),3)\n",
    "batting_factor['ops'] = round(batting_factor.apply(calculate_ops,axis=1),3)\n",
    "batting_factor['t_rc'] = round(batting_factor.apply(calculate_trc,axis=1))\n",
    "batting_factor['b_rc'] = round(batting_factor.apply(calculate_brc,axis=1))\n",
    "batting_factor['s_rc'] = round(batting_factor.apply(calculate_sbrc,axis=1))"
   ]
  },
  {
   "cell_type": "code",
   "execution_count": 16,
   "id": "controlled-ancient",
   "metadata": {},
   "outputs": [],
   "source": [
    "# set runs created columns to appropriate data type\n",
    "batting_type = batting_factor.astype({\"g\":'int64', \"ab\":'int64', \"r\":'int64', \"h\":'int64', \n",
    "    \"double\":'int64', \"triple\":'int64', \"hr\":'int64', \"rbi\":'int64', \"sb\":'int64', \"cs\":'int64',\n",
    "    \"bb\":'int64', \"so\":'int64', \"ibb\":'int64', \"hbp\":'int64', \"sh\":'int64', \"pa\":'int64',\n",
    "    \"sf\":'int64', \"g_idp\":'int64', \"t_rc\":'int64', \"b_rc\":'int64', \"s_rc\":'int64'})"
   ]
  },
  {
   "cell_type": "code",
   "execution_count": 17,
   "id": "intended-murray",
   "metadata": {},
   "outputs": [
    {
     "name": "stdout",
     "output_type": "stream",
     "text": [
      "<class 'pandas.core.frame.DataFrame'>\n",
      "RangeIndex: 8717 entries, 0 to 8716\n",
      "Data columns (total 29 columns):\n",
      " #   Column     Non-Null Count  Dtype  \n",
      "---  ------     --------------  -----  \n",
      " 0   player_id  8717 non-null   object \n",
      " 1   year       8717 non-null   int64  \n",
      " 2   stint      8717 non-null   int64  \n",
      " 3   team_id    8717 non-null   object \n",
      " 4   league_id  8717 non-null   object \n",
      " 5   g          8717 non-null   int64  \n",
      " 6   ab         8717 non-null   int64  \n",
      " 7   r          8717 non-null   int64  \n",
      " 8   h          8717 non-null   int64  \n",
      " 9   double     8717 non-null   int64  \n",
      " 10  triple     8717 non-null   int64  \n",
      " 11  hr         8717 non-null   int64  \n",
      " 12  rbi        8717 non-null   int64  \n",
      " 13  sb         8717 non-null   int64  \n",
      " 14  cs         8717 non-null   int64  \n",
      " 15  bb         8717 non-null   int64  \n",
      " 16  so         8717 non-null   int64  \n",
      " 17  ibb        8717 non-null   int64  \n",
      " 18  hbp        8717 non-null   int64  \n",
      " 19  sh         8717 non-null   int64  \n",
      " 20  sf         8717 non-null   int64  \n",
      " 21  g_idp      8717 non-null   int64  \n",
      " 22  pa         8717 non-null   int64  \n",
      " 23  obp        8717 non-null   float64\n",
      " 24  slg        8717 non-null   float64\n",
      " 25  ops        8717 non-null   float64\n",
      " 26  t_rc       8717 non-null   int64  \n",
      " 27  b_rc       8717 non-null   int64  \n",
      " 28  s_rc       8717 non-null   int64  \n",
      "dtypes: float64(3), int64(23), object(3)\n",
      "memory usage: 1.9+ MB\n"
     ]
    }
   ],
   "source": [
    "# Check data types\n",
    "batting_type.info()"
   ]
  },
  {
   "cell_type": "markdown",
   "id": "comfortable-fundamental",
   "metadata": {},
   "source": [
    "## Exploratory Data Analysis (EDA)"
   ]
  },
  {
   "cell_type": "markdown",
   "id": "english-shore",
   "metadata": {},
   "source": [
    "Now that our data is fully prepared, we can conduct some analysis. As I stated earlier we are trying to evaluate a players performance as well as their contribution. This includes creating projections for those players 2021 season. To begin we will look at how the number of games influences plate appearances (PA), just as plate appearances can affect a players on-base plus slugging (OPS). In turn I feel that if a player can successfully reach base, then he is more likely to contribute runs to the team. Runs win games, wins contribute to a teams ability to make the playoffs/win the World Series (not to oversimplify)."
   ]
  },
  {
   "cell_type": "markdown",
   "id": "spare-polish",
   "metadata": {},
   "source": [
    "### Regression Analysis of Players (2006-2020)"
   ]
  },
  {
   "cell_type": "markdown",
   "id": "plain-monitor",
   "metadata": {},
   "source": [
    "So that we can visualize our data we will use Seaborn and MatPlotLib to help us visualize our evaluations. At a certain point we will be using a Liner Regression to evaluate a players performance. We conduct a regression analysis of all players in the past 14 years and see if our assertion is correct."
   ]
  },
  {
   "cell_type": "code",
   "execution_count": 18,
   "id": "greek-pride",
   "metadata": {},
   "outputs": [],
   "source": [
    "import seaborn as sns\n",
    "import matplotlib.pyplot as plt\n",
    "%matplotlib inline\n",
    "\n",
    "sns.set_theme(style=\"whitegrid\")\n",
    "sns.set_context('notebook')"
   ]
  },
  {
   "cell_type": "code",
   "execution_count": 19,
   "id": "anonymous-latino",
   "metadata": {},
   "outputs": [
    {
     "data": {
      "text/plain": [
       "<seaborn.axisgrid.JointGrid at 0x1754b4af6a0>"
      ]
     },
     "execution_count": 19,
     "metadata": {},
     "output_type": "execute_result"
    },
    {
     "data": {
      "image/png": "[encoded data removed]",
      "text/plain": [
       "<Figure size 504x504 with 3 Axes>"
      ]
     },
     "metadata": {},
     "output_type": "display_data"
    }
   ],
   "source": [
    "sns.jointplot(x='g',y='pa',data=batting_type,kind='reg',height=7,line_kws={'color': 'orange'})"
   ]
  },
  {
   "cell_type": "markdown",
   "id": "enabling-knowing",
   "metadata": {},
   "source": [
    "Above we can see a strong correlation between Games played and Plate Appearances. As a player participates in a Game we can be sure they will acquire qualifying Plate Appearances."
   ]
  },
  {
   "cell_type": "code",
   "execution_count": 20,
   "id": "herbal-gates",
   "metadata": {},
   "outputs": [
    {
     "data": {
      "text/plain": [
       "<seaborn.axisgrid.JointGrid at 0x1754bd83be0>"
      ]
     },
     "execution_count": 20,
     "metadata": {},
     "output_type": "execute_result"
    },
    {
     "data": {
      "image/png": "[encoded data removed]",
      "text/plain": [
       "<Figure size 504x504 with 3 Axes>"
      ]
     },
     "metadata": {},
     "output_type": "display_data"
    }
   ],
   "source": [
    "sns.jointplot(x='pa',y='ops',data=batting_type,kind='reg',height=7,line_kws={'color': 'orange'})"
   ]
  },
  {
   "cell_type": "markdown",
   "id": "proud-reach",
   "metadata": {},
   "source": [
    "Looking at the graph above, Plate Appearances versus OPS (On-base Plus Slugging), it seems like there is only a strong correlation after 100 Plate Appearances. As a player has more qualifying Plate Appearances, it seems like we can expect an increase in that players OPS. Based on the OPS we can also assume a players OBP (On-Base Percentage) and SLG (Slugging) will increase as a player acquires more Plate Appearances."
   ]
  },
  {
   "cell_type": "code",
   "execution_count": 21,
   "id": "athletic-hayes",
   "metadata": {},
   "outputs": [
    {
     "data": {
      "text/plain": [
       "<seaborn.axisgrid.JointGrid at 0x1754bcf5ac0>"
      ]
     },
     "execution_count": 21,
     "metadata": {},
     "output_type": "execute_result"
    },
    {
     "data": {
      "image/png": "[encoded data removed]",
      "text/plain": [
       "<Figure size 504x504 with 3 Axes>"
      ]
     },
     "metadata": {},
     "output_type": "display_data"
    }
   ],
   "source": [
    "sns.jointplot(x='ops',y='t_rc',data=batting_type,kind='reg',height=7,line_kws={'color': 'orange'})"
   ]
  },
  {
   "cell_type": "markdown",
   "id": "ignored-criminal",
   "metadata": {},
   "source": [
    "Although there is not a very strong correlation demonstrated above, we can see a notable increase in Runs Created as a players OPS increase between 0.500 and 1.000. I feel it is safe to say that if a player is unable to get on base (On-Base Percentage) or hit for power (Slugging Percentage) then we can be sure that player is not likely to create many if any runs."
   ]
  },
  {
   "cell_type": "markdown",
   "id": "remarkable-confirmation",
   "metadata": {},
   "source": [
    "### Runs Created and Team/Player Performance"
   ]
  },
  {
   "cell_type": "markdown",
   "id": "renewable-bunch",
   "metadata": {},
   "source": [
    "Our current analysis supports the assertion that if a team where to have a high number of Plate Appearances resulting in an increase of On-Base Percentage and Slugging, that team would be capable of maximizing their Runs Created. A team increasing their Runs Created could translate into making the Playoffs and potentially winning the World Series. Although the point of this notebook is not to use Runs Created to predict a teams ability to make the playoffs, it seems to be a strong indicator. Below we look at the past 4 years (2017-2020) and explore how much Runs Created effects a teams ability to win a World Series much less make the Playoffs or obtain a Wild Card seat."
   ]
  },
  {
   "cell_type": "code",
   "execution_count": 22,
   "id": "executive-relevance",
   "metadata": {},
   "outputs": [],
   "source": [
    "# Sum total of a team's runs created\n",
    "# Aggregated from players with the same team_id\n",
    "def team_rc_sum(df,yr):\n",
    "    teams = df[df.year == yr].team_id.unique()\n",
    "    team_rc = pd.DataFrame([], columns=['team','rc'])\n",
    "    for z in teams:\n",
    "        total_rc = df[(df.year == yr) & (df.team_id == z)].t_rc.sum()\n",
    "        team_rc = team_rc.append({'team': z, 'rc': total_rc}, ignore_index=True)\n",
    "    return team_rc"
   ]
  },
  {
   "cell_type": "code",
   "execution_count": 23,
   "id": "hired-raising",
   "metadata": {},
   "outputs": [],
   "source": [
    "dodgers_team = team_rc_sum(batting_type,2020)"
   ]
  },
  {
   "cell_type": "code",
   "execution_count": 24,
   "id": "executed-integration",
   "metadata": {},
   "outputs": [
    {
     "data": {
      "text/plain": [
       "<AxesSubplot:xlabel='team'>"
      ]
     },
     "execution_count": 24,
     "metadata": {},
     "output_type": "execute_result"
    },
    {
     "data": {
      "image/png": "[encoded data removed]",
      "text/plain": [
       "<Figure size 864x432 with 1 Axes>"
      ]
     },
     "metadata": {},
     "output_type": "display_data"
    }
   ],
   "source": [
    "fig, ax = plt.subplots(figsize=(12,6))\n",
    "dodgers_team.plot.bar(x='team',y='rc',rot=75, ax=ax)"
   ]
  },
  {
   "cell_type": "code",
   "execution_count": 25,
   "id": "needed-strap",
   "metadata": {},
   "outputs": [
    {
     "data": {
      "text/html": [
       "<div>\n",
       "<style scoped>\n",
       "    .dataframe tbody tr th:only-of-type {\n",
       "        vertical-align: middle;\n",
       "    }\n",
       "\n",
       "    .dataframe tbody tr th {\n",
       "        vertical-align: top;\n",
       "    }\n",
       "\n",
       "    .dataframe thead th {\n",
       "        text-align: right;\n",
       "    }\n",
       "</style>\n",
       "<table border=\"1\" class=\"dataframe\">\n",
       "  <thead>\n",
       "    <tr style=\"text-align: right;\">\n",
       "      <th></th>\n",
       "      <th>team</th>\n",
       "      <th>rc</th>\n",
       "    </tr>\n",
       "  </thead>\n",
       "  <tbody>\n",
       "    <tr>\n",
       "      <th>1</th>\n",
       "      <td>ATL</td>\n",
       "      <td>1001</td>\n",
       "    </tr>\n",
       "    <tr>\n",
       "      <th>22</th>\n",
       "      <td>LAN</td>\n",
       "      <td>878</td>\n",
       "    </tr>\n",
       "    <tr>\n",
       "      <th>23</th>\n",
       "      <td>SFN</td>\n",
       "      <td>818</td>\n",
       "    </tr>\n",
       "    <tr>\n",
       "      <th>12</th>\n",
       "      <td>SDN</td>\n",
       "      <td>818</td>\n",
       "    </tr>\n",
       "    <tr>\n",
       "      <th>17</th>\n",
       "      <td>NYA</td>\n",
       "      <td>802</td>\n",
       "    </tr>\n",
       "    <tr>\n",
       "      <th>0</th>\n",
       "      <td>CHA</td>\n",
       "      <td>794</td>\n",
       "    </tr>\n",
       "    <tr>\n",
       "      <th>8</th>\n",
       "      <td>TOR</td>\n",
       "      <td>792</td>\n",
       "    </tr>\n",
       "    <tr>\n",
       "      <th>14</th>\n",
       "      <td>NYN</td>\n",
       "      <td>774</td>\n",
       "    </tr>\n",
       "    <tr>\n",
       "      <th>26</th>\n",
       "      <td>WAS</td>\n",
       "      <td>770</td>\n",
       "    </tr>\n",
       "    <tr>\n",
       "      <th>25</th>\n",
       "      <td>PHI</td>\n",
       "      <td>770</td>\n",
       "    </tr>\n",
       "    <tr>\n",
       "      <th>2</th>\n",
       "      <td>TBA</td>\n",
       "      <td>742</td>\n",
       "    </tr>\n",
       "    <tr>\n",
       "      <th>18</th>\n",
       "      <td>BOS</td>\n",
       "      <td>717</td>\n",
       "    </tr>\n",
       "    <tr>\n",
       "      <th>29</th>\n",
       "      <td>BAL</td>\n",
       "      <td>703</td>\n",
       "    </tr>\n",
       "    <tr>\n",
       "      <th>19</th>\n",
       "      <td>COL</td>\n",
       "      <td>700</td>\n",
       "    </tr>\n",
       "    <tr>\n",
       "      <th>4</th>\n",
       "      <td>MIA</td>\n",
       "      <td>674</td>\n",
       "    </tr>\n",
       "    <tr>\n",
       "      <th>11</th>\n",
       "      <td>CLE</td>\n",
       "      <td>669</td>\n",
       "    </tr>\n",
       "    <tr>\n",
       "      <th>20</th>\n",
       "      <td>MIN</td>\n",
       "      <td>667</td>\n",
       "    </tr>\n",
       "    <tr>\n",
       "      <th>10</th>\n",
       "      <td>OAK</td>\n",
       "      <td>658</td>\n",
       "    </tr>\n",
       "    <tr>\n",
       "      <th>15</th>\n",
       "      <td>HOU</td>\n",
       "      <td>655</td>\n",
       "    </tr>\n",
       "  </tbody>\n",
       "</table>\n",
       "</div>"
      ],
      "text/plain": [
       "   team    rc\n",
       "1   ATL  1001\n",
       "22  LAN   878\n",
       "23  SFN   818\n",
       "12  SDN   818\n",
       "17  NYA   802\n",
       "0   CHA   794\n",
       "8   TOR   792\n",
       "14  NYN   774\n",
       "26  WAS   770\n",
       "25  PHI   770\n",
       "2   TBA   742\n",
       "18  BOS   717\n",
       "29  BAL   703\n",
       "19  COL   700\n",
       "4   MIA   674\n",
       "11  CLE   669\n",
       "20  MIN   667\n",
       "10  OAK   658\n",
       "15  HOU   655"
      ]
     },
     "execution_count": 25,
     "metadata": {},
     "output_type": "execute_result"
    }
   ],
   "source": [
    "# Runs created total for each team in 2020\n",
    "dodgers_team[dodgers_team.rc >= 655].sort_values(by='rc',ascending=False)"
   ]
  },
  {
   "cell_type": "markdown",
   "id": "retained-payroll",
   "metadata": {},
   "source": [
    "We can all admit that 2020 was quite unorthodox and yielded an unprecedented playoff landscape. There where 16 of the 30 MLB teams that made the Playoffs in 2020, of those teams, 8 played in their leagues Division and League Championship Series. Although the Los Angeles Dodgers won the World Series, they where 1 of only 5 that managed to create approximately 800+ runs. The team with the most Runs Created was the Atlanta Braves (1001), they lost to the Dodgers in the NLCS (National League Championship Series) 4 games to 3."
   ]
  },
  {
   "cell_type": "code",
   "execution_count": 26,
   "id": "automated-toilet",
   "metadata": {},
   "outputs": [],
   "source": [
    "nationals_team = team_rc_sum(batting_type,2019)"
   ]
  },
  {
   "cell_type": "code",
   "execution_count": 27,
   "id": "eastern-updating",
   "metadata": {},
   "outputs": [
    {
     "data": {
      "text/plain": [
       "<AxesSubplot:xlabel='team'>"
      ]
     },
     "execution_count": 27,
     "metadata": {},
     "output_type": "execute_result"
    },
    {
     "data": {
      "image/png": "[encoded data removed]",
      "text/plain": [
       "<Figure size 864x432 with 1 Axes>"
      ]
     },
     "metadata": {},
     "output_type": "display_data"
    }
   ],
   "source": [
    "fig, ax = plt.subplots(figsize=(12,6))\n",
    "nationals_team.plot.bar(x='team',y='rc',rot=75, ax=ax)"
   ]
  },
  {
   "cell_type": "code",
   "execution_count": 28,
   "id": "composed-button",
   "metadata": {},
   "outputs": [
    {
     "data": {
      "text/html": [
       "<div>\n",
       "<style scoped>\n",
       "    .dataframe tbody tr th:only-of-type {\n",
       "        vertical-align: middle;\n",
       "    }\n",
       "\n",
       "    .dataframe tbody tr th {\n",
       "        vertical-align: top;\n",
       "    }\n",
       "\n",
       "    .dataframe thead th {\n",
       "        text-align: right;\n",
       "    }\n",
       "</style>\n",
       "<table border=\"1\" class=\"dataframe\">\n",
       "  <thead>\n",
       "    <tr style=\"text-align: right;\">\n",
       "      <th></th>\n",
       "      <th>team</th>\n",
       "      <th>rc</th>\n",
       "    </tr>\n",
       "  </thead>\n",
       "  <tbody>\n",
       "    <tr>\n",
       "      <th>14</th>\n",
       "      <td>HOU</td>\n",
       "      <td>962</td>\n",
       "    </tr>\n",
       "    <tr>\n",
       "      <th>16</th>\n",
       "      <td>NYA</td>\n",
       "      <td>880</td>\n",
       "    </tr>\n",
       "    <tr>\n",
       "      <th>1</th>\n",
       "      <td>ATL</td>\n",
       "      <td>875</td>\n",
       "    </tr>\n",
       "    <tr>\n",
       "      <th>19</th>\n",
       "      <td>MIN</td>\n",
       "      <td>839</td>\n",
       "    </tr>\n",
       "    <tr>\n",
       "      <th>25</th>\n",
       "      <td>BOS</td>\n",
       "      <td>836</td>\n",
       "    </tr>\n",
       "    <tr>\n",
       "      <th>20</th>\n",
       "      <td>LAN</td>\n",
       "      <td>834</td>\n",
       "    </tr>\n",
       "    <tr>\n",
       "      <th>4</th>\n",
       "      <td>WAS</td>\n",
       "      <td>815</td>\n",
       "    </tr>\n",
       "    <tr>\n",
       "      <th>22</th>\n",
       "      <td>OAK</td>\n",
       "      <td>783</td>\n",
       "    </tr>\n",
       "    <tr>\n",
       "      <th>13</th>\n",
       "      <td>COL</td>\n",
       "      <td>782</td>\n",
       "    </tr>\n",
       "    <tr>\n",
       "      <th>3</th>\n",
       "      <td>TBA</td>\n",
       "      <td>770</td>\n",
       "    </tr>\n",
       "    <tr>\n",
       "      <th>6</th>\n",
       "      <td>MIL</td>\n",
       "      <td>766</td>\n",
       "    </tr>\n",
       "    <tr>\n",
       "      <th>18</th>\n",
       "      <td>SLN</td>\n",
       "      <td>749</td>\n",
       "    </tr>\n",
       "  </tbody>\n",
       "</table>\n",
       "</div>"
      ],
      "text/plain": [
       "   team   rc\n",
       "14  HOU  962\n",
       "16  NYA  880\n",
       "1   ATL  875\n",
       "19  MIN  839\n",
       "25  BOS  836\n",
       "20  LAN  834\n",
       "4   WAS  815\n",
       "22  OAK  783\n",
       "13  COL  782\n",
       "3   TBA  770\n",
       "6   MIL  766\n",
       "18  SLN  749"
      ]
     },
     "execution_count": 28,
     "metadata": {},
     "output_type": "execute_result"
    }
   ],
   "source": [
    "# Runs created total for each team in 2019\n",
    "nationals_team[nationals_team.rc >= 749].sort_values(by='rc',ascending=False)"
   ]
  },
  {
   "cell_type": "markdown",
   "id": "auburn-institution",
   "metadata": {},
   "source": [
    "The 2019 season was historic for the Washington Nationals as it was their first World Series win in franchise history. Although the Houston Astros did not win, they managed to post the most Runs Created in the regular season (962). The Nationals created only 815 runs in the regular season and was awarded a Wild Card seat after a 93 win season. The 2018 playoffs hosted only four other teams that managed to create 800+ runs. The Boston Red Sox did not make the playoffs in spite of their 836 Runs Created in the regular season."
   ]
  },
  {
   "cell_type": "code",
   "execution_count": 29,
   "id": "unlikely-authentication",
   "metadata": {},
   "outputs": [],
   "source": [
    "Boston_team = team_rc_sum(batting_type,2018)"
   ]
  },
  {
   "cell_type": "code",
   "execution_count": 30,
   "id": "mexican-marble",
   "metadata": {},
   "outputs": [
    {
     "data": {
      "text/plain": [
       "<AxesSubplot:xlabel='team'>"
      ]
     },
     "execution_count": 30,
     "metadata": {},
     "output_type": "execute_result"
    },
    {
     "data": {
      "image/png": "[encoded data removed]",
      "text/plain": [
       "<Figure size 864x432 with 1 Axes>"
      ]
     },
     "metadata": {},
     "output_type": "display_data"
    }
   ],
   "source": [
    "fig, ax = plt.subplots(figsize=(12,6))\n",
    "Boston_team.plot.bar(x='team',y='rc',rot=75, ax=ax)"
   ]
  },
  {
   "cell_type": "code",
   "execution_count": 31,
   "id": "boolean-drinking",
   "metadata": {},
   "outputs": [
    {
     "data": {
      "text/html": [
       "<div>\n",
       "<style scoped>\n",
       "    .dataframe tbody tr th:only-of-type {\n",
       "        vertical-align: middle;\n",
       "    }\n",
       "\n",
       "    .dataframe tbody tr th {\n",
       "        vertical-align: top;\n",
       "    }\n",
       "\n",
       "    .dataframe thead th {\n",
       "        text-align: right;\n",
       "    }\n",
       "</style>\n",
       "<table border=\"1\" class=\"dataframe\">\n",
       "  <thead>\n",
       "    <tr style=\"text-align: right;\">\n",
       "      <th></th>\n",
       "      <th>team</th>\n",
       "      <th>rc</th>\n",
       "    </tr>\n",
       "  </thead>\n",
       "  <tbody>\n",
       "    <tr>\n",
       "      <th>10</th>\n",
       "      <td>CLE</td>\n",
       "      <td>819</td>\n",
       "    </tr>\n",
       "    <tr>\n",
       "      <th>3</th>\n",
       "      <td>WAS</td>\n",
       "      <td>786</td>\n",
       "    </tr>\n",
       "    <tr>\n",
       "      <th>18</th>\n",
       "      <td>NYA</td>\n",
       "      <td>783</td>\n",
       "    </tr>\n",
       "    <tr>\n",
       "      <th>25</th>\n",
       "      <td>OAK</td>\n",
       "      <td>769</td>\n",
       "    </tr>\n",
       "    <tr>\n",
       "      <th>24</th>\n",
       "      <td>LAN</td>\n",
       "      <td>744</td>\n",
       "    </tr>\n",
       "    <tr>\n",
       "      <th>1</th>\n",
       "      <td>ATL</td>\n",
       "      <td>735</td>\n",
       "    </tr>\n",
       "    <tr>\n",
       "      <th>28</th>\n",
       "      <td>BOS</td>\n",
       "      <td>729</td>\n",
       "    </tr>\n",
       "    <tr>\n",
       "      <th>17</th>\n",
       "      <td>TEX</td>\n",
       "      <td>704</td>\n",
       "    </tr>\n",
       "    <tr>\n",
       "      <th>6</th>\n",
       "      <td>MIL</td>\n",
       "      <td>701</td>\n",
       "    </tr>\n",
       "    <tr>\n",
       "      <th>16</th>\n",
       "      <td>SEA</td>\n",
       "      <td>697</td>\n",
       "    </tr>\n",
       "    <tr>\n",
       "      <th>13</th>\n",
       "      <td>HOU</td>\n",
       "      <td>686</td>\n",
       "    </tr>\n",
       "  </tbody>\n",
       "</table>\n",
       "</div>"
      ],
      "text/plain": [
       "   team   rc\n",
       "10  CLE  819\n",
       "3   WAS  786\n",
       "18  NYA  783\n",
       "25  OAK  769\n",
       "24  LAN  744\n",
       "1   ATL  735\n",
       "28  BOS  729\n",
       "17  TEX  704\n",
       "6   MIL  701\n",
       "16  SEA  697\n",
       "13  HOU  686"
      ]
     },
     "execution_count": 31,
     "metadata": {},
     "output_type": "execute_result"
    }
   ],
   "source": [
    "# Runs created total for each team in 2018\n",
    "Boston_team[Boston_team.rc >= 686].sort_values(by='rc',ascending=False)"
   ]
  },
  {
   "cell_type": "markdown",
   "id": "editorial-might",
   "metadata": {},
   "source": [
    "The 2018 season was a little underwhelming in terms of Runs Created compared to the previous two seasons. The Boston Red Sox only managed 729 Runs Created in the regular season and still won the World Series. Although the Cleveland Indians had the highest Runs Created (819), they could not push past the Division Series losing to the Houston Astros."
   ]
  },
  {
   "cell_type": "code",
   "execution_count": 32,
   "id": "large-locking",
   "metadata": {},
   "outputs": [],
   "source": [
    "houston_team = team_rc_sum(batting_type,2017)"
   ]
  },
  {
   "cell_type": "code",
   "execution_count": 33,
   "id": "conditional-manual",
   "metadata": {},
   "outputs": [
    {
     "data": {
      "text/plain": [
       "<AxesSubplot:xlabel='team'>"
      ]
     },
     "execution_count": 33,
     "metadata": {},
     "output_type": "execute_result"
    },
    {
     "data": {
      "image/png": "[encoded data removed]",
      "text/plain": [
       "<Figure size 864x432 with 1 Axes>"
      ]
     },
     "metadata": {},
     "output_type": "display_data"
    }
   ],
   "source": [
    "fig, ax = plt.subplots(figsize=(12,6))\n",
    "houston_team.plot.bar(x='team',y='rc',rot=75, ax=ax)"
   ]
  },
  {
   "cell_type": "code",
   "execution_count": 34,
   "id": "romantic-lawsuit",
   "metadata": {},
   "outputs": [
    {
     "data": {
      "text/html": [
       "<div>\n",
       "<style scoped>\n",
       "    .dataframe tbody tr th:only-of-type {\n",
       "        vertical-align: middle;\n",
       "    }\n",
       "\n",
       "    .dataframe tbody tr th {\n",
       "        vertical-align: top;\n",
       "    }\n",
       "\n",
       "    .dataframe thead th {\n",
       "        text-align: right;\n",
       "    }\n",
       "</style>\n",
       "<table border=\"1\" class=\"dataframe\">\n",
       "  <thead>\n",
       "    <tr style=\"text-align: right;\">\n",
       "      <th></th>\n",
       "      <th>team</th>\n",
       "      <th>rc</th>\n",
       "    </tr>\n",
       "  </thead>\n",
       "  <tbody>\n",
       "    <tr>\n",
       "      <th>14</th>\n",
       "      <td>HOU</td>\n",
       "      <td>893</td>\n",
       "    </tr>\n",
       "    <tr>\n",
       "      <th>22</th>\n",
       "      <td>WAS</td>\n",
       "      <td>854</td>\n",
       "    </tr>\n",
       "    <tr>\n",
       "      <th>10</th>\n",
       "      <td>CLE</td>\n",
       "      <td>844</td>\n",
       "    </tr>\n",
       "    <tr>\n",
       "      <th>18</th>\n",
       "      <td>NYA</td>\n",
       "      <td>833</td>\n",
       "    </tr>\n",
       "    <tr>\n",
       "      <th>16</th>\n",
       "      <td>MIA</td>\n",
       "      <td>791</td>\n",
       "    </tr>\n",
       "    <tr>\n",
       "      <th>2</th>\n",
       "      <td>ATL</td>\n",
       "      <td>738</td>\n",
       "    </tr>\n",
       "    <tr>\n",
       "      <th>21</th>\n",
       "      <td>LAN</td>\n",
       "      <td>735</td>\n",
       "    </tr>\n",
       "    <tr>\n",
       "      <th>12</th>\n",
       "      <td>OAK</td>\n",
       "      <td>733</td>\n",
       "    </tr>\n",
       "    <tr>\n",
       "      <th>6</th>\n",
       "      <td>ARI</td>\n",
       "      <td>708</td>\n",
       "    </tr>\n",
       "  </tbody>\n",
       "</table>\n",
       "</div>"
      ],
      "text/plain": [
       "   team   rc\n",
       "14  HOU  893\n",
       "22  WAS  854\n",
       "10  CLE  844\n",
       "18  NYA  833\n",
       "16  MIA  791\n",
       "2   ATL  738\n",
       "21  LAN  735\n",
       "12  OAK  733\n",
       "6   ARI  708"
      ]
     },
     "execution_count": 34,
     "metadata": {},
     "output_type": "execute_result"
    }
   ],
   "source": [
    "# Runs created total for each team in 2017\n",
    "houston_team[houston_team.rc >= 708].sort_values(by='rc',ascending=False)"
   ]
  },
  {
   "cell_type": "markdown",
   "id": "interesting-zealand",
   "metadata": {},
   "source": [
    "Finally, the 2017 season saw four teams reaching well above 800 Runs Created in the regular season all making the playoffs. The Houston Astros not only won the World Series, but also posted the highest Runs Created for the season (893). The Astros World Series opponents (Los Angeles Dodgers) only had 735 Runs Created. Studying regular season Runs Created for each of the past four seasons reveals that a team can certainly make it to the playoffs, although winning any post season game much less a World Series title requires more than a productive season. To dig further into Runs Created as a metric of team success, lets take a look at how each position player for the 2017 Houston Astros contributed."
   ]
  },
  {
   "cell_type": "code",
   "execution_count": 35,
   "id": "outside-level",
   "metadata": {},
   "outputs": [],
   "source": [
    "# select the 2017 Houston Astros\n",
    "houston_data = batting_type[(batting_type.year == 2017)&(batting_type.team_id == 'HOU')]"
   ]
  },
  {
   "cell_type": "code",
   "execution_count": 36,
   "id": "demanding-lodge",
   "metadata": {},
   "outputs": [
    {
     "name": "stdout",
     "output_type": "stream",
     "text": [
      "Total RC: 893\n"
     ]
    }
   ],
   "source": [
    "print('Total RC:',houston_data.t_rc.sum())"
   ]
  },
  {
   "cell_type": "code",
   "execution_count": 37,
   "id": "christian-orange",
   "metadata": {},
   "outputs": [
    {
     "data": {
      "text/plain": [
       "<AxesSubplot:xlabel='player_id'>"
      ]
     },
     "execution_count": 37,
     "metadata": {},
     "output_type": "execute_result"
    },
    {
     "data": {
      "image/png": "[encoded data removed]",
      "text/plain": [
       "<Figure size 720x432 with 1 Axes>"
      ]
     },
     "metadata": {},
     "output_type": "display_data"
    }
   ],
   "source": [
    "fig, ax = plt.subplots(figsize=(10,6))\n",
    "houston_data.plot.bar(x='player_id',y='t_rc',rot=75, ax=ax)"
   ]
  },
  {
   "cell_type": "markdown",
   "id": "racial-occasions",
   "metadata": {},
   "source": [
    "Looking at the break down of players from the 2017 Houston Astros we can see Jose Altuve was certainly an All-Star with 133 Runs Created and George Springer posting over 100 Runs Created. Additionally the Astros had 5 other players reach well over 80 Runs Created. We can see that players who can contribute to Runs Created aid in the overall success of that team."
   ]
  },
  {
   "cell_type": "markdown",
   "id": "light-savings",
   "metadata": {},
   "source": [
    "## Player Estimations\n",
    "### Games and At-Bats"
   ]
  },
  {
   "cell_type": "markdown",
   "id": "unusual-letters",
   "metadata": {},
   "source": [
    "Now that we have spent some time looking at how players can contribute to their team. We need to consider how we can attempt to predict a players batting performance. Our dataset already comes with a set of statistics that we can use to make calculations and help us understand a players performance. It would be an overkill for us to use any kind of regression algorithm to make these predictions as we have everything we need at our finger tips. For our projections (predictions) we will average each statistic needed to make our calculations while using certain statistics (Games, At-Bats, Hits) to supply a weight (the more significant a season the heavier the weight). Lets consider Alex Bregman whom has been a consistent contributor to the success of the Huston Astros, in spite of injuries.\n",
    "\n",
    "First we need to create a projection for a players Games played, if a player doesn't appear in a Game he can not contribute. We will use Bregman's past four seasons to help us make projections for his 2021 season."
   ]
  },
  {
   "cell_type": "code",
   "execution_count": 38,
   "id": "marine-aberdeen",
   "metadata": {},
   "outputs": [],
   "source": [
    "# Selecting Alex Bregman and his last four seasons\n",
    "breg_batting = batting_type[(batting_type.year >= 2017)&(batting_type.year <= 2020)&\n",
    "    (batting_type.player_id == 'bregmal01')]"
   ]
  },
  {
   "cell_type": "code",
   "execution_count": 39,
   "id": "comparable-tulsa",
   "metadata": {},
   "outputs": [
    {
     "data": {
      "image/png": "[encoded data removed]",
      "text/plain": [
       "<Figure size 576x360 with 1 Axes>"
      ]
     },
     "metadata": {},
     "output_type": "display_data"
    }
   ],
   "source": [
    "# List games totals for the last four season of Alex Bregman\n",
    "fig, ax = plt.subplots(figsize=(8,5))\n",
    "fig = sns.barplot(x='year',y='g',data=breg_batting, color='steelblue')\n",
    "plt.show(fig)"
   ]
  },
  {
   "cell_type": "markdown",
   "id": "closing-auckland",
   "metadata": {},
   "source": [
    "The 2020 season has already been accounted for earlier in this notebook and applied to our dataset. We can see that Bregman has played very consistently from 2017 to 2019. The estimated 2020 full season for Bregman was affected by the fact that he missed 17 games during the short season after straining his right hamstring. Continuing with our projection we will average Games played using the same as a weight. I decided that past seasons might be a better representation of a players Games played, although this and any of our other projections assumes that all players are equal with respect to our 2020 season estimation."
   ]
  },
  {
   "cell_type": "code",
   "execution_count": 40,
   "id": "rising-island",
   "metadata": {},
   "outputs": [],
   "source": [
    "# Calculate Games played using 4 season sample, using each season's game total as \n",
    "# a weight (Larger the total, heavier the weight)\n",
    "breg_proj_games = round(np.average(breg_batting['g'], weights=breg_batting['g']))"
   ]
  },
  {
   "cell_type": "code",
   "execution_count": 41,
   "id": "polyphonic-transportation",
   "metadata": {},
   "outputs": [
    {
     "name": "stdout",
     "output_type": "stream",
     "text": [
      "Alex Bregman - Projected Games:  148\n"
     ]
    }
   ],
   "source": [
    "print('Alex Bregman - Projected Games: ', breg_proj_games)"
   ]
  },
  {
   "cell_type": "markdown",
   "id": "starting-holly",
   "metadata": {},
   "source": [
    "We project that Bregman might have 148 games in the 2021 regular season. Now we can continue our projections by creating an At-Bats per Game rate that will help us create an average that we can use for our projection."
   ]
  },
  {
   "cell_type": "code",
   "execution_count": 42,
   "id": "engaged-hazard",
   "metadata": {},
   "outputs": [],
   "source": [
    "# Calculate the average At-Bats per Game played in a season\n",
    "def player_ab_rate(df):\n",
    "    return df.ab / df.g"
   ]
  },
  {
   "cell_type": "code",
   "execution_count": 43,
   "id": "favorite-alpha",
   "metadata": {},
   "outputs": [],
   "source": [
    "# Filter data once again to show ab/g rate for Alex Bregman from 2017 - 2020\n",
    "breg_ab_data = breg_batting.copy()"
   ]
  },
  {
   "cell_type": "code",
   "execution_count": 44,
   "id": "informational-indian",
   "metadata": {},
   "outputs": [
    {
     "data": {
      "image/png": "[encoded data removed]",
      "text/plain": [
       "<Figure size 576x360 with 1 Axes>"
      ]
     },
     "metadata": {},
     "output_type": "display_data"
    }
   ],
   "source": [
    "fig, ax = plt.subplots(figsize=(8,5))\n",
    "fig = sns.barplot(x='year',y='ab',data=breg_batting, color='steelblue')\n",
    "plt.show(fig)"
   ]
  },
  {
   "cell_type": "code",
   "execution_count": 45,
   "id": "surgical-madness",
   "metadata": {},
   "outputs": [],
   "source": [
    "# Apply the ab/g rate to a new column\n",
    "breg_ab_data['rate'] = breg_ab_data.apply(player_ab_rate,axis=1)"
   ]
  },
  {
   "cell_type": "code",
   "execution_count": 46,
   "id": "thousand-thomson",
   "metadata": {},
   "outputs": [
    {
     "data": {
      "image/png": "[encoded data removed]",
      "text/plain": [
       "<Figure size 576x360 with 1 Axes>"
      ]
     },
     "metadata": {},
     "output_type": "display_data"
    }
   ],
   "source": [
    "fig, ax = plt.subplots(figsize=(8,5))\n",
    "fig = sns.scatterplot(x=\"year\", y=\"rate\",data=breg_ab_data)\n",
    "sns.lineplot(x=\"year\", y=\"rate\",data=breg_ab_data)\n",
    "plt.show(fig)"
   ]
  },
  {
   "cell_type": "markdown",
   "id": "public-activation",
   "metadata": {},
   "source": [
    "Looking at Bregman's At-Bats per year as well as At-Bats per Game we can see a trend developing. Bregman might average the same At-Bats per Game rate, his At-Bats total is sure to be higher than the 2020 estimation."
   ]
  },
  {
   "cell_type": "code",
   "execution_count": 47,
   "id": "indian-henry",
   "metadata": {},
   "outputs": [],
   "source": [
    "breg_ab_rate = np.average(breg_ab_data['rate'], weights=breg_ab_data['g'])"
   ]
  },
  {
   "cell_type": "code",
   "execution_count": 48,
   "id": "computational-netscape",
   "metadata": {},
   "outputs": [],
   "source": [
    "# Calculate projected At-Bats by multiplying the projected number of Games by the projected AB Rate\n",
    "breg_proj_ab = round(breg_proj_games * breg_ab_rate)"
   ]
  },
  {
   "cell_type": "code",
   "execution_count": 49,
   "id": "aquatic-sussex",
   "metadata": {},
   "outputs": [
    {
     "name": "stdout",
     "output_type": "stream",
     "text": [
      "Alex Bregman - 2021 Projection\n",
      "AB/G: 3.64\n",
      "AB: 539\n"
     ]
    }
   ],
   "source": [
    "print('Alex Bregman - 2021 Projection')\n",
    "print('AB/G:', round(breg_ab_rate,2))\n",
    "print('AB:', breg_proj_ab)"
   ]
  },
  {
   "cell_type": "markdown",
   "id": "smooth-carter",
   "metadata": {},
   "source": [
    "### Plate Apperences"
   ]
  },
  {
   "cell_type": "markdown",
   "id": "personal-speed",
   "metadata": {},
   "source": [
    "With Games and At-Bats projected we can begin to explore Plate Appearances. First we need to look at the factors that make up the Plate Appearance statistic and then project each so that we can calculate Bregmans 2021 projected Plate Appearances."
   ]
  },
  {
   "cell_type": "code",
   "execution_count": 50,
   "id": "tutorial-bhutan",
   "metadata": {},
   "outputs": [
    {
     "data": {
      "image/png": "[encoded data removed]",
      "text/plain": [
       "<Figure size 576x360 with 1 Axes>"
      ]
     },
     "metadata": {},
     "output_type": "display_data"
    }
   ],
   "source": [
    "fig, ax = plt.subplots(figsize=(8,5))\n",
    "fig = sns.barplot(x='year',y='pa',data=breg_batting, color='steelblue')\n",
    "plt.show(fig)"
   ]
  },
  {
   "cell_type": "code",
   "execution_count": 51,
   "id": "young-gambling",
   "metadata": {},
   "outputs": [
    {
     "data": {
      "image/png": "[encoded data removed]",
      "text/plain": [
       "<Figure size 576x432 with 1 Axes>"
      ]
     },
     "metadata": {},
     "output_type": "display_data"
    }
   ],
   "source": [
    "fig, ax = plt.subplots(figsize=(8,6))\n",
    "fig = sns.scatterplot(x=\"year\", y=\"bb\",data=breg_batting)\n",
    "sns.lineplot(x=\"year\", y=\"bb\",data=breg_batting)\n",
    "sns.scatterplot(x=\"year\", y=\"hbp\",data=breg_batting)\n",
    "sns.lineplot(x=\"year\", y=\"hbp\",data=breg_batting)\n",
    "sns.scatterplot(x=\"year\", y=\"sh\",data=breg_batting)\n",
    "sns.lineplot(x=\"year\", y=\"sh\",data=breg_batting)\n",
    "sns.scatterplot(x=\"year\", y=\"sf\",data=breg_batting)\n",
    "sns.lineplot(x=\"year\", y=\"sf\",data=breg_batting)\n",
    "ax.legend(['bb','hbp','sh','sf'])\n",
    "plt.xlabel(\"year\")\n",
    "plt.ylabel(\"PA Factors\")\n",
    "plt.show(fig)"
   ]
  },
  {
   "cell_type": "markdown",
   "id": "peripheral-helicopter",
   "metadata": {},
   "source": [
    "Analyzing Alex Bregman's Plate Appearances and the factors (Walks, Hit-By-Pitch, Sacrifice Hits, Sacrifice Flys) we can see he began to draw more walks in 2019 showing great patience at the plate. Like Games we can average each factor but use At-Bats for weights, as a player can not draw a walk or get hit by a pitch if they do not take an At-Bat. Then we can add each factor together to create a Plate Appearance projection for Alex Bregman."
   ]
  },
  {
   "cell_type": "code",
   "execution_count": 52,
   "id": "exterior-worthy",
   "metadata": {},
   "outputs": [],
   "source": [
    "# average plate appearances and use at-bats as a weight\n",
    "breg_bb = round(np.average(breg_ab_data['bb'], weights=breg_ab_data['ab']))\n",
    "breg_hbp = round(np.average(breg_ab_data['hbp'], weights=breg_ab_data['ab']))\n",
    "breg_sh = round(np.average(breg_ab_data['sh'], weights=breg_ab_data['ab']))\n",
    "breg_sf = round(np.average(breg_ab_data['sf'], weights=breg_ab_data['ab']))"
   ]
  },
  {
   "cell_type": "code",
   "execution_count": 53,
   "id": "smoking-mississippi",
   "metadata": {},
   "outputs": [
    {
     "data": {
      "text/plain": [
       "638"
      ]
     },
     "execution_count": 53,
     "metadata": {},
     "output_type": "execute_result"
    }
   ],
   "source": [
    "# Estimate Alex Bregman Plate Apperences - 2021\n",
    "breg_proj_pa = breg_proj_ab + breg_bb + breg_hbp + breg_sh + breg_sf\n",
    "breg_proj_pa"
   ]
  },
  {
   "cell_type": "code",
   "execution_count": 54,
   "id": "provincial-witch",
   "metadata": {},
   "outputs": [
    {
     "data": {
      "text/html": [
       "<div>\n",
       "<style scoped>\n",
       "    .dataframe tbody tr th:only-of-type {\n",
       "        vertical-align: middle;\n",
       "    }\n",
       "\n",
       "    .dataframe tbody tr th {\n",
       "        vertical-align: top;\n",
       "    }\n",
       "\n",
       "    .dataframe thead th {\n",
       "        text-align: right;\n",
       "    }\n",
       "</style>\n",
       "<table border=\"1\" class=\"dataframe\">\n",
       "  <thead>\n",
       "    <tr style=\"text-align: right;\">\n",
       "      <th></th>\n",
       "      <th>player_id</th>\n",
       "      <th>year</th>\n",
       "      <th>team_id</th>\n",
       "      <th>league_id</th>\n",
       "      <th>g</th>\n",
       "      <th>ab</th>\n",
       "      <th>h</th>\n",
       "      <th>bb</th>\n",
       "      <th>hbp</th>\n",
       "      <th>sh</th>\n",
       "      <th>sf</th>\n",
       "      <th>pa</th>\n",
       "    </tr>\n",
       "  </thead>\n",
       "  <tbody>\n",
       "    <tr>\n",
       "      <th>6552</th>\n",
       "      <td>bregmal01</td>\n",
       "      <td>2017</td>\n",
       "      <td>HOU</td>\n",
       "      <td>AL</td>\n",
       "      <td>155</td>\n",
       "      <td>556</td>\n",
       "      <td>158</td>\n",
       "      <td>55</td>\n",
       "      <td>7</td>\n",
       "      <td>1</td>\n",
       "      <td>7</td>\n",
       "      <td>626</td>\n",
       "    </tr>\n",
       "    <tr>\n",
       "      <th>7106</th>\n",
       "      <td>bregmal01</td>\n",
       "      <td>2018</td>\n",
       "      <td>HOU</td>\n",
       "      <td>AL</td>\n",
       "      <td>157</td>\n",
       "      <td>594</td>\n",
       "      <td>170</td>\n",
       "      <td>96</td>\n",
       "      <td>12</td>\n",
       "      <td>0</td>\n",
       "      <td>3</td>\n",
       "      <td>705</td>\n",
       "    </tr>\n",
       "    <tr>\n",
       "      <th>7670</th>\n",
       "      <td>bregmal01</td>\n",
       "      <td>2019</td>\n",
       "      <td>HOU</td>\n",
       "      <td>AL</td>\n",
       "      <td>156</td>\n",
       "      <td>554</td>\n",
       "      <td>164</td>\n",
       "      <td>119</td>\n",
       "      <td>9</td>\n",
       "      <td>0</td>\n",
       "      <td>8</td>\n",
       "      <td>690</td>\n",
       "    </tr>\n",
       "    <tr>\n",
       "      <th>8243</th>\n",
       "      <td>bregmal01</td>\n",
       "      <td>2020</td>\n",
       "      <td>HOU</td>\n",
       "      <td>AL</td>\n",
       "      <td>113</td>\n",
       "      <td>413</td>\n",
       "      <td>100</td>\n",
       "      <td>65</td>\n",
       "      <td>5</td>\n",
       "      <td>0</td>\n",
       "      <td>3</td>\n",
       "      <td>486</td>\n",
       "    </tr>\n",
       "  </tbody>\n",
       "</table>\n",
       "</div>"
      ],
      "text/plain": [
       "      player_id  year team_id league_id    g   ab    h   bb  hbp  sh  sf   pa\n",
       "6552  bregmal01  2017     HOU        AL  155  556  158   55    7   1   7  626\n",
       "7106  bregmal01  2018     HOU        AL  157  594  170   96   12   0   3  705\n",
       "7670  bregmal01  2019     HOU        AL  156  554  164  119    9   0   8  690\n",
       "8243  bregmal01  2020     HOU        AL  113  413  100   65    5   0   3  486"
      ]
     },
     "execution_count": 54,
     "metadata": {},
     "output_type": "execute_result"
    }
   ],
   "source": [
    "# Filter data to isolate Alex Bregman from 2017 to 2020 (4 season sample)\n",
    "breg_batting.drop(['stint','r','double','triple','hr','rbi','sb','cs','so','ibb','g_idp',\n",
    "                        'obp','slg','ops','t_rc','b_rc','s_rc'],axis=1)"
   ]
  },
  {
   "cell_type": "code",
   "execution_count": 55,
   "id": "advisory-confirmation",
   "metadata": {},
   "outputs": [
    {
     "name": "stdout",
     "output_type": "stream",
     "text": [
      "Alex Bregman - 2021 Projection\n",
      "Games: 148\n",
      "At-Bats: 539\n",
      "AB/G: 3.64\n",
      "Walks: 85\n",
      "Hit-By-Pitch: 9\n",
      "Sac-Hits: 0\n",
      "Sac-Flys: 5\n",
      "Plate Apperences: 638\n"
     ]
    }
   ],
   "source": [
    "print('Alex Bregman - 2021 Projection')\n",
    "print('Games:', breg_proj_games)\n",
    "print('At-Bats:', breg_proj_ab)\n",
    "print('AB/G: {:.2f}'.format(breg_ab_rate))\n",
    "print('Walks:', breg_bb)\n",
    "print('Hit-By-Pitch:', breg_hbp)\n",
    "print('Sac-Hits:', breg_sh)\n",
    "print('Sac-Flys:', breg_sf)\n",
    "print('Plate Apperences:', breg_proj_pa)"
   ]
  },
  {
   "cell_type": "markdown",
   "id": "grateful-netherlands",
   "metadata": {},
   "source": [
    "Comparing our projection of Bregman to his past seasons, we can see he has the potential to remain on par in spite of the 2020 season."
   ]
  },
  {
   "cell_type": "markdown",
   "id": "structured-compact",
   "metadata": {},
   "source": [
    "### On-Base Percentage"
   ]
  },
  {
   "cell_type": "markdown",
   "id": "handy-advancement",
   "metadata": {},
   "source": [
    "Next we need to consider Bregman's batting performance. To measure his performance as well as any other player we can take a look at On-Base Percentage as well as Slugging. To create a complete picture of Bregman's performance we can also project his OPS (On-Base Plus Slugging)."
   ]
  },
  {
   "cell_type": "code",
   "execution_count": 56,
   "id": "inside-arbor",
   "metadata": {},
   "outputs": [
    {
     "data": {
      "image/png": "[encoded data removed]",
      "text/plain": [
       "<Figure size 576x432 with 1 Axes>"
      ]
     },
     "metadata": {},
     "output_type": "display_data"
    }
   ],
   "source": [
    "fig, ax = plt.subplots(figsize=(8,6))\n",
    "fig = sns.lineplot(x=\"year\",y=\"obp\",data=breg_batting)\n",
    "sns.scatterplot(x=\"year\",y=\"obp\",data=breg_batting)\n",
    "sns.lineplot(x=\"year\", y=\"slg\",data=breg_batting)\n",
    "sns.scatterplot(x=\"year\", y=\"slg\",data=breg_batting)\n",
    "sns.lineplot(x=\"year\", y=\"ops\",data=breg_batting)\n",
    "sns.scatterplot(x=\"year\", y=\"ops\",data=breg_batting)\n",
    "ax.legend(['obp','slg','ops'])\n",
    "plt.xlabel(\"year\")\n",
    "plt.ylabel(\"OPS Factors\")\n",
    "plt.show(fig)"
   ]
  },
  {
   "cell_type": "markdown",
   "id": "religious-portland",
   "metadata": {},
   "source": [
    "We can see that Bregman was on a significant up trend from 2017 to 2019, indicating that he may be capable of providing a notable performance for his 2021 season. To create a projection of each statistical average (OBP, SLG, OPS) we will need to include a projection for Hits, then we can calculate Bregman's On-Base Percentage (OBP). We will use At-Bat's as a weight, a player can't get a hit if he does not take an At-Bat."
   ]
  },
  {
   "cell_type": "code",
   "execution_count": 57,
   "id": "jewish-performance",
   "metadata": {},
   "outputs": [],
   "source": [
    "# Calculate a players on-base percentage\n",
    "def calculate_player_obp(AB,HT,BB,HBP,SF):\n",
    "    try:\n",
    "        return (HT + BB + HBP) / (AB + BB + HBP + SF)\n",
    "    except ZeroDivisionError :\n",
    "        return 0"
   ]
  },
  {
   "cell_type": "code",
   "execution_count": 58,
   "id": "dutch-candidate",
   "metadata": {},
   "outputs": [],
   "source": [
    "# Average hits using at-bats as a weight\n",
    "breg_h = round(np.average(breg_batting['h'], weights=breg_batting['ab']))"
   ]
  },
  {
   "cell_type": "code",
   "execution_count": 59,
   "id": "played-impact",
   "metadata": {},
   "outputs": [],
   "source": [
    "breg_proj_obp = calculate_player_obp(breg_proj_ab,breg_h,breg_bb,breg_hbp,breg_sf)"
   ]
  },
  {
   "cell_type": "markdown",
   "id": "asian-comfort",
   "metadata": {},
   "source": [
    "### Slugging Average"
   ]
  },
  {
   "cell_type": "markdown",
   "id": "bottom-lawrence",
   "metadata": {},
   "source": [
    "Continuing our projection of Alex Bregman's batting performance for 2021 we need to include a projection for Doubles, Triples, and Home Runs. Once we have the factors we need we can calculate the potential Slugging (SLG) of Bregman for 2021."
   ]
  },
  {
   "cell_type": "code",
   "execution_count": 60,
   "id": "encouraging-brazilian",
   "metadata": {},
   "outputs": [],
   "source": [
    "# Calculate Slugging Average\n",
    "def calculate_player_slg(AB,HT,DBL,TRP,HR):\n",
    "    SNG = HT - DBL - TRP - HR\n",
    "    try:\n",
    "        return (SNG + 2*DBL + 3*TRP + 4*HR)/AB\n",
    "    except ZeroDivisionError :\n",
    "        return 0"
   ]
  },
  {
   "cell_type": "code",
   "execution_count": 61,
   "id": "spatial-myanmar",
   "metadata": {},
   "outputs": [],
   "source": [
    "# average doubles, triples, and home runs with hits as weights\n",
    "breg_dbl = round(np.average(breg_batting['double'], weights=breg_batting['h']))\n",
    "breg_trp = round(np.average(breg_batting['triple'], weights=breg_batting['h']))\n",
    "breg_hr = round(np.average(breg_batting['hr'], weights=breg_batting['h']))"
   ]
  },
  {
   "cell_type": "code",
   "execution_count": 62,
   "id": "artificial-atlantic",
   "metadata": {},
   "outputs": [],
   "source": [
    "breg_proj_slg = calculate_player_slg(breg_proj_ab, breg_h, breg_dbl, breg_trp, breg_hr)"
   ]
  },
  {
   "cell_type": "markdown",
   "id": "gross-conducting",
   "metadata": {},
   "source": [
    "### On-Base Plus Slugging"
   ]
  },
  {
   "cell_type": "markdown",
   "id": "steady-landscape",
   "metadata": {},
   "source": [
    "Now that we have created On-Base Percentage (OBP) and Slugging (SLG) projections for Bregman we can simply add them together to create the On-Base Plus Slugging (OPS) projection for his 2021 season."
   ]
  },
  {
   "cell_type": "code",
   "execution_count": 63,
   "id": "turned-jacksonville",
   "metadata": {},
   "outputs": [],
   "source": [
    "breg_proj_ops = breg_proj_obp + breg_proj_slg"
   ]
  },
  {
   "cell_type": "code",
   "execution_count": 64,
   "id": "metallic-composition",
   "metadata": {},
   "outputs": [
    {
     "data": {
      "text/html": [
       "<div>\n",
       "<style scoped>\n",
       "    .dataframe tbody tr th:only-of-type {\n",
       "        vertical-align: middle;\n",
       "    }\n",
       "\n",
       "    .dataframe tbody tr th {\n",
       "        vertical-align: top;\n",
       "    }\n",
       "\n",
       "    .dataframe thead th {\n",
       "        text-align: right;\n",
       "    }\n",
       "</style>\n",
       "<table border=\"1\" class=\"dataframe\">\n",
       "  <thead>\n",
       "    <tr style=\"text-align: right;\">\n",
       "      <th></th>\n",
       "      <th>player_id</th>\n",
       "      <th>year</th>\n",
       "      <th>team_id</th>\n",
       "      <th>league_id</th>\n",
       "      <th>g</th>\n",
       "      <th>ab</th>\n",
       "      <th>h</th>\n",
       "      <th>pa</th>\n",
       "      <th>obp</th>\n",
       "      <th>slg</th>\n",
       "      <th>ops</th>\n",
       "    </tr>\n",
       "  </thead>\n",
       "  <tbody>\n",
       "    <tr>\n",
       "      <th>6552</th>\n",
       "      <td>bregmal01</td>\n",
       "      <td>2017</td>\n",
       "      <td>HOU</td>\n",
       "      <td>AL</td>\n",
       "      <td>155</td>\n",
       "      <td>556</td>\n",
       "      <td>158</td>\n",
       "      <td>626</td>\n",
       "      <td>0.352</td>\n",
       "      <td>0.475</td>\n",
       "      <td>0.827</td>\n",
       "    </tr>\n",
       "    <tr>\n",
       "      <th>7106</th>\n",
       "      <td>bregmal01</td>\n",
       "      <td>2018</td>\n",
       "      <td>HOU</td>\n",
       "      <td>AL</td>\n",
       "      <td>157</td>\n",
       "      <td>594</td>\n",
       "      <td>170</td>\n",
       "      <td>705</td>\n",
       "      <td>0.394</td>\n",
       "      <td>0.532</td>\n",
       "      <td>0.926</td>\n",
       "    </tr>\n",
       "    <tr>\n",
       "      <th>7670</th>\n",
       "      <td>bregmal01</td>\n",
       "      <td>2019</td>\n",
       "      <td>HOU</td>\n",
       "      <td>AL</td>\n",
       "      <td>156</td>\n",
       "      <td>554</td>\n",
       "      <td>164</td>\n",
       "      <td>690</td>\n",
       "      <td>0.423</td>\n",
       "      <td>0.592</td>\n",
       "      <td>1.015</td>\n",
       "    </tr>\n",
       "    <tr>\n",
       "      <th>8243</th>\n",
       "      <td>bregmal01</td>\n",
       "      <td>2020</td>\n",
       "      <td>HOU</td>\n",
       "      <td>AL</td>\n",
       "      <td>113</td>\n",
       "      <td>413</td>\n",
       "      <td>100</td>\n",
       "      <td>486</td>\n",
       "      <td>0.350</td>\n",
       "      <td>0.450</td>\n",
       "      <td>0.800</td>\n",
       "    </tr>\n",
       "  </tbody>\n",
       "</table>\n",
       "</div>"
      ],
      "text/plain": [
       "      player_id  year team_id league_id    g   ab    h   pa    obp    slg  \\\n",
       "6552  bregmal01  2017     HOU        AL  155  556  158  626  0.352  0.475   \n",
       "7106  bregmal01  2018     HOU        AL  157  594  170  705  0.394  0.532   \n",
       "7670  bregmal01  2019     HOU        AL  156  554  164  690  0.423  0.592   \n",
       "8243  bregmal01  2020     HOU        AL  113  413  100  486  0.350  0.450   \n",
       "\n",
       "        ops  \n",
       "6552  0.827  \n",
       "7106  0.926  \n",
       "7670  1.015  \n",
       "8243  0.800  "
      ]
     },
     "execution_count": 64,
     "metadata": {},
     "output_type": "execute_result"
    }
   ],
   "source": [
    "breg_batting.drop(['stint','r','double','triple','hr','rbi','sb','cs','so','ibb','g_idp','t_rc','b_rc','s_rc','bb','hbp','sh','sf'],axis=1)"
   ]
  },
  {
   "cell_type": "code",
   "execution_count": 65,
   "id": "faced-hunger",
   "metadata": {},
   "outputs": [
    {
     "name": "stdout",
     "output_type": "stream",
     "text": [
      "Bregman - 2021 Projection\n",
      "Games: 148\n",
      "AB: 539\n",
      "PA: 638\n",
      "H: 152\n",
      "OBP: 0.386\n",
      "SLG: 0.525\n",
      "OPS: 0.911\n"
     ]
    }
   ],
   "source": [
    "print('Bregman - 2021 Projection')\n",
    "print('Games:', breg_proj_games)\n",
    "print('AB:', breg_proj_ab)\n",
    "print('PA:', breg_proj_pa)\n",
    "print('H:', breg_h)\n",
    "print('OBP:', round(breg_proj_obp,3))\n",
    "print('SLG:', round(breg_proj_slg,3))\n",
    "print('OPS:', round(breg_proj_ops,3))"
   ]
  },
  {
   "cell_type": "markdown",
   "id": "loved-cabin",
   "metadata": {},
   "source": [
    "At this point we have created projections for Alex Bregman's batting performance for the 2021 season. It seems as though he has the potential to have a rock solid season."
   ]
  },
  {
   "cell_type": "markdown",
   "id": "digital-dynamics",
   "metadata": {},
   "source": [
    "### Runs Created"
   ]
  },
  {
   "cell_type": "markdown",
   "id": "weighted-omaha",
   "metadata": {},
   "source": [
    "We have a clear path to projecting a players statistics that reflect there batting performance, we now need to consider how that translates into contributing to a team's Runs Created. Lets consider Alex Bregman's Runs Created (Basic, Stolen Base, Technical)."
   ]
  },
  {
   "cell_type": "code",
   "execution_count": 66,
   "id": "german-title",
   "metadata": {},
   "outputs": [
    {
     "data": {
      "image/png": "[encoded data removed]",
      "text/plain": [
       "<Figure size 576x432 with 1 Axes>"
      ]
     },
     "metadata": {},
     "output_type": "display_data"
    }
   ],
   "source": [
    "fig, ax = plt.subplots(figsize=(8,6))\n",
    "fig = sns.lineplot(x=\"year\", y=\"b_rc\",data=breg_batting)\n",
    "sns.scatterplot(x=\"year\", y=\"b_rc\",data=breg_batting)\n",
    "sns.lineplot(x=\"year\", y=\"s_rc\",data=breg_batting)\n",
    "sns.scatterplot(x=\"year\", y=\"s_rc\",data=breg_batting)\n",
    "sns.lineplot(x=\"year\", y=\"t_rc\",data=breg_batting)\n",
    "sns.scatterplot(x=\"year\", y=\"t_rc\",data=breg_batting)\n",
    "ax.legend(['bRC','sRC','tRC'])\n",
    "plt.xlabel(\"year\")\n",
    "plt.ylabel(\"Runs Created\")\n",
    "plt.show(fig)"
   ]
  },
  {
   "cell_type": "markdown",
   "id": "understood-commerce",
   "metadata": {},
   "source": [
    "We can see, like Bregman's OPS, his Runs Created was on a significant up trend prior to the 2020 season. In order to project a players Runs Created (Basic, Stolen Base, Technical) we need to include projections for Intentional Walks (IBB), Stolen Bases (SB), Caught Stealing (CS), and Grounded Into Double Plays (GIDP). Each of the new projections will use either At-Bats or Hits as a weight factor."
   ]
  },
  {
   "cell_type": "code",
   "execution_count": 67,
   "id": "external-stretch",
   "metadata": {},
   "outputs": [],
   "source": [
    "# These functions are only used in notebook needed only to make the calculation\n",
    "# not to apply to a dataframe\n",
    "# Technical\n",
    "# (H+BB-CS+HBP-GIDP)*(TB+(.26*(BB-IBB+HBP))+(.52*(SH+SF+SB)))/(AB+BB+HBP+SH+SF)\n",
    "def calculate_player_trc(AB,H,DBL,TRP,HR,IBB,BB,HBP,SF,SH,SB,CS,GIDP):\n",
    "    SNG = H - DBL - TRP - HR\n",
    "    DB = 2 * DBL\n",
    "    TP = 3 * TRP\n",
    "    Hr = 4 * HR\n",
    "    TB = (SNG + DB + TP + Hr)\n",
    "    calc_1 = (H + BB - CS + HBP - GIDP) \n",
    "    calc_2 = .26 * (BB - IBB + HBP)\n",
    "    calc_3 = .52 * (SH + SF + SB)\n",
    "    calc_4 = (AB + BB + HBP + SH + SF)\n",
    "    try:\n",
    "        return (((calc_1)*((TB)+(calc_2)+(calc_3)))/(calc_4))\n",
    "    except ZeroDivisionError :\n",
    "        return 0\n",
    "\n",
    "\n",
    "# Stolen Base\n",
    "# (H+BB-CS)*(TB+(.55*SB))/(AB+BB)\n",
    "def calculate_player_sbrc(AB,H,DBL,TRP,HR,BB,SB,CS):\n",
    "    SNG = H - DBL - TRP - HR\n",
    "    DB = 2*DBL\n",
    "    TP = 3*TRP\n",
    "    Hr = 4*HR\n",
    "    TB = (SNG + DB + TP + Hr)\n",
    "    calc_1 = (H + BB - CS)\n",
    "    calc_2 = .55 * SB\n",
    "    calc_3 = AB + BB\n",
    "    try:\n",
    "        return (((calc_1) * ((TB) + (calc_2))) / calc_3)\n",
    "    except ZeroDivisionError :\n",
    "        return 0\n",
    "\n",
    "# Basic\n",
    "def calculate_player_brc(AB,H,DBL,TRP,HR,BB):\n",
    "    SNG = H - DBL - TRP - HR\n",
    "    DB = 2*DBL\n",
    "    TP = 3*TRP\n",
    "    Hr = 4*HR\n",
    "    TB = (SNG + DB + TP + Hr)\n",
    "    calc_1 = (H + BB)\n",
    "    calc_2 = (AB + BB)\n",
    "    try:\n",
    "        return ((calc_1) * (TB) / (calc_2))\n",
    "    except ZeroDivisionError :\n",
    "        return 0"
   ]
  },
  {
   "cell_type": "code",
   "execution_count": 68,
   "id": "adjusted-equipment",
   "metadata": {},
   "outputs": [],
   "source": [
    "# average intentional walks, stolen base, caught stealing, and grounded into double plays\n",
    "# use at-bats and hits as weights\n",
    "breg_ibb = round(np.average(breg_batting['ibb'], weights=breg_batting['ab']))\n",
    "breg_sb = round(np.average(breg_batting['sb'], weights=breg_batting['h']))\n",
    "breg_cs = round(np.average(breg_batting['cs'], weights=breg_batting['h']))\n",
    "breg_gidp = round(np.average(breg_batting['g_idp'], weights=breg_batting['ab']))"
   ]
  },
  {
   "cell_type": "code",
   "execution_count": 69,
   "id": "velvet-glass",
   "metadata": {},
   "outputs": [],
   "source": [
    "breg_proj_brc = calculate_player_brc(breg_proj_ab, breg_h, breg_dbl, breg_trp, breg_hr, breg_bb)\n",
    "breg_proj_sbrc = calculate_player_sbrc(breg_proj_ab, breg_h, breg_dbl, breg_trp, breg_hr, breg_bb,\n",
    "    breg_sb, breg_cs)\n",
    "breg_proj_trc = calculate_player_trc(breg_proj_ab, breg_h, breg_dbl, breg_trp, breg_hr, breg_ibb, \n",
    "    breg_bb, breg_hbp, breg_sf, breg_sh, breg_sb, breg_cs, breg_gidp)"
   ]
  },
  {
   "cell_type": "code",
   "execution_count": 70,
   "id": "received-contamination",
   "metadata": {},
   "outputs": [
    {
     "name": "stdout",
     "output_type": "stream",
     "text": [
      "Basic Runs Created: 107\n",
      "Stolen Base Runs Created: 108\n",
      "Technical Runs Created: 114\n"
     ]
    }
   ],
   "source": [
    "print('Basic Runs Created:', round(breg_proj_brc))\n",
    "print('Stolen Base Runs Created:', round(breg_proj_sbrc))\n",
    "print('Technical Runs Created:', round(breg_proj_trc))"
   ]
  },
  {
   "cell_type": "markdown",
   "id": "afraid-heater",
   "metadata": {},
   "source": [
    "Based on his past four seasons, Bregman has the potential of providing over 100 Runs Created in the 2021 season."
   ]
  },
  {
   "cell_type": "markdown",
   "id": "liquid-indianapolis",
   "metadata": {},
   "source": [
    "## Linear Regression"
   ]
  },
  {
   "cell_type": "markdown",
   "id": "responsible-applicant",
   "metadata": {},
   "source": [
    "Now that we have created a number of projections, we need to also consider the players performance over time. In order to evaluate a players performance throughout their career as well as the past four seasons we can use a Linear Regression. Over time a players statistics will fluctuate based on their performance, we can take the desired amount of time and fit the players statistics to a Linear Regression and observe the coefficient which will indicate the direction of performance. If a player is performing well in a given statistic the Linear Regression will return a positive coefficient otherwise it will return a negative coefficient."
   ]
  },
  {
   "cell_type": "code",
   "execution_count": 71,
   "id": "supreme-interpretation",
   "metadata": {},
   "outputs": [],
   "source": [
    "from sklearn.linear_model import LinearRegression"
   ]
  },
  {
   "cell_type": "code",
   "execution_count": 72,
   "id": "polished-watershed",
   "metadata": {},
   "outputs": [],
   "source": [
    "X = breg_batting['year'].values.reshape(-1,1)\n",
    "y = breg_batting['ops'].values.reshape(-1,1)"
   ]
  },
  {
   "cell_type": "code",
   "execution_count": 73,
   "id": "experienced-alexander",
   "metadata": {},
   "outputs": [],
   "source": [
    "player_pa_reg = LinearRegression().fit(X,y)"
   ]
  },
  {
   "cell_type": "code",
   "execution_count": 74,
   "id": "median-purple",
   "metadata": {},
   "outputs": [],
   "source": [
    "player_coef = player_pa_reg.coef_"
   ]
  },
  {
   "cell_type": "code",
   "execution_count": 75,
   "id": "after-plumbing",
   "metadata": {},
   "outputs": [
    {
     "name": "stdout",
     "output_type": "stream",
     "text": [
      "Up: 0.8\n"
     ]
    }
   ],
   "source": [
    "if round(player_coef[0][0],3) < 0:\n",
    "    print('Down:', round(player_coef[0][0] * 1000,2))\n",
    "elif round(player_coef[0][0] * 1000,2) == 0:\n",
    "    # if 0 to the 1,000 place no change\n",
    "    print('NC')\n",
    "else:\n",
    "    print('Up:', round(player_coef[0][0] * 1000,2))"
   ]
  },
  {
   "cell_type": "markdown",
   "id": "attempted-kidney",
   "metadata": {},
   "source": [
    "The coefficient returned will have the same unit size as the variable evaluated. Certain statistics such as OPS will be multiplied by 1000 to make the unit of change readable in a graph. For Alex Bregman, we can see the coefficient of his OPS is not very significant indicating little to no change in the direction of his OPS. In other words, Bregman has demonstrated no significant improvement or decline in his OPS performance."
   ]
  },
  {
   "cell_type": "markdown",
   "id": "closed-string",
   "metadata": {},
   "source": [
    "## Projection Fucntion"
   ]
  },
  {
   "cell_type": "markdown",
   "id": "continuing-ordering",
   "metadata": {},
   "source": [
    "In this notebook, we have created many projections for Alex Bregman. The method developed can also be applied to other position players whom we want to evaluate. Below, I have pulled together all the necessary support functions that will aid in projecting a player's future season. The function will take in a dataframe that has been filtered for time (Year range) and has the 2020 season estimated as a full season, if you are projecting the 2021 season, and the desired player. In this function we have also included a projection for runs, although this particular statistic is not used in any calculation we need this statistic so that we do not produce an NA column when comparing to past seasons. Additionally we also included a means to combine players stints into one year, as players may be traded mid season and have multiple stints within one season."
   ]
  },
  {
   "cell_type": "code",
   "execution_count": 76,
   "id": "combined-craps",
   "metadata": {},
   "outputs": [],
   "source": [
    "def player_project(pa_func, obp_func, slg_func, ops_func, brc_func, src_func, trc_func, data, player):\n",
    "    \n",
    "    def ab_rate(df):\n",
    "        return df.ab / df.g\n",
    "\n",
    "    player_data = data[data.player_id == player]\n",
    "\n",
    "    player_data = player_data.groupby(['year']).sum().reset_index()\n",
    "    \n",
    "    proj_games = round(np.average(player_data['g'], weights=player_data['g']))\n",
    "\n",
    "    player_data['rate'] = player_data.apply(ab_rate,axis=1)\n",
    "    player_ab_rate = np.average(player_data['rate'], weights=player_data['g'])\n",
    "    proj_ab = round(proj_games * player_ab_rate)\n",
    "\n",
    "    proj_r = round(np.average(player_data['r'], weights=player_data['ab']))\n",
    "    proj_h = round(np.average(player_data['h'], weights=player_data['ab']))\n",
    "    proj_dbl = round(np.average(player_data['double'], weights=player_data['h']))\n",
    "    proj_trp = round(np.average(player_data['triple'], weights=player_data['h']))\n",
    "    proj_hr = round(np.average(player_data['hr'], weights=player_data['h']))\n",
    "    proj_rbi = round(np.average(player_data['rbi'], weights=player_data['ab']))\n",
    "    proj_sb = round(np.average(player_data['sb'], weights=player_data['h']))\n",
    "    proj_cs = round(np.average(player_data['cs'], weights=player_data['h']))\n",
    "    proj_bb = round(np.average(player_data['bb'], weights=player_data['ab']))\n",
    "    proj_so = round(np.average(player_data['so'], weights=player_data['ab']))\n",
    "    proj_ibb = round(np.average(player_data['ibb'], weights=player_data['ab']))\n",
    "    proj_hbp = round(np.average(player_data['hbp'], weights=player_data['ab']))\n",
    "    proj_sh = round(np.average(player_data['sh'], weights=player_data['ab']))\n",
    "    proj_sf = round(np.average(player_data['sf'], weights=player_data['ab']))\n",
    "    proj_gidp = round(np.average(player_data['g_idp'], weights=player_data['ab']))\n",
    "\n",
    "    predictions = np.array([[player, 2021, 1, 'PROJ', '--', proj_games, proj_ab, proj_r, proj_h, \n",
    "        proj_dbl, proj_trp, proj_hr, proj_rbi, proj_sb, proj_cs, proj_bb, proj_so, proj_ibb, \n",
    "        proj_hbp, proj_sh, proj_sf, proj_gidp]], dtype=object)\n",
    "    \n",
    "    pred_col = data.columns\n",
    "\n",
    "    player_projection = pd.DataFrame(predictions, columns=pred_col)\n",
    "\n",
    "    player_projection['pa'] = player_projection.apply(pa_func,axis=1)\n",
    "    player_projection['obp'] = round(player_projection.apply(obp_func,axis=1),3)\n",
    "    player_projection['slg'] = round(player_projection.apply(slg_func,axis=1),3)\n",
    "    player_projection['ops'] = round(player_projection.apply(ops_func,axis=1),3)\n",
    "    player_projection['t_rc'] = round(player_projection.apply(trc_func,axis=1))\n",
    "    player_projection['b_rc'] = round(player_projection.apply(brc_func,axis=1))\n",
    "    player_projection['s_rc'] = round(player_projection.apply(src_func,axis=1))\n",
    "\n",
    "    player_projection = player_projection.astype({\"year\":'int64',\"stint\":'int64',\"g\":'int64', \n",
    "        \"ab\":'int64', \"ab\":'int64', \"h\":'int64', \"r\":'int64', \"double\":'int64',\"triple\":'int64', \n",
    "        \"hr\":'int64', \"rbi\":'int64', \"sb\":'int64', \"cs\":'int64',\"bb\":'int64', \"so\":'int64', \n",
    "        \"ibb\":'int64',\"hbp\":'int64',\"sh\":'int64', \"pa\":'int64', \"sf\":'int64', \"g_idp\":'int64', \n",
    "        \"t_rc\":'int64',\"b_rc\":'int64',\"s_rc\":'int64'})\n",
    "    \n",
    "    return player_projection"
   ]
  },
  {
   "cell_type": "markdown",
   "id": "periodic-navigation",
   "metadata": {},
   "source": [
    "With this function we can now take the steps that would be used in an application to project (estimate) a players 2021 season. First creating a clean dataset (only statistics that are provided by Lahman's Baseball Database), then slicing out the past four years (2017 to 2020), factoring in an estimation of a full 2020 season (using a global function), and then creating our projection."
   ]
  },
  {
   "cell_type": "code",
   "execution_count": 77,
   "id": "individual-light",
   "metadata": {},
   "outputs": [],
   "source": [
    "clean_data = pd.read_csv('update_batting.csv')"
   ]
  },
  {
   "cell_type": "code",
   "execution_count": 78,
   "id": "banned-dancing",
   "metadata": {},
   "outputs": [],
   "source": [
    "four_season_sample = clean_data[(clean_data.year >= 2017) & (clean_data.year <= 2020)]"
   ]
  },
  {
   "cell_type": "code",
   "execution_count": 79,
   "id": "tender-baseline",
   "metadata": {},
   "outputs": [],
   "source": [
    "four_season_sample.reset_index(drop=True,inplace=True)"
   ]
  },
  {
   "cell_type": "code",
   "execution_count": 80,
   "id": "revised-kingdom",
   "metadata": {},
   "outputs": [],
   "source": [
    "data_factor = year_factor(four_season_sample)"
   ]
  },
  {
   "cell_type": "code",
   "execution_count": 81,
   "id": "north-fifteen",
   "metadata": {},
   "outputs": [],
   "source": [
    "breg_fun_pred = player_project(calculate_pa, calculate_obp, calculate_slg, calculate_ops, calculate_brc, calculate_sbrc, calculate_trc, data_factor, 'bregmal01')"
   ]
  },
  {
   "cell_type": "code",
   "execution_count": 82,
   "id": "robust-logan",
   "metadata": {},
   "outputs": [
    {
     "data": {
      "text/html": [
       "<div>\n",
       "<style scoped>\n",
       "    .dataframe tbody tr th:only-of-type {\n",
       "        vertical-align: middle;\n",
       "    }\n",
       "\n",
       "    .dataframe tbody tr th {\n",
       "        vertical-align: top;\n",
       "    }\n",
       "\n",
       "    .dataframe thead th {\n",
       "        text-align: right;\n",
       "    }\n",
       "</style>\n",
       "<table border=\"1\" class=\"dataframe\">\n",
       "  <thead>\n",
       "    <tr style=\"text-align: right;\">\n",
       "      <th></th>\n",
       "      <th>player_id</th>\n",
       "      <th>year</th>\n",
       "      <th>stint</th>\n",
       "      <th>team_id</th>\n",
       "      <th>league_id</th>\n",
       "      <th>g</th>\n",
       "      <th>ab</th>\n",
       "      <th>r</th>\n",
       "      <th>h</th>\n",
       "      <th>double</th>\n",
       "      <th>...</th>\n",
       "      <th>sh</th>\n",
       "      <th>sf</th>\n",
       "      <th>g_idp</th>\n",
       "      <th>pa</th>\n",
       "      <th>obp</th>\n",
       "      <th>slg</th>\n",
       "      <th>ops</th>\n",
       "      <th>t_rc</th>\n",
       "      <th>b_rc</th>\n",
       "      <th>s_rc</th>\n",
       "    </tr>\n",
       "  </thead>\n",
       "  <tbody>\n",
       "    <tr>\n",
       "      <th>0</th>\n",
       "      <td>bregmal01</td>\n",
       "      <td>2021</td>\n",
       "      <td>1</td>\n",
       "      <td>PROJ</td>\n",
       "      <td>--</td>\n",
       "      <td>148</td>\n",
       "      <td>539</td>\n",
       "      <td>94</td>\n",
       "      <td>152</td>\n",
       "      <td>41</td>\n",
       "      <td>...</td>\n",
       "      <td>0</td>\n",
       "      <td>5</td>\n",
       "      <td>11</td>\n",
       "      <td>638</td>\n",
       "      <td>0.386</td>\n",
       "      <td>0.525</td>\n",
       "      <td>0.911</td>\n",
       "      <td>114</td>\n",
       "      <td>107</td>\n",
       "      <td>108</td>\n",
       "    </tr>\n",
       "  </tbody>\n",
       "</table>\n",
       "<p>1 rows × 29 columns</p>\n",
       "</div>"
      ],
      "text/plain": [
       "   player_id  year  stint team_id league_id    g   ab   r    h  double  ...  \\\n",
       "0  bregmal01  2021      1    PROJ        --  148  539  94  152      41  ...   \n",
       "\n",
       "   sh  sf  g_idp   pa    obp    slg    ops  t_rc  b_rc  s_rc  \n",
       "0   0   5     11  638  0.386  0.525  0.911   114   107   108  \n",
       "\n",
       "[1 rows x 29 columns]"
      ]
     },
     "execution_count": 82,
     "metadata": {},
     "output_type": "execute_result"
    }
   ],
   "source": [
    "breg_fun_pred"
   ]
  },
  {
   "cell_type": "code",
   "execution_count": 83,
   "id": "young-expense",
   "metadata": {},
   "outputs": [
    {
     "name": "stdout",
     "output_type": "stream",
     "text": [
      "Alex Bregman - 2021 Projection\n",
      "Games: 148\n",
      "At-Bats: 539\n",
      "PA: 638\n",
      "OBP: 0.386\n",
      "SLG: 0.525\n",
      "OPS: 0.911\n",
      "tRC: 114\n",
      "bRCa: 3.96\n"
     ]
    }
   ],
   "source": [
    "print('Alex Bregman - 2021 Projection')\n",
    "print('Games:', breg_fun_pred.g[0])\n",
    "print('At-Bats:', breg_fun_pred.ab[0])\n",
    "print('PA:', breg_fun_pred.pa[0])\n",
    "print('OBP:', breg_fun_pred.obp[0])\n",
    "print('SLG:', breg_fun_pred.slg[0])\n",
    "print('OPS:', breg_fun_pred.ops[0])\n",
    "print('tRC:', breg_fun_pred.t_rc[0])\n",
    "print('bRCa:', round((breg_fun_pred.b_rc[0] / 27),2))"
   ]
  },
  {
   "cell_type": "markdown",
   "id": "regular-british",
   "metadata": {},
   "source": [
    "We can see the projections created for Alex Bregman match the projections we created earlier. We have also used the Basic Runs Created to display a simple Runs Created Average (the averaged number of Runs Created over a 9 inning period or 27 outs). Next we can use the coefficient concept demonstrated earlier to provide an evaluation of that players performance. Similar to our projection function, the Linear Regression evaluation function will take in a dataframe and desired player and provide coefficients for each statistic."
   ]
  },
  {
   "cell_type": "code",
   "execution_count": 84,
   "id": "federal-hydrogen",
   "metadata": {},
   "outputs": [],
   "source": [
    "def player_lr_eval(df,player):\n",
    "\n",
    "    def player_lrce(df,c):\n",
    "        X = df.year.values.reshape(-1,1)\n",
    "        y = df[c].values.reshape(-1,1)\n",
    "        player_reg = LinearRegression().fit(X,y)\n",
    "        if c == 'obp':\n",
    "            return_value = player_reg.coef_\n",
    "            return return_value[0][0] * 1000\n",
    "        if c == 'slg':\n",
    "            return_value = player_reg.coef_\n",
    "            return return_value[0][0] * 1000\n",
    "        if c == 'ops':\n",
    "            return_value = player_reg.coef_\n",
    "            return return_value[0][0] * 1000\n",
    "        else:\n",
    "            return_value = player_reg.coef_\n",
    "            return return_value[0][0]\n",
    "    \n",
    "    column_names = df.columns\n",
    "\n",
    "    df_copy = df.copy()\n",
    "    df_copy = df_copy.groupby(['year']).sum().reset_index()\n",
    "    \n",
    "    data = [player,2021,1,'EVAL','--']\n",
    "    \n",
    "    for n, c in enumerate(column_names):\n",
    "        if n <= 4:\n",
    "            pass\n",
    "        else:\n",
    "            value = player_lrce(df_copy,c)\n",
    "            data.append(value)\n",
    "\n",
    "    df_copy['player_id'] = player\n",
    "    df_copy['team_id'] = df.team_id\n",
    "    df_copy['league_id'] = df.league_id\n",
    "    \n",
    "    # shift column 'Name' to first position\n",
    "    first_col = df_copy.pop('player_id')\n",
    "    fourth_col = df_copy.pop('team_id')\n",
    "    fifth_col = df_copy.pop('league_id')\n",
    "    \n",
    "    # insert column using insert(position,column_name,\n",
    "    # first_column) function\n",
    "    df_copy.insert(0, 'player_id', first_col)\n",
    "    df_copy.insert(3, 'team_id', fourth_col)\n",
    "    df_copy.insert(4, 'league_id', fifth_col)\n",
    "\n",
    "    df_copy.loc[len(df_copy.index)] = data\n",
    "\n",
    "    return df_copy"
   ]
  },
  {
   "cell_type": "markdown",
   "id": "popular-preliminary",
   "metadata": {},
   "source": [
    "Lets take a look at Bregman's statistics for the last four season with the an estimated 2020 full season and the 2021 season projection included."
   ]
  },
  {
   "cell_type": "code",
   "execution_count": 85,
   "id": "three-repeat",
   "metadata": {},
   "outputs": [],
   "source": [
    "# Append projection data to the last four seasons of Bregman's career\n",
    "breg_batting_proj = breg_batting.append(breg_fun_pred, ignore_index=True)"
   ]
  },
  {
   "cell_type": "code",
   "execution_count": 86,
   "id": "younger-fiction",
   "metadata": {},
   "outputs": [
    {
     "data": {
      "text/html": [
       "<div>\n",
       "<style scoped>\n",
       "    .dataframe tbody tr th:only-of-type {\n",
       "        vertical-align: middle;\n",
       "    }\n",
       "\n",
       "    .dataframe tbody tr th {\n",
       "        vertical-align: top;\n",
       "    }\n",
       "\n",
       "    .dataframe thead th {\n",
       "        text-align: right;\n",
       "    }\n",
       "</style>\n",
       "<table border=\"1\" class=\"dataframe\">\n",
       "  <thead>\n",
       "    <tr style=\"text-align: right;\">\n",
       "      <th></th>\n",
       "      <th>player_id</th>\n",
       "      <th>year</th>\n",
       "      <th>stint</th>\n",
       "      <th>team_id</th>\n",
       "      <th>league_id</th>\n",
       "      <th>g</th>\n",
       "      <th>ab</th>\n",
       "      <th>r</th>\n",
       "      <th>h</th>\n",
       "      <th>double</th>\n",
       "      <th>...</th>\n",
       "      <th>sh</th>\n",
       "      <th>sf</th>\n",
       "      <th>g_idp</th>\n",
       "      <th>pa</th>\n",
       "      <th>obp</th>\n",
       "      <th>slg</th>\n",
       "      <th>ops</th>\n",
       "      <th>t_rc</th>\n",
       "      <th>b_rc</th>\n",
       "      <th>s_rc</th>\n",
       "    </tr>\n",
       "  </thead>\n",
       "  <tbody>\n",
       "    <tr>\n",
       "      <th>0</th>\n",
       "      <td>bregmal01</td>\n",
       "      <td>2017</td>\n",
       "      <td>1</td>\n",
       "      <td>HOU</td>\n",
       "      <td>AL</td>\n",
       "      <td>155</td>\n",
       "      <td>556</td>\n",
       "      <td>88</td>\n",
       "      <td>158</td>\n",
       "      <td>39</td>\n",
       "      <td>...</td>\n",
       "      <td>1</td>\n",
       "      <td>7</td>\n",
       "      <td>15</td>\n",
       "      <td>626</td>\n",
       "      <td>0.352</td>\n",
       "      <td>0.475</td>\n",
       "      <td>0.827</td>\n",
       "      <td>93</td>\n",
       "      <td>92</td>\n",
       "      <td>93</td>\n",
       "    </tr>\n",
       "    <tr>\n",
       "      <th>1</th>\n",
       "      <td>bregmal01</td>\n",
       "      <td>2018</td>\n",
       "      <td>1</td>\n",
       "      <td>HOU</td>\n",
       "      <td>AL</td>\n",
       "      <td>157</td>\n",
       "      <td>594</td>\n",
       "      <td>105</td>\n",
       "      <td>170</td>\n",
       "      <td>51</td>\n",
       "      <td>...</td>\n",
       "      <td>0</td>\n",
       "      <td>3</td>\n",
       "      <td>15</td>\n",
       "      <td>705</td>\n",
       "      <td>0.394</td>\n",
       "      <td>0.532</td>\n",
       "      <td>0.926</td>\n",
       "      <td>129</td>\n",
       "      <td>122</td>\n",
       "      <td>122</td>\n",
       "    </tr>\n",
       "    <tr>\n",
       "      <th>2</th>\n",
       "      <td>bregmal01</td>\n",
       "      <td>2019</td>\n",
       "      <td>1</td>\n",
       "      <td>HOU</td>\n",
       "      <td>AL</td>\n",
       "      <td>156</td>\n",
       "      <td>554</td>\n",
       "      <td>122</td>\n",
       "      <td>164</td>\n",
       "      <td>37</td>\n",
       "      <td>...</td>\n",
       "      <td>0</td>\n",
       "      <td>8</td>\n",
       "      <td>9</td>\n",
       "      <td>690</td>\n",
       "      <td>0.423</td>\n",
       "      <td>0.592</td>\n",
       "      <td>1.015</td>\n",
       "      <td>150</td>\n",
       "      <td>138</td>\n",
       "      <td>139</td>\n",
       "    </tr>\n",
       "    <tr>\n",
       "      <th>3</th>\n",
       "      <td>bregmal01</td>\n",
       "      <td>2020</td>\n",
       "      <td>1</td>\n",
       "      <td>HOU</td>\n",
       "      <td>AL</td>\n",
       "      <td>113</td>\n",
       "      <td>413</td>\n",
       "      <td>51</td>\n",
       "      <td>100</td>\n",
       "      <td>32</td>\n",
       "      <td>...</td>\n",
       "      <td>0</td>\n",
       "      <td>3</td>\n",
       "      <td>5</td>\n",
       "      <td>486</td>\n",
       "      <td>0.350</td>\n",
       "      <td>0.450</td>\n",
       "      <td>0.800</td>\n",
       "      <td>70</td>\n",
       "      <td>64</td>\n",
       "      <td>64</td>\n",
       "    </tr>\n",
       "    <tr>\n",
       "      <th>4</th>\n",
       "      <td>bregmal01</td>\n",
       "      <td>2021</td>\n",
       "      <td>1</td>\n",
       "      <td>PROJ</td>\n",
       "      <td>--</td>\n",
       "      <td>148</td>\n",
       "      <td>539</td>\n",
       "      <td>94</td>\n",
       "      <td>152</td>\n",
       "      <td>41</td>\n",
       "      <td>...</td>\n",
       "      <td>0</td>\n",
       "      <td>5</td>\n",
       "      <td>11</td>\n",
       "      <td>638</td>\n",
       "      <td>0.386</td>\n",
       "      <td>0.525</td>\n",
       "      <td>0.911</td>\n",
       "      <td>114</td>\n",
       "      <td>107</td>\n",
       "      <td>108</td>\n",
       "    </tr>\n",
       "  </tbody>\n",
       "</table>\n",
       "<p>5 rows × 29 columns</p>\n",
       "</div>"
      ],
      "text/plain": [
       "   player_id  year  stint team_id league_id    g   ab    r    h  double  ...  \\\n",
       "0  bregmal01  2017      1     HOU        AL  155  556   88  158      39  ...   \n",
       "1  bregmal01  2018      1     HOU        AL  157  594  105  170      51  ...   \n",
       "2  bregmal01  2019      1     HOU        AL  156  554  122  164      37  ...   \n",
       "3  bregmal01  2020      1     HOU        AL  113  413   51  100      32  ...   \n",
       "4  bregmal01  2021      1    PROJ        --  148  539   94  152      41  ...   \n",
       "\n",
       "   sh  sf  g_idp   pa    obp    slg    ops  t_rc  b_rc  s_rc  \n",
       "0   1   7     15  626  0.352  0.475  0.827    93    92    93  \n",
       "1   0   3     15  705  0.394  0.532  0.926   129   122   122  \n",
       "2   0   8      9  690  0.423  0.592  1.015   150   138   139  \n",
       "3   0   3      5  486  0.350  0.450  0.800    70    64    64  \n",
       "4   0   5     11  638  0.386  0.525  0.911   114   107   108  \n",
       "\n",
       "[5 rows x 29 columns]"
      ]
     },
     "execution_count": 86,
     "metadata": {},
     "output_type": "execute_result"
    }
   ],
   "source": [
    "breg_batting_proj"
   ]
  },
  {
   "cell_type": "code",
   "execution_count": 87,
   "id": "offensive-aspect",
   "metadata": {},
   "outputs": [
    {
     "data": {
      "text/html": [
       "<div>\n",
       "<style scoped>\n",
       "    .dataframe tbody tr th:only-of-type {\n",
       "        vertical-align: middle;\n",
       "    }\n",
       "\n",
       "    .dataframe tbody tr th {\n",
       "        vertical-align: top;\n",
       "    }\n",
       "\n",
       "    .dataframe thead th {\n",
       "        text-align: right;\n",
       "    }\n",
       "</style>\n",
       "<table border=\"1\" class=\"dataframe\">\n",
       "  <thead>\n",
       "    <tr style=\"text-align: right;\">\n",
       "      <th></th>\n",
       "      <th>player_id</th>\n",
       "      <th>year</th>\n",
       "      <th>stint</th>\n",
       "      <th>team_id</th>\n",
       "      <th>league_id</th>\n",
       "      <th>g</th>\n",
       "      <th>ab</th>\n",
       "      <th>r</th>\n",
       "      <th>h</th>\n",
       "      <th>double</th>\n",
       "      <th>...</th>\n",
       "      <th>sh</th>\n",
       "      <th>sf</th>\n",
       "      <th>g_idp</th>\n",
       "      <th>pa</th>\n",
       "      <th>obp</th>\n",
       "      <th>slg</th>\n",
       "      <th>ops</th>\n",
       "      <th>t_rc</th>\n",
       "      <th>b_rc</th>\n",
       "      <th>s_rc</th>\n",
       "    </tr>\n",
       "  </thead>\n",
       "  <tbody>\n",
       "    <tr>\n",
       "      <th>0</th>\n",
       "      <td>bregmal01</td>\n",
       "      <td>2017</td>\n",
       "      <td>1</td>\n",
       "      <td>HOU</td>\n",
       "      <td>AL</td>\n",
       "      <td>155.0</td>\n",
       "      <td>556.0</td>\n",
       "      <td>88.0</td>\n",
       "      <td>158.0</td>\n",
       "      <td>39.0</td>\n",
       "      <td>...</td>\n",
       "      <td>1.0</td>\n",
       "      <td>7.0</td>\n",
       "      <td>15.0</td>\n",
       "      <td>626.0</td>\n",
       "      <td>0.352</td>\n",
       "      <td>0.475</td>\n",
       "      <td>0.827</td>\n",
       "      <td>93.0</td>\n",
       "      <td>92.0</td>\n",
       "      <td>93.0</td>\n",
       "    </tr>\n",
       "    <tr>\n",
       "      <th>1</th>\n",
       "      <td>bregmal01</td>\n",
       "      <td>2018</td>\n",
       "      <td>1</td>\n",
       "      <td>HOU</td>\n",
       "      <td>AL</td>\n",
       "      <td>157.0</td>\n",
       "      <td>594.0</td>\n",
       "      <td>105.0</td>\n",
       "      <td>170.0</td>\n",
       "      <td>51.0</td>\n",
       "      <td>...</td>\n",
       "      <td>0.0</td>\n",
       "      <td>3.0</td>\n",
       "      <td>15.0</td>\n",
       "      <td>705.0</td>\n",
       "      <td>0.394</td>\n",
       "      <td>0.532</td>\n",
       "      <td>0.926</td>\n",
       "      <td>129.0</td>\n",
       "      <td>122.0</td>\n",
       "      <td>122.0</td>\n",
       "    </tr>\n",
       "    <tr>\n",
       "      <th>2</th>\n",
       "      <td>bregmal01</td>\n",
       "      <td>2019</td>\n",
       "      <td>1</td>\n",
       "      <td>HOU</td>\n",
       "      <td>AL</td>\n",
       "      <td>156.0</td>\n",
       "      <td>554.0</td>\n",
       "      <td>122.0</td>\n",
       "      <td>164.0</td>\n",
       "      <td>37.0</td>\n",
       "      <td>...</td>\n",
       "      <td>0.0</td>\n",
       "      <td>8.0</td>\n",
       "      <td>9.0</td>\n",
       "      <td>690.0</td>\n",
       "      <td>0.423</td>\n",
       "      <td>0.592</td>\n",
       "      <td>1.015</td>\n",
       "      <td>150.0</td>\n",
       "      <td>138.0</td>\n",
       "      <td>139.0</td>\n",
       "    </tr>\n",
       "    <tr>\n",
       "      <th>3</th>\n",
       "      <td>bregmal01</td>\n",
       "      <td>2020</td>\n",
       "      <td>1</td>\n",
       "      <td>HOU</td>\n",
       "      <td>AL</td>\n",
       "      <td>113.0</td>\n",
       "      <td>413.0</td>\n",
       "      <td>51.0</td>\n",
       "      <td>100.0</td>\n",
       "      <td>32.0</td>\n",
       "      <td>...</td>\n",
       "      <td>0.0</td>\n",
       "      <td>3.0</td>\n",
       "      <td>5.0</td>\n",
       "      <td>486.0</td>\n",
       "      <td>0.350</td>\n",
       "      <td>0.450</td>\n",
       "      <td>0.800</td>\n",
       "      <td>70.0</td>\n",
       "      <td>64.0</td>\n",
       "      <td>64.0</td>\n",
       "    </tr>\n",
       "    <tr>\n",
       "      <th>4</th>\n",
       "      <td>bregmal01</td>\n",
       "      <td>2021</td>\n",
       "      <td>1</td>\n",
       "      <td>PROJ</td>\n",
       "      <td>--</td>\n",
       "      <td>148.0</td>\n",
       "      <td>539.0</td>\n",
       "      <td>94.0</td>\n",
       "      <td>152.0</td>\n",
       "      <td>41.0</td>\n",
       "      <td>...</td>\n",
       "      <td>0.0</td>\n",
       "      <td>5.0</td>\n",
       "      <td>11.0</td>\n",
       "      <td>638.0</td>\n",
       "      <td>0.386</td>\n",
       "      <td>0.525</td>\n",
       "      <td>0.911</td>\n",
       "      <td>114.0</td>\n",
       "      <td>107.0</td>\n",
       "      <td>108.0</td>\n",
       "    </tr>\n",
       "    <tr>\n",
       "      <th>5</th>\n",
       "      <td>bregmal01</td>\n",
       "      <td>2021</td>\n",
       "      <td>1</td>\n",
       "      <td>EVAL</td>\n",
       "      <td>--</td>\n",
       "      <td>-5.8</td>\n",
       "      <td>-21.5</td>\n",
       "      <td>-4.2</td>\n",
       "      <td>-8.2</td>\n",
       "      <td>-1.5</td>\n",
       "      <td>...</td>\n",
       "      <td>-0.2</td>\n",
       "      <td>-0.4</td>\n",
       "      <td>-1.8</td>\n",
       "      <td>-19.5</td>\n",
       "      <td>2.400</td>\n",
       "      <td>1.800</td>\n",
       "      <td>4.200</td>\n",
       "      <td>-1.7</td>\n",
       "      <td>-2.8</td>\n",
       "      <td>-2.8</td>\n",
       "    </tr>\n",
       "  </tbody>\n",
       "</table>\n",
       "<p>6 rows × 29 columns</p>\n",
       "</div>"
      ],
      "text/plain": [
       "   player_id  year  stint team_id league_id      g     ab      r      h  \\\n",
       "0  bregmal01  2017      1     HOU        AL  155.0  556.0   88.0  158.0   \n",
       "1  bregmal01  2018      1     HOU        AL  157.0  594.0  105.0  170.0   \n",
       "2  bregmal01  2019      1     HOU        AL  156.0  554.0  122.0  164.0   \n",
       "3  bregmal01  2020      1     HOU        AL  113.0  413.0   51.0  100.0   \n",
       "4  bregmal01  2021      1    PROJ        --  148.0  539.0   94.0  152.0   \n",
       "5  bregmal01  2021      1    EVAL        --   -5.8  -21.5   -4.2   -8.2   \n",
       "\n",
       "   double  ...   sh   sf  g_idp     pa    obp    slg    ops   t_rc   b_rc  \\\n",
       "0    39.0  ...  1.0  7.0   15.0  626.0  0.352  0.475  0.827   93.0   92.0   \n",
       "1    51.0  ...  0.0  3.0   15.0  705.0  0.394  0.532  0.926  129.0  122.0   \n",
       "2    37.0  ...  0.0  8.0    9.0  690.0  0.423  0.592  1.015  150.0  138.0   \n",
       "3    32.0  ...  0.0  3.0    5.0  486.0  0.350  0.450  0.800   70.0   64.0   \n",
       "4    41.0  ...  0.0  5.0   11.0  638.0  0.386  0.525  0.911  114.0  107.0   \n",
       "5    -1.5  ... -0.2 -0.4   -1.8  -19.5  2.400  1.800  4.200   -1.7   -2.8   \n",
       "\n",
       "    s_rc  \n",
       "0   93.0  \n",
       "1  122.0  \n",
       "2  139.0  \n",
       "3   64.0  \n",
       "4  108.0  \n",
       "5   -2.8  \n",
       "\n",
       "[6 rows x 29 columns]"
      ]
     },
     "execution_count": 87,
     "metadata": {},
     "output_type": "execute_result"
    }
   ],
   "source": [
    "player_lr_eval(breg_batting_proj,'bregmal01')"
   ]
  },
  {
   "cell_type": "markdown",
   "id": "becoming-cattle",
   "metadata": {},
   "source": [
    "Above we can see a Linear Regression evaluation of Bregman's past four seasons including the projected 2021 season. The Regression certainly picked up on the effect of the 2020 season in spite of our estimation. Next we can take a look at Bregman's career as a whole and conduct a similar evaluation."
   ]
  },
  {
   "cell_type": "code",
   "execution_count": 88,
   "id": "seeing-notebook",
   "metadata": {},
   "outputs": [],
   "source": [
    "breg_career = clean_data[clean_data.player_id == 'bregmal01']"
   ]
  },
  {
   "cell_type": "code",
   "execution_count": 89,
   "id": "urban-beatles",
   "metadata": {},
   "outputs": [],
   "source": [
    "breg_career.reset_index(drop=True,inplace=True)"
   ]
  },
  {
   "cell_type": "code",
   "execution_count": 90,
   "id": "personalized-salvation",
   "metadata": {},
   "outputs": [
    {
     "data": {
      "text/html": [
       "<div>\n",
       "<style scoped>\n",
       "    .dataframe tbody tr th:only-of-type {\n",
       "        vertical-align: middle;\n",
       "    }\n",
       "\n",
       "    .dataframe tbody tr th {\n",
       "        vertical-align: top;\n",
       "    }\n",
       "\n",
       "    .dataframe thead th {\n",
       "        text-align: right;\n",
       "    }\n",
       "</style>\n",
       "<table border=\"1\" class=\"dataframe\">\n",
       "  <thead>\n",
       "    <tr style=\"text-align: right;\">\n",
       "      <th></th>\n",
       "      <th>player_id</th>\n",
       "      <th>year</th>\n",
       "      <th>stint</th>\n",
       "      <th>team_id</th>\n",
       "      <th>league_id</th>\n",
       "      <th>g</th>\n",
       "      <th>ab</th>\n",
       "      <th>r</th>\n",
       "      <th>h</th>\n",
       "      <th>double</th>\n",
       "      <th>...</th>\n",
       "      <th>rbi</th>\n",
       "      <th>sb</th>\n",
       "      <th>cs</th>\n",
       "      <th>bb</th>\n",
       "      <th>so</th>\n",
       "      <th>ibb</th>\n",
       "      <th>hbp</th>\n",
       "      <th>sh</th>\n",
       "      <th>sf</th>\n",
       "      <th>g_idp</th>\n",
       "    </tr>\n",
       "  </thead>\n",
       "  <tbody>\n",
       "    <tr>\n",
       "      <th>0</th>\n",
       "      <td>bregmal01</td>\n",
       "      <td>2016</td>\n",
       "      <td>1</td>\n",
       "      <td>HOU</td>\n",
       "      <td>AL</td>\n",
       "      <td>49.0</td>\n",
       "      <td>201.0</td>\n",
       "      <td>31.0</td>\n",
       "      <td>53.0</td>\n",
       "      <td>13.0</td>\n",
       "      <td>...</td>\n",
       "      <td>34.0</td>\n",
       "      <td>2.0</td>\n",
       "      <td>0.0</td>\n",
       "      <td>15.0</td>\n",
       "      <td>52.0</td>\n",
       "      <td>0.0</td>\n",
       "      <td>0.0</td>\n",
       "      <td>0.0</td>\n",
       "      <td>1.0</td>\n",
       "      <td>1.0</td>\n",
       "    </tr>\n",
       "    <tr>\n",
       "      <th>1</th>\n",
       "      <td>bregmal01</td>\n",
       "      <td>2017</td>\n",
       "      <td>1</td>\n",
       "      <td>HOU</td>\n",
       "      <td>AL</td>\n",
       "      <td>155.0</td>\n",
       "      <td>556.0</td>\n",
       "      <td>88.0</td>\n",
       "      <td>158.0</td>\n",
       "      <td>39.0</td>\n",
       "      <td>...</td>\n",
       "      <td>71.0</td>\n",
       "      <td>17.0</td>\n",
       "      <td>5.0</td>\n",
       "      <td>55.0</td>\n",
       "      <td>97.0</td>\n",
       "      <td>2.0</td>\n",
       "      <td>7.0</td>\n",
       "      <td>1.0</td>\n",
       "      <td>7.0</td>\n",
       "      <td>15.0</td>\n",
       "    </tr>\n",
       "    <tr>\n",
       "      <th>2</th>\n",
       "      <td>bregmal01</td>\n",
       "      <td>2018</td>\n",
       "      <td>1</td>\n",
       "      <td>HOU</td>\n",
       "      <td>AL</td>\n",
       "      <td>157.0</td>\n",
       "      <td>594.0</td>\n",
       "      <td>105.0</td>\n",
       "      <td>170.0</td>\n",
       "      <td>51.0</td>\n",
       "      <td>...</td>\n",
       "      <td>103.0</td>\n",
       "      <td>10.0</td>\n",
       "      <td>4.0</td>\n",
       "      <td>96.0</td>\n",
       "      <td>85.0</td>\n",
       "      <td>2.0</td>\n",
       "      <td>12.0</td>\n",
       "      <td>0.0</td>\n",
       "      <td>3.0</td>\n",
       "      <td>15.0</td>\n",
       "    </tr>\n",
       "    <tr>\n",
       "      <th>3</th>\n",
       "      <td>bregmal01</td>\n",
       "      <td>2019</td>\n",
       "      <td>1</td>\n",
       "      <td>HOU</td>\n",
       "      <td>AL</td>\n",
       "      <td>156.0</td>\n",
       "      <td>554.0</td>\n",
       "      <td>122.0</td>\n",
       "      <td>164.0</td>\n",
       "      <td>37.0</td>\n",
       "      <td>...</td>\n",
       "      <td>112.0</td>\n",
       "      <td>5.0</td>\n",
       "      <td>1.0</td>\n",
       "      <td>119.0</td>\n",
       "      <td>83.0</td>\n",
       "      <td>2.0</td>\n",
       "      <td>9.0</td>\n",
       "      <td>0.0</td>\n",
       "      <td>8.0</td>\n",
       "      <td>9.0</td>\n",
       "    </tr>\n",
       "    <tr>\n",
       "      <th>4</th>\n",
       "      <td>bregmal01</td>\n",
       "      <td>2021</td>\n",
       "      <td>1</td>\n",
       "      <td>EVAL</td>\n",
       "      <td>--</td>\n",
       "      <td>32.3</td>\n",
       "      <td>109.7</td>\n",
       "      <td>29.0</td>\n",
       "      <td>34.5</td>\n",
       "      <td>8.4</td>\n",
       "      <td>...</td>\n",
       "      <td>26.6</td>\n",
       "      <td>0.2</td>\n",
       "      <td>0.2</td>\n",
       "      <td>35.3</td>\n",
       "      <td>8.1</td>\n",
       "      <td>0.6</td>\n",
       "      <td>3.2</td>\n",
       "      <td>-0.1</td>\n",
       "      <td>1.7</td>\n",
       "      <td>2.4</td>\n",
       "    </tr>\n",
       "  </tbody>\n",
       "</table>\n",
       "<p>5 rows × 22 columns</p>\n",
       "</div>"
      ],
      "text/plain": [
       "   player_id  year  stint team_id league_id      g     ab      r      h  \\\n",
       "0  bregmal01  2016      1     HOU        AL   49.0  201.0   31.0   53.0   \n",
       "1  bregmal01  2017      1     HOU        AL  155.0  556.0   88.0  158.0   \n",
       "2  bregmal01  2018      1     HOU        AL  157.0  594.0  105.0  170.0   \n",
       "3  bregmal01  2019      1     HOU        AL  156.0  554.0  122.0  164.0   \n",
       "4  bregmal01  2021      1    EVAL        --   32.3  109.7   29.0   34.5   \n",
       "\n",
       "   double  ...    rbi    sb   cs     bb    so  ibb   hbp   sh   sf  g_idp  \n",
       "0    13.0  ...   34.0   2.0  0.0   15.0  52.0  0.0   0.0  0.0  1.0    1.0  \n",
       "1    39.0  ...   71.0  17.0  5.0   55.0  97.0  2.0   7.0  1.0  7.0   15.0  \n",
       "2    51.0  ...  103.0  10.0  4.0   96.0  85.0  2.0  12.0  0.0  3.0   15.0  \n",
       "3    37.0  ...  112.0   5.0  1.0  119.0  83.0  2.0   9.0  0.0  8.0    9.0  \n",
       "4     8.4  ...   26.6   0.2  0.2   35.3   8.1  0.6   3.2 -0.1  1.7    2.4  \n",
       "\n",
       "[5 rows x 22 columns]"
      ]
     },
     "execution_count": 90,
     "metadata": {},
     "output_type": "execute_result"
    }
   ],
   "source": [
    "player_lr_eval(breg_career[breg_career.year < 2020],'bregmal01')"
   ]
  },
  {
   "cell_type": "markdown",
   "id": "compatible-excitement",
   "metadata": {},
   "source": [
    "Above we can see an evaluation of Bregman's statistics from the begining of his career. We can see that each statistic was significantly improving as indicated by the very positive coefficients displayed."
   ]
  },
  {
   "cell_type": "code",
   "execution_count": 91,
   "id": "conventional-continent",
   "metadata": {},
   "outputs": [],
   "source": [
    "breg_career_fact = year_factor(breg_career)"
   ]
  },
  {
   "cell_type": "code",
   "execution_count": 92,
   "id": "universal-answer",
   "metadata": {},
   "outputs": [],
   "source": [
    "breg_career_fact['pa'] = breg_career_fact.apply(calculate_pa,axis=1)\n",
    "breg_career_fact['obp'] = round(breg_career_fact.apply(calculate_obp,axis=1),3)\n",
    "breg_career_fact['slg'] = round(breg_career_fact.apply(calculate_slg,axis=1),3)\n",
    "breg_career_fact['ops'] = round(breg_career_fact.apply(calculate_ops,axis=1),3)\n",
    "breg_career_fact['t_rc'] = round(breg_career_fact.apply(calculate_trc,axis=1))\n",
    "breg_career_fact['b_rc'] = round(breg_career_fact.apply(calculate_brc,axis=1))\n",
    "breg_career_fact['s_rc'] = round(breg_career_fact.apply(calculate_sbrc,axis=1))"
   ]
  },
  {
   "cell_type": "code",
   "execution_count": 93,
   "id": "universal-shuttle",
   "metadata": {},
   "outputs": [],
   "source": [
    "breg_career_proj = breg_career_fact.append(breg_fun_pred, ignore_index=True)"
   ]
  },
  {
   "cell_type": "code",
   "execution_count": 94,
   "id": "pediatric-return",
   "metadata": {},
   "outputs": [
    {
     "data": {
      "text/html": [
       "<div>\n",
       "<style scoped>\n",
       "    .dataframe tbody tr th:only-of-type {\n",
       "        vertical-align: middle;\n",
       "    }\n",
       "\n",
       "    .dataframe tbody tr th {\n",
       "        vertical-align: top;\n",
       "    }\n",
       "\n",
       "    .dataframe thead th {\n",
       "        text-align: right;\n",
       "    }\n",
       "</style>\n",
       "<table border=\"1\" class=\"dataframe\">\n",
       "  <thead>\n",
       "    <tr style=\"text-align: right;\">\n",
       "      <th></th>\n",
       "      <th>player_id</th>\n",
       "      <th>year</th>\n",
       "      <th>stint</th>\n",
       "      <th>team_id</th>\n",
       "      <th>league_id</th>\n",
       "      <th>g</th>\n",
       "      <th>ab</th>\n",
       "      <th>r</th>\n",
       "      <th>h</th>\n",
       "      <th>double</th>\n",
       "      <th>...</th>\n",
       "      <th>sh</th>\n",
       "      <th>sf</th>\n",
       "      <th>g_idp</th>\n",
       "      <th>pa</th>\n",
       "      <th>obp</th>\n",
       "      <th>slg</th>\n",
       "      <th>ops</th>\n",
       "      <th>t_rc</th>\n",
       "      <th>b_rc</th>\n",
       "      <th>s_rc</th>\n",
       "    </tr>\n",
       "  </thead>\n",
       "  <tbody>\n",
       "    <tr>\n",
       "      <th>0</th>\n",
       "      <td>bregmal01</td>\n",
       "      <td>2016</td>\n",
       "      <td>1</td>\n",
       "      <td>HOU</td>\n",
       "      <td>AL</td>\n",
       "      <td>49.000000</td>\n",
       "      <td>201.000000</td>\n",
       "      <td>31.000000</td>\n",
       "      <td>53.0</td>\n",
       "      <td>13.0</td>\n",
       "      <td>...</td>\n",
       "      <td>0.000000</td>\n",
       "      <td>1.000000</td>\n",
       "      <td>1.0</td>\n",
       "      <td>217.000000</td>\n",
       "      <td>0.313000</td>\n",
       "      <td>0.478000</td>\n",
       "      <td>0.791000</td>\n",
       "      <td>31.000000</td>\n",
       "      <td>30.000000</td>\n",
       "      <td>31.0</td>\n",
       "    </tr>\n",
       "    <tr>\n",
       "      <th>1</th>\n",
       "      <td>bregmal01</td>\n",
       "      <td>2017</td>\n",
       "      <td>1</td>\n",
       "      <td>HOU</td>\n",
       "      <td>AL</td>\n",
       "      <td>155.000000</td>\n",
       "      <td>556.000000</td>\n",
       "      <td>88.000000</td>\n",
       "      <td>158.0</td>\n",
       "      <td>39.0</td>\n",
       "      <td>...</td>\n",
       "      <td>1.000000</td>\n",
       "      <td>7.000000</td>\n",
       "      <td>15.0</td>\n",
       "      <td>626.000000</td>\n",
       "      <td>0.352000</td>\n",
       "      <td>0.475000</td>\n",
       "      <td>0.827000</td>\n",
       "      <td>93.000000</td>\n",
       "      <td>92.000000</td>\n",
       "      <td>93.0</td>\n",
       "    </tr>\n",
       "    <tr>\n",
       "      <th>2</th>\n",
       "      <td>bregmal01</td>\n",
       "      <td>2018</td>\n",
       "      <td>1</td>\n",
       "      <td>HOU</td>\n",
       "      <td>AL</td>\n",
       "      <td>157.000000</td>\n",
       "      <td>594.000000</td>\n",
       "      <td>105.000000</td>\n",
       "      <td>170.0</td>\n",
       "      <td>51.0</td>\n",
       "      <td>...</td>\n",
       "      <td>0.000000</td>\n",
       "      <td>3.000000</td>\n",
       "      <td>15.0</td>\n",
       "      <td>705.000000</td>\n",
       "      <td>0.394000</td>\n",
       "      <td>0.532000</td>\n",
       "      <td>0.926000</td>\n",
       "      <td>129.000000</td>\n",
       "      <td>122.000000</td>\n",
       "      <td>122.0</td>\n",
       "    </tr>\n",
       "    <tr>\n",
       "      <th>3</th>\n",
       "      <td>bregmal01</td>\n",
       "      <td>2019</td>\n",
       "      <td>1</td>\n",
       "      <td>HOU</td>\n",
       "      <td>AL</td>\n",
       "      <td>156.000000</td>\n",
       "      <td>554.000000</td>\n",
       "      <td>122.000000</td>\n",
       "      <td>164.0</td>\n",
       "      <td>37.0</td>\n",
       "      <td>...</td>\n",
       "      <td>0.000000</td>\n",
       "      <td>8.000000</td>\n",
       "      <td>9.0</td>\n",
       "      <td>690.000000</td>\n",
       "      <td>0.423000</td>\n",
       "      <td>0.592000</td>\n",
       "      <td>1.015000</td>\n",
       "      <td>150.000000</td>\n",
       "      <td>138.000000</td>\n",
       "      <td>139.0</td>\n",
       "    </tr>\n",
       "    <tr>\n",
       "      <th>4</th>\n",
       "      <td>bregmal01</td>\n",
       "      <td>2020</td>\n",
       "      <td>1</td>\n",
       "      <td>HOU</td>\n",
       "      <td>AL</td>\n",
       "      <td>113.000000</td>\n",
       "      <td>413.000000</td>\n",
       "      <td>51.000000</td>\n",
       "      <td>100.0</td>\n",
       "      <td>32.0</td>\n",
       "      <td>...</td>\n",
       "      <td>0.000000</td>\n",
       "      <td>3.000000</td>\n",
       "      <td>5.0</td>\n",
       "      <td>486.000000</td>\n",
       "      <td>0.350000</td>\n",
       "      <td>0.450000</td>\n",
       "      <td>0.800000</td>\n",
       "      <td>70.000000</td>\n",
       "      <td>64.000000</td>\n",
       "      <td>64.0</td>\n",
       "    </tr>\n",
       "    <tr>\n",
       "      <th>5</th>\n",
       "      <td>bregmal01</td>\n",
       "      <td>2021</td>\n",
       "      <td>1</td>\n",
       "      <td>PROJ</td>\n",
       "      <td>--</td>\n",
       "      <td>148.000000</td>\n",
       "      <td>539.000000</td>\n",
       "      <td>94.000000</td>\n",
       "      <td>152.0</td>\n",
       "      <td>41.0</td>\n",
       "      <td>...</td>\n",
       "      <td>0.000000</td>\n",
       "      <td>5.000000</td>\n",
       "      <td>11.0</td>\n",
       "      <td>638.000000</td>\n",
       "      <td>0.386000</td>\n",
       "      <td>0.525000</td>\n",
       "      <td>0.911000</td>\n",
       "      <td>114.000000</td>\n",
       "      <td>107.000000</td>\n",
       "      <td>108.0</td>\n",
       "    </tr>\n",
       "    <tr>\n",
       "      <th>6</th>\n",
       "      <td>bregmal01</td>\n",
       "      <td>2021</td>\n",
       "      <td>1</td>\n",
       "      <td>EVAL</td>\n",
       "      <td>--</td>\n",
       "      <td>10.514286</td>\n",
       "      <td>34.885714</td>\n",
       "      <td>6.314286</td>\n",
       "      <td>9.0</td>\n",
       "      <td>3.0</td>\n",
       "      <td>...</td>\n",
       "      <td>-0.085714</td>\n",
       "      <td>0.371429</td>\n",
       "      <td>0.4</td>\n",
       "      <td>47.714286</td>\n",
       "      <td>11.085714</td>\n",
       "      <td>6.285714</td>\n",
       "      <td>17.371429</td>\n",
       "      <td>10.485714</td>\n",
       "      <td>9.057143</td>\n",
       "      <td>9.0</td>\n",
       "    </tr>\n",
       "  </tbody>\n",
       "</table>\n",
       "<p>7 rows × 29 columns</p>\n",
       "</div>"
      ],
      "text/plain": [
       "   player_id  year  stint team_id league_id           g          ab  \\\n",
       "0  bregmal01  2016      1     HOU        AL   49.000000  201.000000   \n",
       "1  bregmal01  2017      1     HOU        AL  155.000000  556.000000   \n",
       "2  bregmal01  2018      1     HOU        AL  157.000000  594.000000   \n",
       "3  bregmal01  2019      1     HOU        AL  156.000000  554.000000   \n",
       "4  bregmal01  2020      1     HOU        AL  113.000000  413.000000   \n",
       "5  bregmal01  2021      1    PROJ        --  148.000000  539.000000   \n",
       "6  bregmal01  2021      1    EVAL        --   10.514286   34.885714   \n",
       "\n",
       "            r      h  double  ...        sh        sf  g_idp          pa  \\\n",
       "0   31.000000   53.0    13.0  ...  0.000000  1.000000    1.0  217.000000   \n",
       "1   88.000000  158.0    39.0  ...  1.000000  7.000000   15.0  626.000000   \n",
       "2  105.000000  170.0    51.0  ...  0.000000  3.000000   15.0  705.000000   \n",
       "3  122.000000  164.0    37.0  ...  0.000000  8.000000    9.0  690.000000   \n",
       "4   51.000000  100.0    32.0  ...  0.000000  3.000000    5.0  486.000000   \n",
       "5   94.000000  152.0    41.0  ...  0.000000  5.000000   11.0  638.000000   \n",
       "6    6.314286    9.0     3.0  ... -0.085714  0.371429    0.4   47.714286   \n",
       "\n",
       "         obp       slg        ops        t_rc        b_rc   s_rc  \n",
       "0   0.313000  0.478000   0.791000   31.000000   30.000000   31.0  \n",
       "1   0.352000  0.475000   0.827000   93.000000   92.000000   93.0  \n",
       "2   0.394000  0.532000   0.926000  129.000000  122.000000  122.0  \n",
       "3   0.423000  0.592000   1.015000  150.000000  138.000000  139.0  \n",
       "4   0.350000  0.450000   0.800000   70.000000   64.000000   64.0  \n",
       "5   0.386000  0.525000   0.911000  114.000000  107.000000  108.0  \n",
       "6  11.085714  6.285714  17.371429   10.485714    9.057143    9.0  \n",
       "\n",
       "[7 rows x 29 columns]"
      ]
     },
     "execution_count": 94,
     "metadata": {},
     "output_type": "execute_result"
    }
   ],
   "source": [
    "player_lr_eval(breg_career_proj,'bregmal01')"
   ]
  },
  {
   "cell_type": "markdown",
   "id": "engaging-rebound",
   "metadata": {},
   "source": [
    "After including the desired calculations of Bregman's batting performance and adding our 2021 projection to his career we can include the Linear Regression. The evaluation shows that Bregman, in spite of the 2020 season, is still showing a positive incline (slope) to his overall career."
   ]
  },
  {
   "cell_type": "markdown",
   "id": "level-assets",
   "metadata": {},
   "source": [
    "## Projection comparison"
   ]
  },
  {
   "cell_type": "markdown",
   "id": "liked-trail",
   "metadata": {},
   "source": [
    "Now that we have taken the time to create projections and conduct a Linear Regression evaluation, I feel it is important to test our results against that of other projection systems. The comparison will reveal whether or not our projections can stand with other projection systems or if our attempt is less remarkable that we originaly considered. To test our results against other systems, I decided to look at the percent difference between each system and our projections. To begin we need to establish a dataset of player projections. For the best possible results we should only evaluate players that have more than four seasons or stints."
   ]
  },
  {
   "cell_type": "code",
   "execution_count": 95,
   "id": "independent-separate",
   "metadata": {},
   "outputs": [],
   "source": [
    "batting_data = batting_df[(batting_df.year >= 2017)&(batting_df.year <= 2020)]"
   ]
  },
  {
   "cell_type": "code",
   "execution_count": 96,
   "id": "enabling-collins",
   "metadata": {},
   "outputs": [],
   "source": [
    "batting_data.reset_index(inplace=True,drop=True)"
   ]
  },
  {
   "cell_type": "code",
   "execution_count": 97,
   "id": "junior-function",
   "metadata": {},
   "outputs": [],
   "source": [
    "player_id_nopitch = batting_data['player_id'].unique()"
   ]
  },
  {
   "cell_type": "markdown",
   "id": "fallen-ending",
   "metadata": {},
   "source": [
    "With a newly sliced dataframe and list of unique player ids, we can create a dataframe of player projections."
   ]
  },
  {
   "cell_type": "code",
   "execution_count": 98,
   "id": "social-princess",
   "metadata": {},
   "outputs": [],
   "source": [
    "# create a fresh data frame to read ml predictions into\n",
    "player_projections = pd.DataFrame([])"
   ]
  },
  {
   "cell_type": "code",
   "execution_count": 99,
   "id": "focused-vertical",
   "metadata": {
    "tags": []
   },
   "outputs": [],
   "source": [
    "# loop in predictions, pass on players with less than four years/entries\n",
    "for n in player_id_nopitch:\n",
    "    if len(batting_data[(batting_data.player_id == n)]['year'].index) < 4:\n",
    "        pass\n",
    "    else:\n",
    "        player_data = batting_data[batting_data.player_id == n]\n",
    "        player_fact = year_factor(player_data)\n",
    "        player_projections = player_projections.append(player_project(calculate_pa, calculate_obp, calculate_slg, calculate_ops, calculate_brc, calculate_sbrc, calculate_trc, player_fact, n),\n",
    "            ignore_index=True)"
   ]
  },
  {
   "cell_type": "markdown",
   "id": "indonesian-heavy",
   "metadata": {},
   "source": [
    "Because the IDs used by Lahman's Baseball Database are proprietary we will need to search our data using the players known name. We will need to include the players personal information data and omit year and team_id, then merge the remaining data with the projections."
   ]
  },
  {
   "cell_type": "code",
   "execution_count": 100,
   "id": "cubic-violence",
   "metadata": {},
   "outputs": [],
   "source": [
    "player_names = pd.read_csv('player_team.csv')"
   ]
  },
  {
   "cell_type": "code",
   "execution_count": 101,
   "id": "excess-march",
   "metadata": {},
   "outputs": [],
   "source": [
    "player_names.drop(['year','team_id'],axis=1,inplace=True)"
   ]
  },
  {
   "cell_type": "code",
   "execution_count": 102,
   "id": "rising-russian",
   "metadata": {},
   "outputs": [],
   "source": [
    "# merge ml predictions with player names\n",
    "player_proj_data = pd.merge(player_projections, player_names, how='left', on='player_id')"
   ]
  },
  {
   "cell_type": "code",
   "execution_count": 103,
   "id": "standing-second",
   "metadata": {},
   "outputs": [],
   "source": [
    "# remove duplicate names\n",
    "player_proj_data.drop_duplicates(subset =\"player_id\", keep = 'first', inplace=True)"
   ]
  },
  {
   "cell_type": "code",
   "execution_count": 104,
   "id": "toxic-extension",
   "metadata": {},
   "outputs": [],
   "source": [
    "player_proj_data.reset_index(drop=True,inplace=True)"
   ]
  },
  {
   "cell_type": "code",
   "execution_count": 105,
   "id": "nearby-fourth",
   "metadata": {},
   "outputs": [
    {
     "data": {
      "text/html": [
       "<div>\n",
       "<style scoped>\n",
       "    .dataframe tbody tr th:only-of-type {\n",
       "        vertical-align: middle;\n",
       "    }\n",
       "\n",
       "    .dataframe tbody tr th {\n",
       "        vertical-align: top;\n",
       "    }\n",
       "\n",
       "    .dataframe thead th {\n",
       "        text-align: right;\n",
       "    }\n",
       "</style>\n",
       "<table border=\"1\" class=\"dataframe\">\n",
       "  <thead>\n",
       "    <tr style=\"text-align: right;\">\n",
       "      <th></th>\n",
       "      <th>player_id</th>\n",
       "      <th>year</th>\n",
       "      <th>stint</th>\n",
       "      <th>team_id</th>\n",
       "      <th>league_id</th>\n",
       "      <th>g</th>\n",
       "      <th>ab</th>\n",
       "      <th>r</th>\n",
       "      <th>h</th>\n",
       "      <th>double</th>\n",
       "      <th>...</th>\n",
       "      <th>sf</th>\n",
       "      <th>g_idp</th>\n",
       "      <th>pa</th>\n",
       "      <th>obp</th>\n",
       "      <th>slg</th>\n",
       "      <th>ops</th>\n",
       "      <th>t_rc</th>\n",
       "      <th>b_rc</th>\n",
       "      <th>s_rc</th>\n",
       "      <th>known_name</th>\n",
       "    </tr>\n",
       "  </thead>\n",
       "  <tbody>\n",
       "    <tr>\n",
       "      <th>0</th>\n",
       "      <td>abreujo02</td>\n",
       "      <td>2021</td>\n",
       "      <td>1</td>\n",
       "      <td>PROJ</td>\n",
       "      <td>--</td>\n",
       "      <td>152</td>\n",
       "      <td>603</td>\n",
       "      <td>92</td>\n",
       "      <td>179</td>\n",
       "      <td>40</td>\n",
       "      <td>...</td>\n",
       "      <td>6</td>\n",
       "      <td>22</td>\n",
       "      <td>660</td>\n",
       "      <td>0.348</td>\n",
       "      <td>0.549</td>\n",
       "      <td>0.897</td>\n",
       "      <td>109</td>\n",
       "      <td>112</td>\n",
       "      <td>112</td>\n",
       "      <td>Jose Abreu</td>\n",
       "    </tr>\n",
       "    <tr>\n",
       "      <th>1</th>\n",
       "      <td>adamsma01</td>\n",
       "      <td>2021</td>\n",
       "      <td>1</td>\n",
       "      <td>PROJ</td>\n",
       "      <td>--</td>\n",
       "      <td>113</td>\n",
       "      <td>303</td>\n",
       "      <td>39</td>\n",
       "      <td>72</td>\n",
       "      <td>15</td>\n",
       "      <td>...</td>\n",
       "      <td>2</td>\n",
       "      <td>6</td>\n",
       "      <td>328</td>\n",
       "      <td>0.290</td>\n",
       "      <td>0.475</td>\n",
       "      <td>0.765</td>\n",
       "      <td>41</td>\n",
       "      <td>41</td>\n",
       "      <td>41</td>\n",
       "      <td>Matt Adams</td>\n",
       "    </tr>\n",
       "    <tr>\n",
       "      <th>2</th>\n",
       "      <td>aguilje01</td>\n",
       "      <td>2021</td>\n",
       "      <td>1</td>\n",
       "      <td>PROJ</td>\n",
       "      <td>--</td>\n",
       "      <td>138</td>\n",
       "      <td>399</td>\n",
       "      <td>66</td>\n",
       "      <td>114</td>\n",
       "      <td>22</td>\n",
       "      <td>...</td>\n",
       "      <td>9</td>\n",
       "      <td>14</td>\n",
       "      <td>463</td>\n",
       "      <td>0.365</td>\n",
       "      <td>0.514</td>\n",
       "      <td>0.879</td>\n",
       "      <td>74</td>\n",
       "      <td>75</td>\n",
       "      <td>75</td>\n",
       "      <td>Jesus Aguilar</td>\n",
       "    </tr>\n",
       "    <tr>\n",
       "      <th>3</th>\n",
       "      <td>ahmedni01</td>\n",
       "      <td>2021</td>\n",
       "      <td>1</td>\n",
       "      <td>PROJ</td>\n",
       "      <td>--</td>\n",
       "      <td>145</td>\n",
       "      <td>497</td>\n",
       "      <td>68</td>\n",
       "      <td>126</td>\n",
       "      <td>29</td>\n",
       "      <td>...</td>\n",
       "      <td>5</td>\n",
       "      <td>12</td>\n",
       "      <td>549</td>\n",
       "      <td>0.314</td>\n",
       "      <td>0.419</td>\n",
       "      <td>0.733</td>\n",
       "      <td>65</td>\n",
       "      <td>65</td>\n",
       "      <td>66</td>\n",
       "      <td>Nick Ahmed</td>\n",
       "    </tr>\n",
       "    <tr>\n",
       "      <th>4</th>\n",
       "      <td>albieoz01</td>\n",
       "      <td>2021</td>\n",
       "      <td>1</td>\n",
       "      <td>PROJ</td>\n",
       "      <td>--</td>\n",
       "      <td>132</td>\n",
       "      <td>529</td>\n",
       "      <td>87</td>\n",
       "      <td>148</td>\n",
       "      <td>33</td>\n",
       "      <td>...</td>\n",
       "      <td>3</td>\n",
       "      <td>4</td>\n",
       "      <td>573</td>\n",
       "      <td>0.330</td>\n",
       "      <td>0.474</td>\n",
       "      <td>0.804</td>\n",
       "      <td>86</td>\n",
       "      <td>82</td>\n",
       "      <td>83</td>\n",
       "      <td>Ozzie Albies</td>\n",
       "    </tr>\n",
       "  </tbody>\n",
       "</table>\n",
       "<p>5 rows × 30 columns</p>\n",
       "</div>"
      ],
      "text/plain": [
       "   player_id  year  stint team_id league_id    g   ab   r    h  double  ...  \\\n",
       "0  abreujo02  2021      1    PROJ        --  152  603  92  179      40  ...   \n",
       "1  adamsma01  2021      1    PROJ        --  113  303  39   72      15  ...   \n",
       "2  aguilje01  2021      1    PROJ        --  138  399  66  114      22  ...   \n",
       "3  ahmedni01  2021      1    PROJ        --  145  497  68  126      29  ...   \n",
       "4  albieoz01  2021      1    PROJ        --  132  529  87  148      33  ...   \n",
       "\n",
       "   sf  g_idp   pa    obp    slg    ops  t_rc  b_rc  s_rc     known_name  \n",
       "0   6     22  660  0.348  0.549  0.897   109   112   112     Jose Abreu  \n",
       "1   2      6  328  0.290  0.475  0.765    41    41    41     Matt Adams  \n",
       "2   9     14  463  0.365  0.514  0.879    74    75    75  Jesus Aguilar  \n",
       "3   5     12  549  0.314  0.419  0.733    65    65    66     Nick Ahmed  \n",
       "4   3      4  573  0.330  0.474  0.804    86    82    83   Ozzie Albies  \n",
       "\n",
       "[5 rows x 30 columns]"
      ]
     },
     "execution_count": 105,
     "metadata": {},
     "output_type": "execute_result"
    }
   ],
   "source": [
    "player_proj_data.head()"
   ]
  },
  {
   "cell_type": "markdown",
   "id": "sitting-vaccine",
   "metadata": {},
   "source": [
    "Taking a look at the resulting dataframe shows we have created a successful dataset to test with. Next we will need to not only import the datasets that we will test against but we will need to calculate Runs Created. Because the data from these projection systems are limited we will only be able to calculate the Stolen Base and Basic versions of Runs Created."
   ]
  },
  {
   "cell_type": "code",
   "execution_count": 106,
   "id": "together-vacation",
   "metadata": {},
   "outputs": [],
   "source": [
    "# 'Stolen Base' Runs Created\n",
    "def calc_fg_src(df):\n",
    "    SNG = df.H - df['2B'] - df['3B'] - df.HR\n",
    "    DBL = 2*df['2B']\n",
    "    TPL = 3*df['3B']\n",
    "    HR = 4*df.HR\n",
    "    TB = (SNG + DBL + TPL + HR)\n",
    "    calc_1 = (df.H + df.BB - df.CS)\n",
    "    calc_2 = .55 * df.SB\n",
    "    calc_3 = df.AB + df.BB\n",
    "    try:\n",
    "        return (((calc_1) * ((TB) + (calc_2))) / calc_3)\n",
    "    except ZeroDivisionError :\n",
    "        return 0\n",
    "\n",
    "# Basic Runs Created\n",
    "def calc_fg_brc(df):\n",
    "    SNG = df.H - df['2B'] - df['3B'] - df.HR\n",
    "    DB = 2*df['2B']\n",
    "    TP = 3*df['3B']\n",
    "    Hr = 4*df.HR\n",
    "    TB = (SNG + DB + TP + Hr)\n",
    "    calc_1 = (df.H + df.BB)\n",
    "    calc_2 = (df.AB + df.BB)\n",
    "    try:\n",
    "        return ((calc_1) * (TB) / (calc_2))\n",
    "    except ZeroDivisionError :\n",
    "        return 0"
   ]
  },
  {
   "cell_type": "code",
   "execution_count": 107,
   "id": "arbitrary-tragedy",
   "metadata": {},
   "outputs": [],
   "source": [
    "# read in ZiPs data\n",
    "zips_df = pd.read_csv('fg_zips.csv')\n",
    "# read in Streamer data\n",
    "stream_df = pd.read_csv('fg_stream.csv')\n",
    "# read in ATC data\n",
    "atc_df = pd.read_csv('fg_atc.csv')"
   ]
  },
  {
   "cell_type": "code",
   "execution_count": 108,
   "id": "hindu-picnic",
   "metadata": {},
   "outputs": [],
   "source": [
    "zips_df['b_RC'] = round(zips_df.apply(calc_fg_brc,axis=1))\n",
    "zips_df['s_RC'] = round(zips_df.apply(calc_fg_src,axis=1))"
   ]
  },
  {
   "cell_type": "code",
   "execution_count": 109,
   "id": "right-sussex",
   "metadata": {},
   "outputs": [],
   "source": [
    "stream_df['b_RC'] = round(stream_df.apply(calc_fg_brc,axis=1))\n",
    "stream_df['s_RC'] = round(stream_df.apply(calc_fg_src,axis=1))"
   ]
  },
  {
   "cell_type": "code",
   "execution_count": 110,
   "id": "assured-combine",
   "metadata": {},
   "outputs": [],
   "source": [
    "atc_df['b_RC'] = round(atc_df.apply(calc_fg_brc,axis=1))\n",
    "atc_df['s_RC'] = round(atc_df.apply(calc_fg_src,axis=1))"
   ]
  },
  {
   "cell_type": "code",
   "execution_count": 111,
   "id": "dynamic-rates",
   "metadata": {},
   "outputs": [],
   "source": [
    "zips_df.drop(['Team','H','2B','3B','HR','R','RBI','BB','SO','HBP','SB','CS','AVG','wOBA','Fld','BsR','WAR','ADP','playerid'],axis=1,inplace=True)"
   ]
  },
  {
   "cell_type": "code",
   "execution_count": 112,
   "id": "dramatic-cologne",
   "metadata": {},
   "outputs": [],
   "source": [
    "stream_df.drop(['Team','H','2B','3B','HR','R','RBI','BB','SO','HBP','SB','CS','-1','AVG','wOBA','-1.1','wRC+','Fld','BsR','-1.2','Off','Def','WAR','-1.3','ADP','playerid'],axis=1,inplace=True)"
   ]
  },
  {
   "cell_type": "code",
   "execution_count": 113,
   "id": "particular-garbage",
   "metadata": {},
   "outputs": [],
   "source": [
    "atc_df.drop(['Team','H','2B','3B','HR','R','RBI','BB','SO','SB','CS','AVG','wOBA','-1','InterSD','ADP','InterSK','IntraSD','playerid'],axis=1,inplace=True)"
   ]
  },
  {
   "cell_type": "markdown",
   "id": "governing-halifax",
   "metadata": {},
   "source": [
    "Now that the imported projection systems data is prepared, lets have a look at Alex Bregman across all systems including our own."
   ]
  },
  {
   "cell_type": "code",
   "execution_count": 114,
   "id": "corresponding-fossil",
   "metadata": {},
   "outputs": [
    {
     "data": {
      "text/html": [
       "<div>\n",
       "<style scoped>\n",
       "    .dataframe tbody tr th:only-of-type {\n",
       "        vertical-align: middle;\n",
       "    }\n",
       "\n",
       "    .dataframe tbody tr th {\n",
       "        vertical-align: top;\n",
       "    }\n",
       "\n",
       "    .dataframe thead th {\n",
       "        text-align: right;\n",
       "    }\n",
       "</style>\n",
       "<table border=\"1\" class=\"dataframe\">\n",
       "  <thead>\n",
       "    <tr style=\"text-align: right;\">\n",
       "      <th></th>\n",
       "      <th>player_id</th>\n",
       "      <th>year</th>\n",
       "      <th>stint</th>\n",
       "      <th>team_id</th>\n",
       "      <th>league_id</th>\n",
       "      <th>g</th>\n",
       "      <th>ab</th>\n",
       "      <th>r</th>\n",
       "      <th>h</th>\n",
       "      <th>double</th>\n",
       "      <th>...</th>\n",
       "      <th>sf</th>\n",
       "      <th>g_idp</th>\n",
       "      <th>pa</th>\n",
       "      <th>obp</th>\n",
       "      <th>slg</th>\n",
       "      <th>ops</th>\n",
       "      <th>t_rc</th>\n",
       "      <th>b_rc</th>\n",
       "      <th>s_rc</th>\n",
       "      <th>known_name</th>\n",
       "    </tr>\n",
       "  </thead>\n",
       "  <tbody>\n",
       "    <tr>\n",
       "      <th>38</th>\n",
       "      <td>bregmal01</td>\n",
       "      <td>2021</td>\n",
       "      <td>1</td>\n",
       "      <td>PROJ</td>\n",
       "      <td>--</td>\n",
       "      <td>148</td>\n",
       "      <td>539</td>\n",
       "      <td>94</td>\n",
       "      <td>152</td>\n",
       "      <td>41</td>\n",
       "      <td>...</td>\n",
       "      <td>5</td>\n",
       "      <td>11</td>\n",
       "      <td>638</td>\n",
       "      <td>0.386</td>\n",
       "      <td>0.525</td>\n",
       "      <td>0.911</td>\n",
       "      <td>114</td>\n",
       "      <td>107</td>\n",
       "      <td>108</td>\n",
       "      <td>Alex Bregman</td>\n",
       "    </tr>\n",
       "  </tbody>\n",
       "</table>\n",
       "<p>1 rows × 30 columns</p>\n",
       "</div>"
      ],
      "text/plain": [
       "    player_id  year  stint team_id league_id    g   ab   r    h  double  ...  \\\n",
       "38  bregmal01  2021      1    PROJ        --  148  539  94  152      41  ...   \n",
       "\n",
       "    sf  g_idp   pa    obp    slg    ops  t_rc  b_rc  s_rc    known_name  \n",
       "38   5     11  638  0.386  0.525  0.911   114   107   108  Alex Bregman  \n",
       "\n",
       "[1 rows x 30 columns]"
      ]
     },
     "execution_count": 114,
     "metadata": {},
     "output_type": "execute_result"
    }
   ],
   "source": [
    "player_proj_data[player_proj_data.known_name == 'Alex Bregman']"
   ]
  },
  {
   "cell_type": "code",
   "execution_count": 115,
   "id": "successful-society",
   "metadata": {},
   "outputs": [
    {
     "data": {
      "text/html": [
       "<div>\n",
       "<style scoped>\n",
       "    .dataframe tbody tr th:only-of-type {\n",
       "        vertical-align: middle;\n",
       "    }\n",
       "\n",
       "    .dataframe tbody tr th {\n",
       "        vertical-align: top;\n",
       "    }\n",
       "\n",
       "    .dataframe thead th {\n",
       "        text-align: right;\n",
       "    }\n",
       "</style>\n",
       "<table border=\"1\" class=\"dataframe\">\n",
       "  <thead>\n",
       "    <tr style=\"text-align: right;\">\n",
       "      <th></th>\n",
       "      <th>Name</th>\n",
       "      <th>G</th>\n",
       "      <th>PA</th>\n",
       "      <th>AB</th>\n",
       "      <th>OBP</th>\n",
       "      <th>SLG</th>\n",
       "      <th>OPS</th>\n",
       "      <th>b_RC</th>\n",
       "      <th>s_RC</th>\n",
       "    </tr>\n",
       "  </thead>\n",
       "  <tbody>\n",
       "    <tr>\n",
       "      <th>1</th>\n",
       "      <td>Alex Bregman</td>\n",
       "      <td>150</td>\n",
       "      <td>649</td>\n",
       "      <td>546</td>\n",
       "      <td>0.387</td>\n",
       "      <td>0.52</td>\n",
       "      <td>0.907</td>\n",
       "      <td>108.0</td>\n",
       "      <td>109.0</td>\n",
       "    </tr>\n",
       "  </tbody>\n",
       "</table>\n",
       "</div>"
      ],
      "text/plain": [
       "           Name    G   PA   AB    OBP   SLG    OPS   b_RC   s_RC\n",
       "1  Alex Bregman  150  649  546  0.387  0.52  0.907  108.0  109.0"
      ]
     },
     "execution_count": 115,
     "metadata": {},
     "output_type": "execute_result"
    }
   ],
   "source": [
    "zips_df[zips_df.Name == 'Alex Bregman']"
   ]
  },
  {
   "cell_type": "code",
   "execution_count": 116,
   "id": "excited-ethernet",
   "metadata": {},
   "outputs": [
    {
     "data": {
      "text/html": [
       "<div>\n",
       "<style scoped>\n",
       "    .dataframe tbody tr th:only-of-type {\n",
       "        vertical-align: middle;\n",
       "    }\n",
       "\n",
       "    .dataframe tbody tr th {\n",
       "        vertical-align: top;\n",
       "    }\n",
       "\n",
       "    .dataframe thead th {\n",
       "        text-align: right;\n",
       "    }\n",
       "</style>\n",
       "<table border=\"1\" class=\"dataframe\">\n",
       "  <thead>\n",
       "    <tr style=\"text-align: right;\">\n",
       "      <th></th>\n",
       "      <th>Name</th>\n",
       "      <th>G</th>\n",
       "      <th>PA</th>\n",
       "      <th>AB</th>\n",
       "      <th>OBP</th>\n",
       "      <th>SLG</th>\n",
       "      <th>OPS</th>\n",
       "      <th>b_RC</th>\n",
       "      <th>s_RC</th>\n",
       "    </tr>\n",
       "  </thead>\n",
       "  <tbody>\n",
       "    <tr>\n",
       "      <th>4</th>\n",
       "      <td>Alex Bregman</td>\n",
       "      <td>150</td>\n",
       "      <td>660</td>\n",
       "      <td>545</td>\n",
       "      <td>0.391</td>\n",
       "      <td>0.517</td>\n",
       "      <td>0.909</td>\n",
       "      <td>108.0</td>\n",
       "      <td>109.0</td>\n",
       "    </tr>\n",
       "  </tbody>\n",
       "</table>\n",
       "</div>"
      ],
      "text/plain": [
       "           Name    G   PA   AB    OBP    SLG    OPS   b_RC   s_RC\n",
       "4  Alex Bregman  150  660  545  0.391  0.517  0.909  108.0  109.0"
      ]
     },
     "execution_count": 116,
     "metadata": {},
     "output_type": "execute_result"
    }
   ],
   "source": [
    "stream_df[stream_df.Name == 'Alex Bregman']"
   ]
  },
  {
   "cell_type": "code",
   "execution_count": 117,
   "id": "behavioral-objective",
   "metadata": {},
   "outputs": [
    {
     "data": {
      "text/html": [
       "<div>\n",
       "<style scoped>\n",
       "    .dataframe tbody tr th:only-of-type {\n",
       "        vertical-align: middle;\n",
       "    }\n",
       "\n",
       "    .dataframe tbody tr th {\n",
       "        vertical-align: top;\n",
       "    }\n",
       "\n",
       "    .dataframe thead th {\n",
       "        text-align: right;\n",
       "    }\n",
       "</style>\n",
       "<table border=\"1\" class=\"dataframe\">\n",
       "  <thead>\n",
       "    <tr style=\"text-align: right;\">\n",
       "      <th></th>\n",
       "      <th>Name</th>\n",
       "      <th>G</th>\n",
       "      <th>PA</th>\n",
       "      <th>AB</th>\n",
       "      <th>OBP</th>\n",
       "      <th>SLG</th>\n",
       "      <th>OPS</th>\n",
       "      <th>b_RC</th>\n",
       "      <th>s_RC</th>\n",
       "    </tr>\n",
       "  </thead>\n",
       "  <tbody>\n",
       "    <tr>\n",
       "      <th>11</th>\n",
       "      <td>Alex Bregman</td>\n",
       "      <td>146</td>\n",
       "      <td>634</td>\n",
       "      <td>531</td>\n",
       "      <td>0.382</td>\n",
       "      <td>0.495</td>\n",
       "      <td>0.877</td>\n",
       "      <td>98.0</td>\n",
       "      <td>98.0</td>\n",
       "    </tr>\n",
       "  </tbody>\n",
       "</table>\n",
       "</div>"
      ],
      "text/plain": [
       "            Name    G   PA   AB    OBP    SLG    OPS  b_RC  s_RC\n",
       "11  Alex Bregman  146  634  531  0.382  0.495  0.877  98.0  98.0"
      ]
     },
     "execution_count": 117,
     "metadata": {},
     "output_type": "execute_result"
    }
   ],
   "source": [
    "atc_df[atc_df.Name == 'Alex Bregman']"
   ]
  },
  {
   "cell_type": "markdown",
   "id": "suited-monkey",
   "metadata": {},
   "source": [
    "It is worth noting here that our projections for Alex Bregman seem to come very close to other projection systems. However, a single projection comparison is not evidence of success. We will need to apply a function that can compare our system to others."
   ]
  },
  {
   "cell_type": "code",
   "execution_count": 118,
   "id": "inside-jones",
   "metadata": {},
   "outputs": [],
   "source": [
    "# compare input dataframe with projection dataframe\n",
    "def comp_data(i_df,p_df):\n",
    "    # Find the difference between input dataframe and projections\n",
    "    # Based on selected feature or column\n",
    "    def data_diff(data, proj, feat):\n",
    "        data_names = data.Name.unique()\n",
    "        \n",
    "        data_copy = data.copy()\n",
    "        proj_copy = proj.copy()\n",
    "        \n",
    "        pro_v_data = pd.DataFrame([], columns=['name'])\n",
    "        # Fro every name try to find the percent average\n",
    "        for z in data_names:\n",
    "            data_p = data_copy[data_copy.Name == z][feat].reset_index(drop=True)\n",
    "            proj_p = proj_copy[proj_copy.known_name == z][feat.lower()]\n",
    "            try:\n",
    "                diff = abs(data_p[0] - proj_p.item())\n",
    "                avg = (data_p[0] + proj_p.item()) / 2\n",
    "                pct = (diff / avg) * 100\n",
    "                pro_v_data = pro_v_data.append({'name': z,\n",
    "                                                feat + '_diff': round(pct,2)},ignore_index=True)\n",
    "            # Some players are either not included or the spelling is different\n",
    "            # Any value error will recieve a 999 entry so it may be filtered later\n",
    "            except ValueError:\n",
    "                pro_v_data = pro_v_data.append({'name': z, feat + '_diff': 999},ignore_index=True)\n",
    "        \n",
    "        return pro_v_data\n",
    "\n",
    "    compare_data = pd.DataFrame([], columns=['name'])\n",
    "\n",
    "    pro_column_names = i_df.columns\n",
    "    # for each column create a percent difference between input and projection\n",
    "    for n, c in enumerate(pro_column_names):\n",
    "        if n == 0:\n",
    "            pass\n",
    "        else:\n",
    "            diff_test = data_diff(i_df,p_df,c)\n",
    "            compare_data = pd.merge(compare_data, diff_test, how='right', on='name')\n",
    "\n",
    "    return compare_data"
   ]
  },
  {
   "cell_type": "markdown",
   "id": "laughing-minister",
   "metadata": {},
   "source": [
    "### Zips"
   ]
  },
  {
   "cell_type": "code",
   "execution_count": 119,
   "id": "unlike-reverse",
   "metadata": {},
   "outputs": [],
   "source": [
    "zips_compare = comp_data(zips_df,player_proj_data)"
   ]
  },
  {
   "cell_type": "code",
   "execution_count": 120,
   "id": "minus-general",
   "metadata": {},
   "outputs": [],
   "source": [
    "zips_compare = zips_compare[zips_compare.G_diff < 999]"
   ]
  },
  {
   "cell_type": "code",
   "execution_count": 121,
   "id": "literary-polyester",
   "metadata": {},
   "outputs": [],
   "source": [
    "zips_compare.reset_index(inplace=True,drop=True)"
   ]
  },
  {
   "cell_type": "code",
   "execution_count": 122,
   "id": "passive-shanghai",
   "metadata": {},
   "outputs": [
    {
     "data": {
      "text/html": [
       "<div>\n",
       "<style scoped>\n",
       "    .dataframe tbody tr th:only-of-type {\n",
       "        vertical-align: middle;\n",
       "    }\n",
       "\n",
       "    .dataframe tbody tr th {\n",
       "        vertical-align: top;\n",
       "    }\n",
       "\n",
       "    .dataframe thead th {\n",
       "        text-align: right;\n",
       "    }\n",
       "</style>\n",
       "<table border=\"1\" class=\"dataframe\">\n",
       "  <thead>\n",
       "    <tr style=\"text-align: right;\">\n",
       "      <th></th>\n",
       "      <th>name</th>\n",
       "      <th>G_diff</th>\n",
       "      <th>PA_diff</th>\n",
       "      <th>AB_diff</th>\n",
       "      <th>OBP_diff</th>\n",
       "      <th>SLG_diff</th>\n",
       "      <th>OPS_diff</th>\n",
       "      <th>b_RC_diff</th>\n",
       "      <th>s_RC_diff</th>\n",
       "    </tr>\n",
       "  </thead>\n",
       "  <tbody>\n",
       "    <tr>\n",
       "      <th>0</th>\n",
       "      <td>Mike Trout</td>\n",
       "      <td>0.00</td>\n",
       "      <td>0.34</td>\n",
       "      <td>0.21</td>\n",
       "      <td>2.35</td>\n",
       "      <td>4.40</td>\n",
       "      <td>3.56</td>\n",
       "      <td>7.41</td>\n",
       "      <td>8.13</td>\n",
       "    </tr>\n",
       "    <tr>\n",
       "      <th>1</th>\n",
       "      <td>Alex Bregman</td>\n",
       "      <td>1.34</td>\n",
       "      <td>1.71</td>\n",
       "      <td>1.29</td>\n",
       "      <td>0.26</td>\n",
       "      <td>0.96</td>\n",
       "      <td>0.44</td>\n",
       "      <td>0.93</td>\n",
       "      <td>0.92</td>\n",
       "    </tr>\n",
       "    <tr>\n",
       "      <th>2</th>\n",
       "      <td>Mookie Betts</td>\n",
       "      <td>3.46</td>\n",
       "      <td>3.16</td>\n",
       "      <td>2.77</td>\n",
       "      <td>2.93</td>\n",
       "      <td>2.06</td>\n",
       "      <td>2.42</td>\n",
       "      <td>7.79</td>\n",
       "      <td>7.59</td>\n",
       "    </tr>\n",
       "    <tr>\n",
       "      <th>3</th>\n",
       "      <td>Jose Ramirez</td>\n",
       "      <td>4.08</td>\n",
       "      <td>4.58</td>\n",
       "      <td>4.90</td>\n",
       "      <td>0.81</td>\n",
       "      <td>0.89</td>\n",
       "      <td>0.21</td>\n",
       "      <td>5.26</td>\n",
       "      <td>5.17</td>\n",
       "    </tr>\n",
       "    <tr>\n",
       "      <th>4</th>\n",
       "      <td>Cody Bellinger</td>\n",
       "      <td>3.26</td>\n",
       "      <td>3.29</td>\n",
       "      <td>2.89</td>\n",
       "      <td>1.65</td>\n",
       "      <td>2.04</td>\n",
       "      <td>1.88</td>\n",
       "      <td>6.45</td>\n",
       "      <td>7.27</td>\n",
       "    </tr>\n",
       "  </tbody>\n",
       "</table>\n",
       "</div>"
      ],
      "text/plain": [
       "             name  G_diff  PA_diff  AB_diff  OBP_diff  SLG_diff  OPS_diff  \\\n",
       "0      Mike Trout    0.00     0.34     0.21      2.35      4.40      3.56   \n",
       "1    Alex Bregman    1.34     1.71     1.29      0.26      0.96      0.44   \n",
       "2    Mookie Betts    3.46     3.16     2.77      2.93      2.06      2.42   \n",
       "3    Jose Ramirez    4.08     4.58     4.90      0.81      0.89      0.21   \n",
       "4  Cody Bellinger    3.26     3.29     2.89      1.65      2.04      1.88   \n",
       "\n",
       "   b_RC_diff  s_RC_diff  \n",
       "0       7.41       8.13  \n",
       "1       0.93       0.92  \n",
       "2       7.79       7.59  \n",
       "3       5.26       5.17  \n",
       "4       6.45       7.27  "
      ]
     },
     "execution_count": 122,
     "metadata": {},
     "output_type": "execute_result"
    }
   ],
   "source": [
    "zips_compare.head()"
   ]
  },
  {
   "cell_type": "code",
   "execution_count": 123,
   "id": "blind-christmas",
   "metadata": {},
   "outputs": [
    {
     "data": {
      "text/html": [
       "<div>\n",
       "<style scoped>\n",
       "    .dataframe tbody tr th:only-of-type {\n",
       "        vertical-align: middle;\n",
       "    }\n",
       "\n",
       "    .dataframe tbody tr th {\n",
       "        vertical-align: top;\n",
       "    }\n",
       "\n",
       "    .dataframe thead th {\n",
       "        text-align: right;\n",
       "    }\n",
       "</style>\n",
       "<table border=\"1\" class=\"dataframe\">\n",
       "  <thead>\n",
       "    <tr style=\"text-align: right;\">\n",
       "      <th></th>\n",
       "      <th>G_diff</th>\n",
       "      <th>PA_diff</th>\n",
       "      <th>AB_diff</th>\n",
       "      <th>OBP_diff</th>\n",
       "      <th>SLG_diff</th>\n",
       "      <th>OPS_diff</th>\n",
       "      <th>b_RC_diff</th>\n",
       "      <th>s_RC_diff</th>\n",
       "    </tr>\n",
       "  </thead>\n",
       "  <tbody>\n",
       "    <tr>\n",
       "      <th>count</th>\n",
       "      <td>286.000000</td>\n",
       "      <td>286.000000</td>\n",
       "      <td>286.000000</td>\n",
       "      <td>286.000000</td>\n",
       "      <td>286.000000</td>\n",
       "      <td>286.000000</td>\n",
       "      <td>286.000000</td>\n",
       "      <td>286.000000</td>\n",
       "    </tr>\n",
       "    <tr>\n",
       "      <th>mean</th>\n",
       "      <td>19.099301</td>\n",
       "      <td>24.020979</td>\n",
       "      <td>24.211818</td>\n",
       "      <td>7.133811</td>\n",
       "      <td>9.941224</td>\n",
       "      <td>8.471399</td>\n",
       "      <td>27.918566</td>\n",
       "      <td>27.952762</td>\n",
       "    </tr>\n",
       "    <tr>\n",
       "      <th>std</th>\n",
       "      <td>28.194567</td>\n",
       "      <td>35.518069</td>\n",
       "      <td>35.826599</td>\n",
       "      <td>8.269999</td>\n",
       "      <td>10.794969</td>\n",
       "      <td>9.299165</td>\n",
       "      <td>35.768935</td>\n",
       "      <td>35.538076</td>\n",
       "    </tr>\n",
       "    <tr>\n",
       "      <th>min</th>\n",
       "      <td>0.000000</td>\n",
       "      <td>0.180000</td>\n",
       "      <td>0.000000</td>\n",
       "      <td>0.000000</td>\n",
       "      <td>0.000000</td>\n",
       "      <td>0.000000</td>\n",
       "      <td>0.000000</td>\n",
       "      <td>0.000000</td>\n",
       "    </tr>\n",
       "    <tr>\n",
       "      <th>25%</th>\n",
       "      <td>3.695000</td>\n",
       "      <td>3.892500</td>\n",
       "      <td>3.907500</td>\n",
       "      <td>2.097500</td>\n",
       "      <td>3.000000</td>\n",
       "      <td>2.452500</td>\n",
       "      <td>6.655000</td>\n",
       "      <td>6.737500</td>\n",
       "    </tr>\n",
       "    <tr>\n",
       "      <th>50%</th>\n",
       "      <td>8.925000</td>\n",
       "      <td>9.870000</td>\n",
       "      <td>9.490000</td>\n",
       "      <td>4.755000</td>\n",
       "      <td>6.835000</td>\n",
       "      <td>5.980000</td>\n",
       "      <td>14.660000</td>\n",
       "      <td>15.075000</td>\n",
       "    </tr>\n",
       "    <tr>\n",
       "      <th>75%</th>\n",
       "      <td>18.330000</td>\n",
       "      <td>23.905000</td>\n",
       "      <td>24.630000</td>\n",
       "      <td>8.902500</td>\n",
       "      <td>13.375000</td>\n",
       "      <td>11.452500</td>\n",
       "      <td>31.240000</td>\n",
       "      <td>30.890000</td>\n",
       "    </tr>\n",
       "    <tr>\n",
       "      <th>max</th>\n",
       "      <td>155.560000</td>\n",
       "      <td>172.260000</td>\n",
       "      <td>169.230000</td>\n",
       "      <td>79.100000</td>\n",
       "      <td>98.070000</td>\n",
       "      <td>88.820000</td>\n",
       "      <td>182.610000</td>\n",
       "      <td>182.610000</td>\n",
       "    </tr>\n",
       "  </tbody>\n",
       "</table>\n",
       "</div>"
      ],
      "text/plain": [
       "           G_diff     PA_diff     AB_diff    OBP_diff    SLG_diff    OPS_diff  \\\n",
       "count  286.000000  286.000000  286.000000  286.000000  286.000000  286.000000   \n",
       "mean    19.099301   24.020979   24.211818    7.133811    9.941224    8.471399   \n",
       "std     28.194567   35.518069   35.826599    8.269999   10.794969    9.299165   \n",
       "min      0.000000    0.180000    0.000000    0.000000    0.000000    0.000000   \n",
       "25%      3.695000    3.892500    3.907500    2.097500    3.000000    2.452500   \n",
       "50%      8.925000    9.870000    9.490000    4.755000    6.835000    5.980000   \n",
       "75%     18.330000   23.905000   24.630000    8.902500   13.375000   11.452500   \n",
       "max    155.560000  172.260000  169.230000   79.100000   98.070000   88.820000   \n",
       "\n",
       "        b_RC_diff   s_RC_diff  \n",
       "count  286.000000  286.000000  \n",
       "mean    27.918566   27.952762  \n",
       "std     35.768935   35.538076  \n",
       "min      0.000000    0.000000  \n",
       "25%      6.655000    6.737500  \n",
       "50%     14.660000   15.075000  \n",
       "75%     31.240000   30.890000  \n",
       "max    182.610000  182.610000  "
      ]
     },
     "execution_count": 123,
     "metadata": {},
     "output_type": "execute_result"
    }
   ],
   "source": [
    "zips_compare.describe()"
   ]
  },
  {
   "cell_type": "code",
   "execution_count": 124,
   "id": "complicated-annotation",
   "metadata": {},
   "outputs": [
    {
     "data": {
      "text/plain": [
       "<seaborn.axisgrid.FacetGrid at 0x1754ef46220>"
      ]
     },
     "execution_count": 124,
     "metadata": {},
     "output_type": "execute_result"
    },
    {
     "data": {
      "image/png": "[encoded data removed]",
      "text/plain": [
       "<Figure size 360x360 with 1 Axes>"
      ]
     },
     "metadata": {},
     "output_type": "display_data"
    }
   ],
   "source": [
    "sns.displot(zips_compare['OPS_diff'],bins=18)"
   ]
  },
  {
   "cell_type": "markdown",
   "id": "numerical-mother",
   "metadata": {},
   "source": [
    "The function used for comparison creates a dataframe of statistics compared and populates the percent difference between our projection and another projection system. Looking at a comparison to ZiPs half of our data is within about 5% to 15% difference depending on the feature."
   ]
  },
  {
   "cell_type": "markdown",
   "id": "simplified-athletics",
   "metadata": {},
   "source": [
    "### Streamer"
   ]
  },
  {
   "cell_type": "code",
   "execution_count": 125,
   "id": "mounted-maple",
   "metadata": {},
   "outputs": [],
   "source": [
    "stream_compare = comp_data(stream_df,player_proj_data)"
   ]
  },
  {
   "cell_type": "code",
   "execution_count": 126,
   "id": "earlier-wallet",
   "metadata": {},
   "outputs": [],
   "source": [
    "stream_compare = stream_compare[stream_compare.G_diff < 999]"
   ]
  },
  {
   "cell_type": "code",
   "execution_count": 127,
   "id": "scenic-passenger",
   "metadata": {},
   "outputs": [],
   "source": [
    "stream_compare.reset_index(inplace=True,drop=True)"
   ]
  },
  {
   "cell_type": "code",
   "execution_count": 128,
   "id": "essential-recipient",
   "metadata": {},
   "outputs": [
    {
     "data": {
      "text/html": [
       "<div>\n",
       "<style scoped>\n",
       "    .dataframe tbody tr th:only-of-type {\n",
       "        vertical-align: middle;\n",
       "    }\n",
       "\n",
       "    .dataframe tbody tr th {\n",
       "        vertical-align: top;\n",
       "    }\n",
       "\n",
       "    .dataframe thead th {\n",
       "        text-align: right;\n",
       "    }\n",
       "</style>\n",
       "<table border=\"1\" class=\"dataframe\">\n",
       "  <thead>\n",
       "    <tr style=\"text-align: right;\">\n",
       "      <th></th>\n",
       "      <th>name</th>\n",
       "      <th>G_diff</th>\n",
       "      <th>PA_diff</th>\n",
       "      <th>AB_diff</th>\n",
       "      <th>OBP_diff</th>\n",
       "      <th>SLG_diff</th>\n",
       "      <th>OPS_diff</th>\n",
       "      <th>b_RC_diff</th>\n",
       "      <th>s_RC_diff</th>\n",
       "    </tr>\n",
       "  </thead>\n",
       "  <tbody>\n",
       "    <tr>\n",
       "      <th>0</th>\n",
       "      <td>Mike Trout</td>\n",
       "      <td>11.27</td>\n",
       "      <td>12.01</td>\n",
       "      <td>10.97</td>\n",
       "      <td>1.88</td>\n",
       "      <td>9.17</td>\n",
       "      <td>6.14</td>\n",
       "      <td>0.00</td>\n",
       "      <td>0.78</td>\n",
       "    </tr>\n",
       "    <tr>\n",
       "      <th>1</th>\n",
       "      <td>Mookie Betts</td>\n",
       "      <td>2.02</td>\n",
       "      <td>1.47</td>\n",
       "      <td>0.51</td>\n",
       "      <td>1.59</td>\n",
       "      <td>5.52</td>\n",
       "      <td>3.87</td>\n",
       "      <td>7.79</td>\n",
       "      <td>8.47</td>\n",
       "    </tr>\n",
       "    <tr>\n",
       "      <th>2</th>\n",
       "      <td>Alex Bregman</td>\n",
       "      <td>1.34</td>\n",
       "      <td>3.39</td>\n",
       "      <td>1.11</td>\n",
       "      <td>1.29</td>\n",
       "      <td>1.54</td>\n",
       "      <td>0.22</td>\n",
       "      <td>0.93</td>\n",
       "      <td>0.92</td>\n",
       "    </tr>\n",
       "    <tr>\n",
       "      <th>3</th>\n",
       "      <td>Corey Seager</td>\n",
       "      <td>11.35</td>\n",
       "      <td>12.43</td>\n",
       "      <td>10.62</td>\n",
       "      <td>2.75</td>\n",
       "      <td>3.19</td>\n",
       "      <td>3.01</td>\n",
       "      <td>16.43</td>\n",
       "      <td>16.43</td>\n",
       "    </tr>\n",
       "    <tr>\n",
       "      <th>4</th>\n",
       "      <td>Anthony Rendon</td>\n",
       "      <td>5.48</td>\n",
       "      <td>5.97</td>\n",
       "      <td>6.13</td>\n",
       "      <td>5.09</td>\n",
       "      <td>9.03</td>\n",
       "      <td>7.33</td>\n",
       "      <td>7.34</td>\n",
       "      <td>7.34</td>\n",
       "    </tr>\n",
       "  </tbody>\n",
       "</table>\n",
       "</div>"
      ],
      "text/plain": [
       "             name  G_diff  PA_diff  AB_diff  OBP_diff  SLG_diff  OPS_diff  \\\n",
       "0      Mike Trout   11.27    12.01    10.97      1.88      9.17      6.14   \n",
       "1    Mookie Betts    2.02     1.47     0.51      1.59      5.52      3.87   \n",
       "2    Alex Bregman    1.34     3.39     1.11      1.29      1.54      0.22   \n",
       "3    Corey Seager   11.35    12.43    10.62      2.75      3.19      3.01   \n",
       "4  Anthony Rendon    5.48     5.97     6.13      5.09      9.03      7.33   \n",
       "\n",
       "   b_RC_diff  s_RC_diff  \n",
       "0       0.00       0.78  \n",
       "1       7.79       8.47  \n",
       "2       0.93       0.92  \n",
       "3      16.43      16.43  \n",
       "4       7.34       7.34  "
      ]
     },
     "execution_count": 128,
     "metadata": {},
     "output_type": "execute_result"
    }
   ],
   "source": [
    "stream_compare.head()"
   ]
  },
  {
   "cell_type": "code",
   "execution_count": 129,
   "id": "authorized-munich",
   "metadata": {},
   "outputs": [
    {
     "data": {
      "text/html": [
       "<div>\n",
       "<style scoped>\n",
       "    .dataframe tbody tr th:only-of-type {\n",
       "        vertical-align: middle;\n",
       "    }\n",
       "\n",
       "    .dataframe tbody tr th {\n",
       "        vertical-align: top;\n",
       "    }\n",
       "\n",
       "    .dataframe thead th {\n",
       "        text-align: right;\n",
       "    }\n",
       "</style>\n",
       "<table border=\"1\" class=\"dataframe\">\n",
       "  <thead>\n",
       "    <tr style=\"text-align: right;\">\n",
       "      <th></th>\n",
       "      <th>G_diff</th>\n",
       "      <th>PA_diff</th>\n",
       "      <th>AB_diff</th>\n",
       "      <th>OBP_diff</th>\n",
       "      <th>SLG_diff</th>\n",
       "      <th>OPS_diff</th>\n",
       "      <th>b_RC_diff</th>\n",
       "      <th>s_RC_diff</th>\n",
       "    </tr>\n",
       "  </thead>\n",
       "  <tbody>\n",
       "    <tr>\n",
       "      <th>count</th>\n",
       "      <td>299.000000</td>\n",
       "      <td>299.000000</td>\n",
       "      <td>299.000000</td>\n",
       "      <td>299.000000</td>\n",
       "      <td>299.000000</td>\n",
       "      <td>299.000000</td>\n",
       "      <td>299.000000</td>\n",
       "      <td>299.000000</td>\n",
       "    </tr>\n",
       "    <tr>\n",
       "      <th>mean</th>\n",
       "      <td>71.594047</td>\n",
       "      <td>69.126689</td>\n",
       "      <td>68.989565</td>\n",
       "      <td>6.989632</td>\n",
       "      <td>9.911839</td>\n",
       "      <td>8.436722</td>\n",
       "      <td>72.697057</td>\n",
       "      <td>72.778495</td>\n",
       "    </tr>\n",
       "    <tr>\n",
       "      <th>std</th>\n",
       "      <td>77.039872</td>\n",
       "      <td>75.114694</td>\n",
       "      <td>75.095405</td>\n",
       "      <td>8.288629</td>\n",
       "      <td>10.437953</td>\n",
       "      <td>9.071140</td>\n",
       "      <td>76.768247</td>\n",
       "      <td>76.761398</td>\n",
       "    </tr>\n",
       "    <tr>\n",
       "      <th>min</th>\n",
       "      <td>0.000000</td>\n",
       "      <td>0.160000</td>\n",
       "      <td>0.000000</td>\n",
       "      <td>0.000000</td>\n",
       "      <td>0.000000</td>\n",
       "      <td>0.000000</td>\n",
       "      <td>0.000000</td>\n",
       "      <td>0.000000</td>\n",
       "    </tr>\n",
       "    <tr>\n",
       "      <th>25%</th>\n",
       "      <td>6.900000</td>\n",
       "      <td>9.250000</td>\n",
       "      <td>9.205000</td>\n",
       "      <td>1.880000</td>\n",
       "      <td>2.970000</td>\n",
       "      <td>2.675000</td>\n",
       "      <td>10.070000</td>\n",
       "      <td>9.740000</td>\n",
       "    </tr>\n",
       "    <tr>\n",
       "      <th>50%</th>\n",
       "      <td>28.850000</td>\n",
       "      <td>28.570000</td>\n",
       "      <td>28.400000</td>\n",
       "      <td>4.750000</td>\n",
       "      <td>6.950000</td>\n",
       "      <td>5.910000</td>\n",
       "      <td>29.920000</td>\n",
       "      <td>29.920000</td>\n",
       "    </tr>\n",
       "    <tr>\n",
       "      <th>75%</th>\n",
       "      <td>139.185000</td>\n",
       "      <td>132.115000</td>\n",
       "      <td>132.200000</td>\n",
       "      <td>8.720000</td>\n",
       "      <td>13.585000</td>\n",
       "      <td>11.660000</td>\n",
       "      <td>137.500000</td>\n",
       "      <td>140.285000</td>\n",
       "    </tr>\n",
       "    <tr>\n",
       "      <th>max</th>\n",
       "      <td>200.000000</td>\n",
       "      <td>199.330000</td>\n",
       "      <td>199.230000</td>\n",
       "      <td>77.540000</td>\n",
       "      <td>85.830000</td>\n",
       "      <td>81.710000</td>\n",
       "      <td>200.000000</td>\n",
       "      <td>200.000000</td>\n",
       "    </tr>\n",
       "  </tbody>\n",
       "</table>\n",
       "</div>"
      ],
      "text/plain": [
       "           G_diff     PA_diff     AB_diff    OBP_diff    SLG_diff    OPS_diff  \\\n",
       "count  299.000000  299.000000  299.000000  299.000000  299.000000  299.000000   \n",
       "mean    71.594047   69.126689   68.989565    6.989632    9.911839    8.436722   \n",
       "std     77.039872   75.114694   75.095405    8.288629   10.437953    9.071140   \n",
       "min      0.000000    0.160000    0.000000    0.000000    0.000000    0.000000   \n",
       "25%      6.900000    9.250000    9.205000    1.880000    2.970000    2.675000   \n",
       "50%     28.850000   28.570000   28.400000    4.750000    6.950000    5.910000   \n",
       "75%    139.185000  132.115000  132.200000    8.720000   13.585000   11.660000   \n",
       "max    200.000000  199.330000  199.230000   77.540000   85.830000   81.710000   \n",
       "\n",
       "        b_RC_diff   s_RC_diff  \n",
       "count  299.000000  299.000000  \n",
       "mean    72.697057   72.778495  \n",
       "std     76.768247   76.761398  \n",
       "min      0.000000    0.000000  \n",
       "25%     10.070000    9.740000  \n",
       "50%     29.920000   29.920000  \n",
       "75%    137.500000  140.285000  \n",
       "max    200.000000  200.000000  "
      ]
     },
     "execution_count": 129,
     "metadata": {},
     "output_type": "execute_result"
    }
   ],
   "source": [
    "stream_compare.describe()"
   ]
  },
  {
   "cell_type": "code",
   "execution_count": 130,
   "id": "sixth-proceeding",
   "metadata": {},
   "outputs": [
    {
     "data": {
      "text/plain": [
       "<seaborn.axisgrid.FacetGrid at 0x1754d90adc0>"
      ]
     },
     "execution_count": 130,
     "metadata": {},
     "output_type": "execute_result"
    },
    {
     "data": {
      "image/png": "[encoded data removed]",
      "text/plain": [
       "<Figure size 360x360 with 1 Axes>"
      ]
     },
     "metadata": {},
     "output_type": "display_data"
    }
   ],
   "source": [
    "sns.displot(stream_compare['OPS_diff'],bins=16)"
   ]
  },
  {
   "cell_type": "markdown",
   "id": "sound-federation",
   "metadata": {},
   "source": [
    "Comparing our data to Streamer, we can see half of our data falls between 6% and 30% difference depending on the feature."
   ]
  },
  {
   "cell_type": "markdown",
   "id": "trained-ratio",
   "metadata": {},
   "source": [
    "### ATC"
   ]
  },
  {
   "cell_type": "code",
   "execution_count": 131,
   "id": "random-landing",
   "metadata": {},
   "outputs": [],
   "source": [
    "atc_compare = comp_data(atc_df,player_proj_data)"
   ]
  },
  {
   "cell_type": "code",
   "execution_count": 132,
   "id": "raising-institution",
   "metadata": {},
   "outputs": [],
   "source": [
    "atc_compare = atc_compare[atc_compare.G_diff < 999]"
   ]
  },
  {
   "cell_type": "code",
   "execution_count": 133,
   "id": "involved-harvard",
   "metadata": {},
   "outputs": [],
   "source": [
    "atc_compare.reset_index(inplace=True,drop=True)"
   ]
  },
  {
   "cell_type": "code",
   "execution_count": 134,
   "id": "statutory-artwork",
   "metadata": {},
   "outputs": [
    {
     "data": {
      "text/html": [
       "<div>\n",
       "<style scoped>\n",
       "    .dataframe tbody tr th:only-of-type {\n",
       "        vertical-align: middle;\n",
       "    }\n",
       "\n",
       "    .dataframe tbody tr th {\n",
       "        vertical-align: top;\n",
       "    }\n",
       "\n",
       "    .dataframe thead th {\n",
       "        text-align: right;\n",
       "    }\n",
       "</style>\n",
       "<table border=\"1\" class=\"dataframe\">\n",
       "  <thead>\n",
       "    <tr style=\"text-align: right;\">\n",
       "      <th></th>\n",
       "      <th>name</th>\n",
       "      <th>G_diff</th>\n",
       "      <th>PA_diff</th>\n",
       "      <th>AB_diff</th>\n",
       "      <th>OBP_diff</th>\n",
       "      <th>SLG_diff</th>\n",
       "      <th>OPS_diff</th>\n",
       "      <th>b_RC_diff</th>\n",
       "      <th>s_RC_diff</th>\n",
       "    </tr>\n",
       "  </thead>\n",
       "  <tbody>\n",
       "    <tr>\n",
       "      <th>0</th>\n",
       "      <td>Mike Trout</td>\n",
       "      <td>10.60</td>\n",
       "      <td>9.60</td>\n",
       "      <td>10.59</td>\n",
       "      <td>3.07</td>\n",
       "      <td>4.07</td>\n",
       "      <td>3.66</td>\n",
       "      <td>3.12</td>\n",
       "      <td>1.55</td>\n",
       "    </tr>\n",
       "    <tr>\n",
       "      <th>1</th>\n",
       "      <td>Freddie Freeman</td>\n",
       "      <td>0.00</td>\n",
       "      <td>0.15</td>\n",
       "      <td>0.18</td>\n",
       "      <td>2.96</td>\n",
       "      <td>4.32</td>\n",
       "      <td>3.75</td>\n",
       "      <td>7.94</td>\n",
       "      <td>7.94</td>\n",
       "    </tr>\n",
       "    <tr>\n",
       "      <th>2</th>\n",
       "      <td>Christian Yelich</td>\n",
       "      <td>0.00</td>\n",
       "      <td>0.00</td>\n",
       "      <td>0.91</td>\n",
       "      <td>0.52</td>\n",
       "      <td>0.00</td>\n",
       "      <td>0.22</td>\n",
       "      <td>0.90</td>\n",
       "      <td>2.64</td>\n",
       "    </tr>\n",
       "    <tr>\n",
       "      <th>3</th>\n",
       "      <td>Bryce Harper</td>\n",
       "      <td>2.65</td>\n",
       "      <td>2.45</td>\n",
       "      <td>2.45</td>\n",
       "      <td>1.02</td>\n",
       "      <td>1.53</td>\n",
       "      <td>0.55</td>\n",
       "      <td>2.76</td>\n",
       "      <td>1.82</td>\n",
       "    </tr>\n",
       "    <tr>\n",
       "      <th>4</th>\n",
       "      <td>Mookie Betts</td>\n",
       "      <td>1.35</td>\n",
       "      <td>0.89</td>\n",
       "      <td>1.03</td>\n",
       "      <td>0.79</td>\n",
       "      <td>0.56</td>\n",
       "      <td>0.65</td>\n",
       "      <td>2.53</td>\n",
       "      <td>3.31</td>\n",
       "    </tr>\n",
       "  </tbody>\n",
       "</table>\n",
       "</div>"
      ],
      "text/plain": [
       "               name  G_diff  PA_diff  AB_diff  OBP_diff  SLG_diff  OPS_diff  \\\n",
       "0        Mike Trout   10.60     9.60    10.59      3.07      4.07      3.66   \n",
       "1   Freddie Freeman    0.00     0.15     0.18      2.96      4.32      3.75   \n",
       "2  Christian Yelich    0.00     0.00     0.91      0.52      0.00      0.22   \n",
       "3      Bryce Harper    2.65     2.45     2.45      1.02      1.53      0.55   \n",
       "4      Mookie Betts    1.35     0.89     1.03      0.79      0.56      0.65   \n",
       "\n",
       "   b_RC_diff  s_RC_diff  \n",
       "0       3.12       1.55  \n",
       "1       7.94       7.94  \n",
       "2       0.90       2.64  \n",
       "3       2.76       1.82  \n",
       "4       2.53       3.31  "
      ]
     },
     "execution_count": 134,
     "metadata": {},
     "output_type": "execute_result"
    }
   ],
   "source": [
    "atc_compare.head()"
   ]
  },
  {
   "cell_type": "code",
   "execution_count": 135,
   "id": "demographic-knowing",
   "metadata": {},
   "outputs": [
    {
     "data": {
      "text/html": [
       "<div>\n",
       "<style scoped>\n",
       "    .dataframe tbody tr th:only-of-type {\n",
       "        vertical-align: middle;\n",
       "    }\n",
       "\n",
       "    .dataframe tbody tr th {\n",
       "        vertical-align: top;\n",
       "    }\n",
       "\n",
       "    .dataframe thead th {\n",
       "        text-align: right;\n",
       "    }\n",
       "</style>\n",
       "<table border=\"1\" class=\"dataframe\">\n",
       "  <thead>\n",
       "    <tr style=\"text-align: right;\">\n",
       "      <th></th>\n",
       "      <th>G_diff</th>\n",
       "      <th>PA_diff</th>\n",
       "      <th>AB_diff</th>\n",
       "      <th>OBP_diff</th>\n",
       "      <th>SLG_diff</th>\n",
       "      <th>OPS_diff</th>\n",
       "      <th>b_RC_diff</th>\n",
       "      <th>s_RC_diff</th>\n",
       "    </tr>\n",
       "  </thead>\n",
       "  <tbody>\n",
       "    <tr>\n",
       "      <th>count</th>\n",
       "      <td>255.000000</td>\n",
       "      <td>255.000000</td>\n",
       "      <td>255.000000</td>\n",
       "      <td>255.000000</td>\n",
       "      <td>255.000000</td>\n",
       "      <td>255.000000</td>\n",
       "      <td>255.000000</td>\n",
       "      <td>255.000000</td>\n",
       "    </tr>\n",
       "    <tr>\n",
       "      <th>mean</th>\n",
       "      <td>36.493294</td>\n",
       "      <td>35.400235</td>\n",
       "      <td>35.385412</td>\n",
       "      <td>6.128980</td>\n",
       "      <td>8.422588</td>\n",
       "      <td>7.219333</td>\n",
       "      <td>40.071843</td>\n",
       "      <td>40.013765</td>\n",
       "    </tr>\n",
       "    <tr>\n",
       "      <th>std</th>\n",
       "      <td>45.805700</td>\n",
       "      <td>45.500582</td>\n",
       "      <td>45.247694</td>\n",
       "      <td>6.870587</td>\n",
       "      <td>9.233108</td>\n",
       "      <td>7.786748</td>\n",
       "      <td>48.722772</td>\n",
       "      <td>48.663473</td>\n",
       "    </tr>\n",
       "    <tr>\n",
       "      <th>min</th>\n",
       "      <td>0.000000</td>\n",
       "      <td>0.000000</td>\n",
       "      <td>0.000000</td>\n",
       "      <td>0.000000</td>\n",
       "      <td>0.000000</td>\n",
       "      <td>0.000000</td>\n",
       "      <td>0.000000</td>\n",
       "      <td>0.000000</td>\n",
       "    </tr>\n",
       "    <tr>\n",
       "      <th>25%</th>\n",
       "      <td>4.560000</td>\n",
       "      <td>5.065000</td>\n",
       "      <td>5.270000</td>\n",
       "      <td>1.970000</td>\n",
       "      <td>2.590000</td>\n",
       "      <td>2.270000</td>\n",
       "      <td>6.690000</td>\n",
       "      <td>6.900000</td>\n",
       "    </tr>\n",
       "    <tr>\n",
       "      <th>50%</th>\n",
       "      <td>14.060000</td>\n",
       "      <td>13.580000</td>\n",
       "      <td>13.840000</td>\n",
       "      <td>4.070000</td>\n",
       "      <td>5.300000</td>\n",
       "      <td>4.650000</td>\n",
       "      <td>18.180000</td>\n",
       "      <td>17.690000</td>\n",
       "    </tr>\n",
       "    <tr>\n",
       "      <th>75%</th>\n",
       "      <td>49.885000</td>\n",
       "      <td>45.485000</td>\n",
       "      <td>47.075000</td>\n",
       "      <td>7.595000</td>\n",
       "      <td>11.030000</td>\n",
       "      <td>9.495000</td>\n",
       "      <td>56.125000</td>\n",
       "      <td>55.870000</td>\n",
       "    </tr>\n",
       "    <tr>\n",
       "      <th>max</th>\n",
       "      <td>170.150000</td>\n",
       "      <td>168.590000</td>\n",
       "      <td>168.990000</td>\n",
       "      <td>46.980000</td>\n",
       "      <td>65.230000</td>\n",
       "      <td>54.370000</td>\n",
       "      <td>181.400000</td>\n",
       "      <td>178.180000</td>\n",
       "    </tr>\n",
       "  </tbody>\n",
       "</table>\n",
       "</div>"
      ],
      "text/plain": [
       "           G_diff     PA_diff     AB_diff    OBP_diff    SLG_diff    OPS_diff  \\\n",
       "count  255.000000  255.000000  255.000000  255.000000  255.000000  255.000000   \n",
       "mean    36.493294   35.400235   35.385412    6.128980    8.422588    7.219333   \n",
       "std     45.805700   45.500582   45.247694    6.870587    9.233108    7.786748   \n",
       "min      0.000000    0.000000    0.000000    0.000000    0.000000    0.000000   \n",
       "25%      4.560000    5.065000    5.270000    1.970000    2.590000    2.270000   \n",
       "50%     14.060000   13.580000   13.840000    4.070000    5.300000    4.650000   \n",
       "75%     49.885000   45.485000   47.075000    7.595000   11.030000    9.495000   \n",
       "max    170.150000  168.590000  168.990000   46.980000   65.230000   54.370000   \n",
       "\n",
       "        b_RC_diff   s_RC_diff  \n",
       "count  255.000000  255.000000  \n",
       "mean    40.071843   40.013765  \n",
       "std     48.722772   48.663473  \n",
       "min      0.000000    0.000000  \n",
       "25%      6.690000    6.900000  \n",
       "50%     18.180000   17.690000  \n",
       "75%     56.125000   55.870000  \n",
       "max    181.400000  178.180000  "
      ]
     },
     "execution_count": 135,
     "metadata": {},
     "output_type": "execute_result"
    }
   ],
   "source": [
    "atc_compare.describe()"
   ]
  },
  {
   "cell_type": "code",
   "execution_count": 136,
   "id": "floppy-bacon",
   "metadata": {},
   "outputs": [
    {
     "data": {
      "text/plain": [
       "<seaborn.axisgrid.FacetGrid at 0x1754d74a160>"
      ]
     },
     "execution_count": 136,
     "metadata": {},
     "output_type": "execute_result"
    },
    {
     "data": {
      "image/png": "[encoded data removed]",
      "text/plain": [
       "<Figure size 360x360 with 1 Axes>"
      ]
     },
     "metadata": {},
     "output_type": "display_data"
    }
   ],
   "source": [
    "sns.displot(atc_compare['OPS_diff'],bins=11)"
   ]
  },
  {
   "cell_type": "markdown",
   "id": "roman-genome",
   "metadata": {},
   "source": [
    "Finally, we compare our projections to ATC and find that 50% of our data falls between 4% and 18% difference depending on the feature."
   ]
  },
  {
   "cell_type": "markdown",
   "id": "controlling-kinase",
   "metadata": {},
   "source": [
    "## Conclusion"
   ]
  },
  {
   "cell_type": "markdown",
   "id": "united-pharmacology",
   "metadata": {},
   "source": [
    "We have created a projection system that provides predictions of a players batting performance and run creation for the 2021 season. Our testing compared ZiPs, Streamer, and the ATC Projection Systems datasets downloaded from FanGraphs to our own projections. We found that our predictions are quite close to that of ZiPs when sampling players with at least 4 seasons to evaluate, however, this does not necessarily reflect the total accuracy of our method rather only demonstrates our methods potential.\n",
    "\n",
    "Discrepancies found between our method and that of ZiPs, and any other system, are due to the use of age adjustments and weighted averages. While the point of this notebook was not to recreate ZiPs or any other projection system we can say that our use of estimations and Linear Regression have provided a valid method of projecting a players potential statistics and providing insightful evaluations. I think its worth noting that any difference between our calculations and other projection systems does not completely invalidate our predictions. Any difference measured suggests that if we where to include weighted averages and apply age adjustments along with live game data, we could create projections and evaluations just as accurate (or more accurate) as any other system."
   ]
  }
 ],
 "metadata": {
  "interpreter": {
   "hash": "c34dbd1406371b325c6cfdb900fd1c7bad832ba5356cf42d9c28423b5e41ee59"
  },
  "kernelspec": {
   "display_name": "Python 3",
   "language": "python",
   "name": "python3"
  },
  "language_info": {
   "codemirror_mode": {
    "name": "ipython",
    "version": 3
   },
   "file_extension": ".py",
   "mimetype": "text/x-python",
   "name": "python",
   "nbconvert_exporter": "python",
   "pygments_lexer": "ipython3",
   "version": "3.8.3"
  }
 },
 "nbformat": 4,
 "nbformat_minor": 5
}
